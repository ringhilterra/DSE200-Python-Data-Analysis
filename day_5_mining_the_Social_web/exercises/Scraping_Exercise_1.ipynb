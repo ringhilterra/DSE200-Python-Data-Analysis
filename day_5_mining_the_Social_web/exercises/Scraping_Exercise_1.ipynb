{
 "cells": [
  {
   "cell_type": "markdown",
   "metadata": {},
   "source": [
    "### Scraping MLB stats from ESPN go###"
   ]
  },
  {
   "cell_type": "markdown",
   "metadata": {},
   "source": [
    "In this homework we will try to analyze the batting performances of different teams in Major League Baseball using the data available in the following link http://espn.go.com/mlb/stats/team/_/stat/batting "
   ]
  },
  {
   "cell_type": "markdown",
   "metadata": {},
   "source": [
    "We will first scrape the page corresponding to the 2015 season "
   ]
  },
  {
   "cell_type": "code",
   "execution_count": 2,
   "metadata": {
    "collapsed": false
   },
   "outputs": [],
   "source": [
    "url=\"http://espn.go.com/mlb/stats/team/_/stat/batting/year/2015\""
   ]
  },
  {
   "cell_type": "markdown",
   "metadata": {},
   "source": [
    "We will now scrape the table found in the above link. You can follow the class notebook to understand how to capture html table tags.\n",
    "\n",
    "Q1) Write a function which will take the above url and return a pandas dataframe corresponding to the table found in the given link. "
   ]
  },
  {
   "cell_type": "code",
   "execution_count": 4,
   "metadata": {
    "collapsed": false,
    "scrolled": true
   },
   "outputs": [
    {
     "data": {
      "text/plain": [
       "'<!DOCTYPE html>\\n<html xmlns:fb=\"http://www.facebook.com/2008/fbml\">\\n<head><script src=\"http://sports-ak.espn.go.com/sports/optimizely.js\"></script><meta charset=\"iso-8859-1\">\\n<meta http-equiv=\"X-UA-Compatible\" content=\"IE=edge,chrome=1\">\\n<link rel=\"icon\" sizes=\"any\" mask href=\"http://a.espncdn.com/prod/assets/icons/E.svg\">\\n<meta name=\"theme-color\" content=\"#CC0000\">\\n<script type=\"text/javascript\">    \\n    if(true && navigator && navigator.userAgent.toLowerCase().indexOf(\"teamstream\") >= 0) {\\n   '"
      ]
     },
     "execution_count": 4,
     "metadata": {},
     "output_type": "execute_result"
    }
   ],
   "source": [
    "import requests\n",
    "import lxml.html as lh\n",
    "\n",
    "page = requests.get(url)\n",
    "doc = lh.fromstring(page.content)\n",
    "page.content[:500]"
   ]
  },
  {
   "cell_type": "code",
   "execution_count": 10,
   "metadata": {
    "collapsed": false
   },
   "outputs": [
    {
     "data": {
      "text/plain": [
       "'1,15,15,15,15,15,15,15,15,15,15,15,15,15,15,15,15,15,15,15,15,15,15,15,15,15,15,15,15,15,15,15,14,14,14,14'"
      ]
     },
     "execution_count": 10,
     "metadata": {},
     "output_type": "execute_result"
    }
   ],
   "source": [
    "tr_elements = doc.xpath('//tr')\n",
    "','.join([str(len(T)) for T in tr_elements[:]])"
   ]
  },
  {
   "cell_type": "code",
   "execution_count": 14,
   "metadata": {
    "collapsed": false,
    "scrolled": true
   },
   "outputs": [
    {
     "name": "stdout",
     "output_type": "stream",
     "text": [
      "1:\"1\"\n",
      "2:\"Toronto\"\n",
      "3:\"162\"\n",
      "4:\"5509\"\n",
      "5:\"891\"\n",
      "6:\"1480\"\n",
      "7:\"308\"\n",
      "8:\"17\"\n",
      "9:\"232\"\n",
      "10:\"2518\"\n",
      "11:\"852\"\n",
      "12:\".269\"\n",
      "13:\".340\"\n",
      "14:\".457\"\n",
      "15:\".797\"\n"
     ]
    }
   ],
   "source": [
    "T=tr_elements[2]\n",
    "i=0;\n",
    "for t in T.iterchildren():\n",
    "    i+=1\n",
    "    name=t.text_content()\n",
    "    print '%d:\"%s\"'%(i,name)"
   ]
  },
  {
   "cell_type": "code",
   "execution_count": 31,
   "metadata": {
    "collapsed": false
   },
   "outputs": [
    {
     "name": "stdout",
     "output_type": "stream",
     "text": [
      "<class 'lxml.html.HtmlElement'>\n",
      "15\n",
      "1:\"RK\"\n",
      "2:\"TEAM\"\n",
      "3:\"GP\"\n",
      "4:\"AB\"\n",
      "5:\"R\"\n",
      "6:\"H\"\n",
      "7:\"2B\"\n",
      "8:\"3B\"\n",
      "9:\"HR\"\n",
      "10:\"TB\"\n",
      "11:\"RBI\"\n",
      "12:\"AVG\"\n",
      "13:\"OBP\"\n",
      "14:\"SLG\"\n",
      "15:\"OPS\"\n",
      "the columns are: [('RK', []), ('TEAM', []), ('GP', []), ('AB', []), ('R', []), ('H', []), ('2B', []), ('3B', []), ('HR', []), ('TB', []), ('RBI', []), ('AVG', []), ('OBP', []), ('SLG', []), ('OPS', [])]\n"
     ]
    }
   ],
   "source": [
    "col=[]  # collect column names into col\n",
    "T=tr_elements[1]\n",
    "print type(T)\n",
    "i=0\n",
    "print len(T)\n",
    "for t in T.iterchildren():\n",
    "    i+=1\n",
    "    name=t.text_content()\n",
    "    print '%d:\"%s\"'%(i,name)\n",
    "    col.append((name,[]))\n",
    "\n",
    "print 'the columns are:',col"
   ]
  },
  {
   "cell_type": "code",
   "execution_count": 32,
   "metadata": {
    "collapsed": false
   },
   "outputs": [
    {
     "name": "stdout",
     "output_type": "stream",
     "text": [
      "15\n"
     ]
    },
    {
     "data": {
      "text/plain": [
       "'this'"
      ]
     },
     "execution_count": 32,
     "metadata": {},
     "output_type": "execute_result"
    }
   ],
   "source": [
    "format=[int,str,int,int,int,int,int,int,int,int,int,float,float,float,float]\n",
    "print len(format)\n",
    "format[1]('this')"
   ]
  },
  {
   "cell_type": "code",
   "execution_count": 33,
   "metadata": {
    "collapsed": false
   },
   "outputs": [
    {
     "name": "stdout",
     "output_type": "stream",
     "text": [
      "Toronto\n",
      "NY Yankees\n",
      "Texas\n",
      "Boston\n",
      "Colorado\n",
      "Houston\n",
      "Kansas City\n",
      "Arizona\n",
      "Baltimore\n",
      "Washington\n",
      "Pittsburgh\n",
      "Minnesota\n",
      "San Francisco\n",
      "Oakland\n",
      "Detroit\n",
      "Chicago Cubs\n",
      "NY Mets\n",
      "Cleveland\n",
      "LA Dodgers\n",
      "LA Angels\n",
      "Seattle\n",
      "Milwaukee\n",
      "San Diego\n",
      "St. Louis\n",
      "Tampa Bay\n",
      "Cincinnati\n",
      "Philadelphia\n",
      "Chicago Sox\n",
      "Miami\n",
      "Atlanta\n",
      "break\n"
     ]
    }
   ],
   "source": [
    "#30\tAtlanta\t162\t5420\t573\t1361\t251\t18\t100\t1948\t548\t.251\t.314\t.359\t.674\n",
    "for j in range(2,len(tr_elements)):\n",
    "    T=tr_elements[j]\n",
    "    if len(T)!=15:\n",
    "        print 'break'\n",
    "        break\n",
    "    i=0\n",
    "    for t in T.iterchildren():\n",
    "        data=t.text_content()\n",
    "        try:      \n",
    "            data=format[i](data)\n",
    "        except:\n",
    "            print data,'cannot be converted to float, row,col=',j,i\n",
    "            data=None\n",
    "        col[i][1].append(data)\n",
    "        if i==1:\n",
    "            print data\n",
    "        i+=1"
   ]
  },
  {
   "cell_type": "code",
   "execution_count": 36,
   "metadata": {
    "collapsed": false
   },
   "outputs": [
    {
     "data": {
      "text/plain": [
       "[308,\n",
       " 272,\n",
       " 279,\n",
       " 294,\n",
       " 274,\n",
       " 278,\n",
       " 300,\n",
       " 289,\n",
       " 246,\n",
       " 265,\n",
       " 292,\n",
       " 277,\n",
       " 288,\n",
       " 277,\n",
       " 289,\n",
       " 272,\n",
       " 295,\n",
       " 303,\n",
       " 263,\n",
       " 243,\n",
       " 262,\n",
       " 274,\n",
       " 260,\n",
       " 288,\n",
       " 278,\n",
       " 257,\n",
       " 272,\n",
       " 260,\n",
       " 236,\n",
       " 251]"
      ]
     },
     "execution_count": 36,
     "metadata": {},
     "output_type": "execute_result"
    }
   ],
   "source": [
    "col[6][1]"
   ]
  },
  {
   "cell_type": "code",
   "execution_count": 34,
   "metadata": {
    "collapsed": false
   },
   "outputs": [
    {
     "data": {
      "text/plain": [
       "[30, 30, 30, 30, 30, 30, 30, 30, 30, 30, 30, 30, 30, 30, 30]"
      ]
     },
     "execution_count": 34,
     "metadata": {},
     "output_type": "execute_result"
    }
   ],
   "source": [
    "[len(c[1]) for c in col]"
   ]
  },
  {
   "cell_type": "code",
   "execution_count": 3,
   "metadata": {
    "collapsed": false
   },
   "outputs": [],
   "source": [
    "def SCRAPE_ESPN_MLB_STATS(url):\n",
    "    raise \"TODO\""
   ]
  },
  {
   "cell_type": "markdown",
   "metadata": {},
   "source": [
    "Run the above function to scrape season 2015 stats."
   ]
  },
  {
   "cell_type": "code",
   "execution_count": null,
   "metadata": {
    "collapsed": true
   },
   "outputs": [],
   "source": [
    "df_2015 = SCRAPE_ESPN_MLB_STATS(url)"
   ]
  },
  {
   "cell_type": "markdown",
   "metadata": {
    "collapsed": true
   },
   "source": [
    "We will now produce plots analyzing performance of different teams on different statistical parameters\n",
    "\n",
    "Q2) Write a function which will take the above dataframe and a list of column names as input and produces a set of plots corresponding to each of the column names provided"
   ]
  },
  {
   "cell_type": "code",
   "execution_count": null,
   "metadata": {
    "collapsed": true
   },
   "outputs": [],
   "source": [
    "def produce_plots(df, col_names):\n",
    "    raise \"TODO\""
   ]
  },
  {
   "cell_type": "markdown",
   "metadata": {},
   "source": [
    "Call the above function for the columns\n",
    "\n",
    "1. HR: Home Runs\n",
    "2. TB: Total Bases\n",
    "3. RBI: Runs Batted In\n",
    "\n",
    "Q3) We will now use the above functions to scrape for more seasons and analyze the performances over a period of 6 years from 2010-2015"
   ]
  },
  {
   "cell_type": "code",
   "execution_count": null,
   "metadata": {
    "collapsed": true
   },
   "outputs": [],
   "source": [
    "dfs={}\n",
    "for year in xrange(0,6):\n",
    "    link = 'http://espn.go.com/mlb/stats/team/_/stat/batting/year/201'+str(year)\n",
    "    dfs[year]=SCRAPE_ESPN_MLB_STATS(link)"
   ]
  },
  {
   "cell_type": "markdown",
   "metadata": {},
   "source": [
    "Inorder to analyze performance of teams across seasons, we will need all the data in a single dataframe. \n",
    "\n",
    "Q4) Use appropriate pandas functions to combine the above dictionary of year:dataframe to produce one dataframe which has a new column corresponding to the year/season "
   ]
  },
  {
   "cell_type": "code",
   "execution_count": null,
   "metadata": {
    "collapsed": false
   },
   "outputs": [],
   "source": [
    "combined_df = #combine dfs dictionary with a new column for year"
   ]
  },
  {
   "cell_type": "markdown",
   "metadata": {},
   "source": [
    "Q5) Now write a function which will take the above dataframe and a list of column names and produces a set of plots corresponding to each of the columns provided. Each plot is a set of subplots, where every subplot is a line graph of the column values over the 6 years for each of the teams in the dataframe."
   ]
  },
  {
   "cell_type": "code",
   "execution_count": null,
   "metadata": {
    "collapsed": true
   },
   "outputs": [],
   "source": [
    "def produce_plots_over_seasons(combined_df, col_names):\n",
    "    raise \"TODO\""
   ]
  },
  {
   "cell_type": "markdown",
   "metadata": {},
   "source": [
    "Call the above function for the columns \n",
    "\n",
    "1. HR: Home Runs\n",
    "2. TB: Total Bases\n",
    "3. RBI: Runs Batted In"
   ]
  },
  {
   "cell_type": "code",
   "execution_count": null,
   "metadata": {
    "collapsed": true
   },
   "outputs": [],
   "source": []
  }
 ],
 "metadata": {
  "kernelspec": {
   "display_name": "Python 2",
   "language": "python",
   "name": "python2"
  },
  "language_info": {
   "codemirror_mode": {
    "name": "ipython",
    "version": 2
   },
   "file_extension": ".py",
   "mimetype": "text/x-python",
   "name": "python",
   "nbconvert_exporter": "python",
   "pygments_lexer": "ipython2",
   "version": "2.7.10"
  }
 },
 "nbformat": 4,
 "nbformat_minor": 0
}
