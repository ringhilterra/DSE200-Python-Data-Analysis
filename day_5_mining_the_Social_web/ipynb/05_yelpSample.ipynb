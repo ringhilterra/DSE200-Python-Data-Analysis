{
 "cells": [
  {
   "cell_type": "code",
   "execution_count": 3,
   "metadata": {},
   "outputs": [
    {
     "name": "stdout",
     "output_type": "stream",
     "text": [
      "Traceback (most recent call last):\r\n",
      "  File \"yelpSample.py\", line 43, in <module>\r\n",
      "    import yelpCreds\r\n",
      "ImportError: No module named yelpCreds\r\n"
     ]
    }
   ],
   "source": [
    "# get some help\n",
    "!python yelpSample.py -h"
   ]
  },
  {
   "cell_type": "code",
   "execution_count": 4,
   "metadata": {},
   "outputs": [
    {
     "name": "stdout",
     "output_type": "stream",
     "text": [
      "Traceback (most recent call last):\r\n",
      "  File \"yelpSample.py\", line 43, in <module>\r\n",
      "    import yelpCreds\r\n",
      "ImportError: No module named yelpCreds\r\n"
     ]
    }
   ],
   "source": [
    "!python yelpSample.py --term=\"sushi ota\" --location=\"La Jolla, CA\""
   ]
  },
  {
   "cell_type": "markdown",
   "metadata": {},
   "source": [
    "#### excercise\n",
    "\n",
    "Write a script that returns a web page that contains all of the information about a single restaurant, including the larger images (not starts, for example)."
   ]
  },
  {
   "cell_type": "code",
   "execution_count": null,
   "metadata": {
    "collapsed": true
   },
   "outputs": [],
   "source": []
  }
 ],
 "metadata": {
  "anaconda-cloud": {},
  "kernelspec": {
   "display_name": "Python [Root]",
   "language": "python",
   "name": "Python [Root]"
  },
  "language_info": {
   "codemirror_mode": {
    "name": "ipython",
    "version": 2
   },
   "file_extension": ".py",
   "mimetype": "text/x-python",
   "name": "python",
   "nbconvert_exporter": "python",
   "pygments_lexer": "ipython2",
   "version": "2.7.13"
  }
 },
 "nbformat": 4,
 "nbformat_minor": 1
}
