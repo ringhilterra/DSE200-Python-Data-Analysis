{
 "cells": [
  {
   "cell_type": "markdown",
   "metadata": {},
   "source": [
    "## The Yelp API\n",
    "\n",
    "### Getting yelp credentials\n",
    "1. To get the yelp credentials you need to first have a Yelp Account.\n",
    "2. Once you have a yelp account, got to the [API management page](https://www.yelp.com/developers/v3/manage_app), create a new app, and you'll get a **Client ID** and a **Client Secret** store those in a safe place on your computer (not on github!)\n",
    "\n",
    "### Installing the Python bridge\n",
    "* Clone [this](https://github.com/Yelp/yelp-fusion) github repository.\n",
    "* Go to the subdirectory **yelp-fusion/fusion/python** \n",
    "* Install the requirements: 'pip install -r requirements.txt'\n",
    "* Open the file **sample.py** in an editor and insert your credentials instead of the `None` elements in the lines:\n",
    "```python\n",
    "# OAuth credential placeholders that must be filled in by users.\n",
    "# You can find them on\n",
    "# https://www.yelp.com/developers/v3/manage_app\n",
    "CLIENT_ID = None\n",
    "CLIENT_SECRET = None\n",
    "```\n",
    "* Follow the directions given in this [README](https://github.com/Yelp/yelp-fusion/blob/master/fusion/python/README.md)"
   ]
  },
  {
   "cell_type": "markdown",
   "metadata": {},
   "source": [
    "## Example run\n",
    "Once the installation is complete, run the command:\n",
    "```bash\n",
    "python sample.py --term=\"bars\" --location=\"Hoboken, NJ\"\n",
    "```"
   ]
  },
  {
   "cell_type": "markdown",
   "metadata": {},
   "source": [
    "The result should be\n",
    "```\n",
    "Querying https://api.yelp.com/v3/businesses/search ...\n",
    "3 businesses found, querying business info for the top result \"coopers-union-hoboken\" ...\n",
    "Querying https://api.yelp.com/v3/businesses/coopers-union-hoboken ...\n",
    "Result for business \"coopers-union-hoboken\" found:\n",
    "{ u'categories': [ { u'alias': u'bars', u'title': u'Bars'},\n",
    "                   { u'alias': u'tradamerican',\n",
    "                     u'title': u'American (Traditional)'}],\n",
    "  u'coordinates': { u'latitude': 40.7375282, u'longitude': -74.0300462},\n",
    "  u'display_phone': u'(201) 222-3443',\n",
    "  u'hours': [ { u'hours_type': u'REGULAR',\n",
    "                u'is_open_now': True,\n",
    "                u'open': [ { u'day': 0,\n",
    "                             u'end': u'0200',\n",
    "                             u'is_overnight': True,\n",
    "                             u'start': u'1600'},\n",
    "                           { u'day': 1,\n",
    "                             u'end': u'0200',\n",
    "                             u'is_overnight': True,\n",
    "                             u'start': u'1600'},\n",
    "                           { u'day': 2,\n",
    "                             u'end': u'0200',\n",
    "                             u'is_overnight': True,\n",
    "                             u'start': u'1600'},\n",
    "                           { u'day': 3,\n",
    "                             u'end': u'0200',\n",
    "                             u'is_overnight': True,\n",
    "                             u'start': u'1600'},\n",
    "                           { u'day': 4,\n",
    "                             u'end': u'0300',\n",
    "                             u'is_overnight': True,\n",
    "                             u'start': u'1600'},\n",
    "                           { u'day': 5,\n",
    "                             u'end': u'0300',\n",
    "                             u'is_overnight': True,\n",
    "                             u'start': u'1100'},\n",
    "                           { u'day': 6,\n",
    "                             u'end': u'0200',\n",
    "                             u'is_overnight': True,\n",
    "                             u'start': u'1100'}]}],\n",
    "  u'id': u'coopers-union-hoboken',\n",
    "  u'image_url': u'https://s3-media2.fl.yelpcdn.com/bphoto/uUsCunlEBfcw4d9eHr7ygg/o.jpg',\n",
    "  u'is_claimed': True,\n",
    "  u'is_closed': False,\n",
    "  u'location': { u'address1': u'104 Hudson St',\n",
    "                 u'address2': u'',\n",
    "                 u'address3': u'',\n",
    "                 u'city': u'Hoboken',\n",
    "                 u'country': u'US',\n",
    "                 u'cross_streets': u'',\n",
    "                 u'display_address': [u'104 Hudson St', u'Hoboken, NJ 07030'],\n",
    "                 u'state': u'NJ',\n",
    "                 u'zip_code': u'07030'},\n",
    "  u'name': u\"Cooper's Union\",\n",
    "  u'phone': u'+12012223443',\n",
    "  u'photos': [ u'https://s3-media2.fl.yelpcdn.com/bphoto/uUsCunlEBfcw4d9eHr7ygg/o.jpg',\n",
    "               u'https://s3-media2.fl.yelpcdn.com/bphoto/8cod0uhoKuIcywH-olQqvQ/o.jpg',\n",
    "               u'https://s3-media2.fl.yelpcdn.com/bphoto/d8SM489JI0izd473OJCdaw/o.jpg'],\n",
    "  u'price': u'$$',\n",
    "  u'rating': 4.0,\n",
    "  u'review_count': 132,\n",
    "  u'transactions': [],\n",
    "  u'url': u'https://www.yelp.com/biz/coopers-union-hoboken?adjust_creative=C_fHxi-mhST8nW_K8I_BfQ&utm_campaign=yelp_api_v3&utm_medium=api_v3_business_lookup&utm_source=C_fHxi-mhST8nW_K8I_BfQ'}\n",
    "```"
   ]
  },
  {
   "cell_type": "markdown",
   "metadata": {},
   "source": [
    "### more\n",
    "For other types of searches see [the API page](https://www.yelp.com/developers/documentation/v3)"
   ]
  },
  {
   "cell_type": "code",
   "execution_count": null,
   "metadata": {
    "scrolled": true
   },
   "outputs": [],
   "source": [
    "!python ../../../yelp-fusion/fusion/python/sample.py --term=\"bars\" --location=\"Hoboken, NJ\""
   ]
  },
  {
   "cell_type": "code",
   "execution_count": null,
   "metadata": {
    "collapsed": true
   },
   "outputs": [],
   "source": []
  }
 ],
 "metadata": {
  "anaconda-cloud": {},
  "kernelspec": {
   "display_name": "Python [Root]",
   "language": "python",
   "name": "Python [Root]"
  },
  "language_info": {
   "codemirror_mode": {
    "name": "ipython",
    "version": 2
   },
   "file_extension": ".py",
   "mimetype": "text/x-python",
   "name": "python",
   "nbconvert_exporter": "python",
   "pygments_lexer": "ipython2",
   "version": "2.7.13"
  },
  "toc": {
   "colors": {
    "hover_highlight": "#DAA520",
    "navigate_num": "#000000",
    "navigate_text": "#333333",
    "running_highlight": "#FF0000",
    "selected_highlight": "#FFD700",
    "sidebar_border": "#EEEEEE",
    "wrapper_background": "#FFFFFF"
   },
   "moveMenuLeft": true,
   "nav_menu": {
    "height": "104px",
    "width": "252px"
   },
   "navigate_menu": true,
   "number_sections": true,
   "sideBar": true,
   "threshold": 4,
   "toc_cell": false,
   "toc_section_display": "block",
   "toc_window_display": false,
   "widenNotebook": false
  }
 },
 "nbformat": 4,
 "nbformat_minor": 2
}
