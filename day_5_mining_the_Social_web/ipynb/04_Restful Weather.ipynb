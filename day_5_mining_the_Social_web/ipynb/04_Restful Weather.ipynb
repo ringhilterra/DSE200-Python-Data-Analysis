{
 "cells": [
  {
   "cell_type": "markdown",
   "metadata": {},
   "source": [
    "# Restful Open Weathermap API\n",
    "\n",
    "In this notebook, we retrieve the hourly temperatue of san diego over 2013 and plot it.  We use the restful API for openweathermap.org."
   ]
  },
  {
   "cell_type": "code",
   "execution_count": null,
   "metadata": {},
   "outputs": [],
   "source": [
    "%pylab inline\n",
    "import requests\n",
    "import datetime "
   ]
  },
  {
   "cell_type": "markdown",
   "metadata": {},
   "source": [
    "The [requests](http://docs.python-requests.org/en/latest/) library is a simple to use python library for executing http commands over the internet.  \n",
    "\n",
    "For example, we can create an http get command to download a website and then render it as html in our notebook."
   ]
  },
  {
   "cell_type": "code",
   "execution_count": null,
   "metadata": {},
   "outputs": [],
   "source": [
    "req = requests.get(\"http://m.xkcd.com/\")\n",
    "print type(req)\n",
    "req.cookies.keys()"
   ]
  },
  {
   "cell_type": "code",
   "execution_count": null,
   "metadata": {},
   "outputs": [],
   "source": [
    "from IPython.display import HTML\n",
    "HTML(req.text)"
   ]
  },
  {
   "cell_type": "markdown",
   "metadata": {},
   "source": [
    "Due to the prevelance of HTTP, many webservices now offer [Restful APIs](http://en.wikipedia.org/wiki/Representational_state_transfer) which are accessed via HTTP requests and return XML or JSON formatted data output.  A list of APIs is listed at [Programable Web](http://www.programmableweb.com/).  In additon, many developers of internal apps utilize the restful concept to ease integration of apps.\n",
    "\n",
    "One easy to understand Restful API is the [Open Weather Map](openweathermap.org) API.  We will use this API to download the daily temperature of San Diego from January 1, 2013 through December 31, 2013 to give an example of the usage of such an API."
   ]
  },
  {
   "cell_type": "markdown",
   "metadata": {},
   "source": [
    "### Open Weather Map\n",
    "\n",
    "As a first step we query the current weather in San Diego to see what the output looks like and get the city id for the historical lookup.  We use the request object's json method to convert the json output to a python Map which we can easily process.\n",
    "\n",
    "To do this we perform a http get on the URL **http://api.openweathermap.org/data/2.5/weather** which is the base url for the Open Weather Map's current weather resful API.  We pass the get parameter **q=San%20Diego,us** to specify our city.  %20 is used to encode space in the url\n"
   ]
  },
  {
   "cell_type": "code",
   "execution_count": null,
   "metadata": {
    "collapsed": true
   },
   "outputs": [],
   "source": [
    "import weatherkey\n",
    "key=weatherkey.getkey()\n"
   ]
  },
  {
   "cell_type": "code",
   "execution_count": null,
   "metadata": {},
   "outputs": [],
   "source": [
    "import json\n",
    "base_url = \"http://api.openweathermap.org/data/2.5/weather\"\n",
    "url=base_url+\"?q=San Diego,us&id=%s&APPID=%s\"%('yoavfreund',key)\n",
    "req = requests.get(url)\n",
    "output = req.json()\n",
    "output"
   ]
  },
  {
   "cell_type": "markdown",
   "metadata": {},
   "source": [
    "From here we can see that the city id for san diego (the \"id\" field) is 5391811.  We can now use open weather map's [Histrocial Data API](http://openweathermap.org/history) to download san diego data.  Lets try pulling the first entry for 2013.  Here are the parameters we pass:\n",
    "\n",
    "* Base URL: http://history.openweathermap.org/data/2.5/history/city\n",
    "* id - the city id - 5391811\n",
    "* start - the unix time stamp of our start period - 1357027200 (0:0:0 on Jan 1 2013)\n",
    "* cnt - the number of measures we want - 1\n",
    "* APPID - the *API Key* for david's account - dd9abf3c45c153e11a6e11f0d12391aa\n",
    "\n",
    "** Unfortunately, David's API Key expired** -- Figure out how to obtain a new key for yourself and then use it to run the code below. (Also, the history API is paid.)\n",
    "\n",
    "\n",
    "This gives us this URL: **http://history.openweathermap.org/data/2.5/history/city?id=2885679&type=hour**\n"
   ]
  },
  {
   "cell_type": "code",
   "execution_count": null,
   "metadata": {},
   "outputs": [],
   "source": [
    "query_url=\"?q=San Diego,us&start=1357027200&cnt=100&type=day&id=%s&APPID=%s\"%('yoavfreund',key)\n",
    "base_url=\"http://history.openweathermap.org/data/2.5/history/city\"\n",
    "req = requests.get(base_url+query_url)\n",
    "req.text"
   ]
  },
  {
   "cell_type": "code",
   "execution_count": null,
   "metadata": {
    "collapsed": true
   },
   "outputs": [],
   "source": [
    "http://history.openweathermap.org/data/2.5/history/city?i"
   ]
  },
  {
   "cell_type": "markdown",
   "metadata": {},
   "source": [
    "From here we can see that the temperature is located at req.json[\"list\"][0][\"main\"][\"temp\"].  Interestingly, we also see the temperature is reported in kelvin, which can be converted to Fahrenheit using $F=(K - 273.15)* 1.8000+ 32.00$.\n",
    "\n",
    "\n",
    "Now we'll loop through from the start period to the end of the year, adding 86400 (the number of seconds in 24 hours) to the time stamp each time.  We'll append the temperature recieved to a list \"temp\" for us to plot later.\n",
    "\n",
    "Also note that some times there is no measurement for a day, to do this we check if [\"list\"] is not empty before extracting main/temp from it.  If it is empty we append None."
   ]
  },
  {
   "cell_type": "code",
   "execution_count": null,
   "metadata": {
    "scrolled": true
   },
   "outputs": [],
   "source": [
    "temp = []\n",
    "time = 1357027200\n",
    "for i in range(365):\n",
    "    if i%10 == 0:\n",
    "        print i\n",
    "    req = requests.get(\"http://history.openweathermap.org/data/2.5/history/city?id=5391811&type=day&start=\" + str(time) + \"&cnt=1&APPID=dd9abf3c45c153e11a6e11f0d12391aa&type=day\")\n",
    "    req = requests.get(base_url+query_url)\n",
    "    time = time + 86400\n",
    "    data = req.json()[\"list\"]\n",
    "    if len(data) > 0:\n",
    "        K = data[0][\"main\"][\"temp\"]\n",
    "        F = (K - 273.15)* 1.8000+ 32.00\n",
    "        temp.append(F)\n",
    "    else:\n",
    "        temp.append(None)"
   ]
  },
  {
   "cell_type": "code",
   "execution_count": null,
   "metadata": {},
   "outputs": [],
   "source": [
    "req.json()"
   ]
  },
  {
   "cell_type": "code",
   "execution_count": null,
   "metadata": {},
   "outputs": [],
   "source": [
    "plot(temp)"
   ]
  },
  {
   "cell_type": "markdown",
   "metadata": {},
   "source": [
    "There is obviously a lot more to learn about Restful API's, however this should provide a simple example of what they are and how to use them.  Explore the programmable web website to see the vast array of api's availible.\n",
    "\n",
    "**Exercise**\n",
    "Look at the programmable web website and find an API that interests you.  Use the restful API to query some data and extract a meaningful field.  If the API provides time series Data, plot the field over time."
   ]
  },
  {
   "cell_type": "code",
   "execution_count": null,
   "metadata": {
    "collapsed": true
   },
   "outputs": [],
   "source": []
  }
 ],
 "metadata": {
  "anaconda-cloud": {},
  "kernelspec": {
   "display_name": "Python [Root]",
   "language": "python",
   "name": "Python [Root]"
  },
  "language_info": {
   "codemirror_mode": {
    "name": "ipython",
    "version": 2
   },
   "file_extension": ".py",
   "mimetype": "text/x-python",
   "name": "python",
   "nbconvert_exporter": "python",
   "pygments_lexer": "ipython2",
   "version": "2.7.13"
  }
 },
 "nbformat": 4,
 "nbformat_minor": 1
}
