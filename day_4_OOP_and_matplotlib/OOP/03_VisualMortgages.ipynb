{
 "cells": [
  {
   "cell_type": "code",
   "execution_count": null,
   "metadata": {},
   "outputs": [],
   "source": [
    "%pylab inline"
   ]
  },
  {
   "cell_type": "markdown",
   "metadata": {},
   "source": [
    "### Some basic pylab plots"
   ]
  },
  {
   "cell_type": "code",
   "execution_count": null,
   "metadata": {},
   "outputs": [],
   "source": [
    "#Page 143\n",
    "pylab.figure(1); #create figure 1\n",
    "pylab.plot([1,2,3,4], [1,2,3,4]); #draw on figure 1\n",
    "pylab.figure(2); #create figure 2\n",
    "pylab.plot([1,4,2,3], [5,6,7,8]); #draw on figure 2\n",
    "#pylab.savefig('Figure-Addie') #save figure 2\n",
    "pylab.figure(1); #go back to working on figure 1\n",
    "pylab.plot([5,6,10,3]); #draw again on figure 1\n",
    "#pylab.savefig('Figure-Jane') #save figure 1"
   ]
  },
  {
   "cell_type": "markdown",
   "metadata": {},
   "source": [
    "### Creating plots specifically for mortgages\n",
    "Labeling the plot and the x,y axes"
   ]
  },
  {
   "cell_type": "code",
   "execution_count": null,
   "metadata": {},
   "outputs": [],
   "source": [
    "#Page 144\n",
    "pylab.title('5% Growth, Compounded Annually')\n",
    "pylab.xlabel('Years of Compounding')\n",
    "pylab.ylabel('Value of Principal ($)')"
   ]
  },
  {
   "cell_type": "markdown",
   "metadata": {},
   "source": [
    "### Plot the compounded growth of the loan"
   ]
  },
  {
   "cell_type": "code",
   "execution_count": null,
   "metadata": {},
   "outputs": [],
   "source": [
    "#Page 145\n",
    "principal = 10000 #initial investment\n",
    "interestRate = 0.05\n",
    "years = 20\n",
    "values = []\n",
    "for i in range(years + 1):\n",
    "    values.append(principal)\n",
    "    principal += principal*interestRate\n",
    "pylab.plot(values, linewidth = 30)\n",
    "pylab.title('5% Growth, Compounded Annually',\n",
    "            fontsize = 'xx-large')\n",
    "pylab.xlabel('Years of Compounding', fontsize = 'x-small')\n",
    "pylab.ylabel('Value of Principal ($)')"
   ]
  },
  {
   "cell_type": "markdown",
   "metadata": {},
   "source": [
    "### Change the parameters for plotting\n",
    "This is done by setting the values of class dictionary called rcParams.\n",
    "As this is a class variable, it is the same for all pylab objects."
   ]
  },
  {
   "cell_type": "code",
   "execution_count": null,
   "metadata": {
    "collapsed": true
   },
   "outputs": [],
   "source": [
    "#Page 146\n",
    "#set line width\n",
    "pylab.rcParams['lines.linewidth'] = 4\n",
    "#set font size for titles \n",
    "pylab.rcParams['axes.titlesize'] = 20\n",
    "#set font size for labels on axes\n",
    "pylab.rcParams['axes.labelsize'] = 20\n",
    "#set size of numbers on x-axis\n",
    "pylab.rcParams['xtick.labelsize'] = 16\n",
    "#set size of numbers on y-axis\n",
    "pylab.rcParams['ytick.labelsize'] = 16\n",
    "#set size of ticks on x-axis\n",
    "pylab.rcParams['xtick.major.size'] = 7\n",
    "#set size of ticks on y-axis\n",
    "pylab.rcParams['ytick.major.size'] = 7\n",
    "#set size of markers\n",
    "pylab.rcParams['lines.markersize'] = 10"
   ]
  },
  {
   "cell_type": "markdown",
   "metadata": {},
   "source": [
    "### Add plotting methods to the mortgage base class"
   ]
  },
  {
   "cell_type": "code",
   "execution_count": null,
   "metadata": {
    "collapsed": true
   },
   "outputs": [],
   "source": [
    "#Following function is defined in Chapter 8, and used here\n",
    "def findPayment(loan, r, m):\n",
    "    \"\"\"Assumes: loan and r are floats, m an int\n",
    "       Returns the monthly payment for a mortgage of size\n",
    "       loan at a monthly rate of r for m months\"\"\"\n",
    "    return loan*((r*(1+r)**m)/((1+r)**m - 1))\n",
    "\n",
    "#Page 147, Figure 11.1\n",
    "class Mortgage(object):\n",
    "    \"\"\"Abstract class for building different kinds of mortgages\"\"\"\n",
    "    \n",
    "    def __init__(self, loan, annRate, months):\n",
    "        \"\"\"Create a new mortgage\"\"\"\n",
    "        self.loan = loan\n",
    "        self.rate = annRate/12.0\n",
    "        self.months = months\n",
    "        self.paid = [0.0] \n",
    "        self.owed = [loan]\n",
    "        self.payment = findPayment(loan, self.rate, months)\n",
    "        self.legend = None #description of mortgage\n",
    "        \n",
    "    def makePayment(self):\n",
    "        \"\"\"Make a payment\"\"\"\n",
    "        self.paid.append(self.payment)\n",
    "        reduction = self.payment - self.owed[-1]*self.rate\n",
    "        self.owed.append(self.owed[-1] - reduction)\n",
    "        \n",
    "    def getTotalPaid(self):\n",
    "        \"\"\"Return the total amount paid so far\"\"\"\n",
    "        return sum(self.paid)\n",
    "    \n",
    "    def __str__(self):\n",
    "        return self.legend\n",
    "\n",
    "    def plotPayments(self, style):\n",
    "        pylab.plot(self.paid[1:], style, label = self.legend)\n",
    "    \n",
    "    def plotBalance(self, style):\n",
    "        pylab.plot(self.owed, style, label = self.legend)\n",
    "        \n",
    "    def plotTotPd(self, style):\n",
    "        \"\"\"Plot the cumulative total of the payments made\"\"\"\n",
    "        totPd = [self.paid[0]]\n",
    "        for i in range(1, len(self.paid)):\n",
    "            totPd.append(totPd[-1] + self.paid[i])\n",
    "        pylab.plot(totPd, style, label = self.legend)\n",
    "    \n",
    "    def plotNet(self, style):\n",
    "        \"\"\"Plot an approximation to the total cost of the mortgage\n",
    "           over time by plotting the cash expended minus the equity\n",
    "           acquired by paying off part of the loan\"\"\"\n",
    "        totPd = [self.paid[0]]\n",
    "        for i in range(1, len(self.paid)):\n",
    "            totPd.append(totPd[-1] + self.paid[i])\n",
    "        #Equity acquired through payments is amount of original loan\n",
    "        #  paid to date, which is amount of loan minus what is still owed\n",
    "        equityAcquired = pylab.array([self.loan]*len(self.owed))\n",
    "        equityAcquired = equityAcquired - pylab.array(self.owed)\n",
    "        net = pylab.array(totPd) - equityAcquired\n",
    "        pylab.plot(net, style, label = self.legend)\n",
    "\n",
    "#Page 149, Figure 11.2\n",
    "class Fixed(Mortgage):\n",
    "    def __init__(self, loan, r, months):\n",
    "        Mortgage.__init__(self, loan, r, months)\n",
    "        self.legend = 'Fixed, ' + str(r*100) + '%' \n",
    "\n",
    "class FixedWithPts(Mortgage):\n",
    "    def __init__(self, loan, r, months, pts):\n",
    "        Mortgage.__init__(self, loan, r, months)\n",
    "        self.pts = pts\n",
    "        self.paid = [loan*(pts/100.0)]\n",
    "        self.legend = 'Fixed, ' + str(r*100) + '%, '\\\n",
    "                   + str(pts) + ' points'\n",
    "\n",
    "class TwoRate(Mortgage):\n",
    "    def __init__(self, loan, r, months, teaserRate, teaserMonths):\n",
    "        Mortgage.__init__(self, loan, teaserRate, months)\n",
    "        self.teaserMonths = teaserMonths\n",
    "        self.teaserRate = teaserRate\n",
    "        self.nextRate = r/12.0\n",
    "        self.legend = str(teaserRate*100)\\\n",
    "                      + '% for ' + str(self.teaserMonths)\\\n",
    "                      + ' months, then ' + str(r*100) + '%'\n",
    "\n",
    "    def makePayment(self):\n",
    "        if len(self.paid) == self.teaserMonths + 1:\n",
    "            self.rate = self.nextRate\n",
    "            self.payment = findPayment(self.owed[-1], self.rate,\n",
    "                                       self.months - self.teaserMonths)\n",
    "        Mortgage.makePayment(self)"
   ]
  },
  {
   "cell_type": "markdown",
   "metadata": {},
   "source": [
    "### Define functions to create the plots"
   ]
  },
  {
   "cell_type": "code",
   "execution_count": null,
   "metadata": {},
   "outputs": [],
   "source": [
    "#Page 150, Figure 11.3\n",
    "def plotMortgages(morts, amt):\n",
    "    styles = ['b-', 'b-.', 'b:']\n",
    "    #Give names to figure numbers\n",
    "    payments = 0\n",
    "    cost = 1\n",
    "    balance = 2\n",
    "    netCost = 3\n",
    "    pylab.figure(payments)\n",
    "    pylab.title('Monthly Payments of Different $' + str(amt)\n",
    "                + ' Mortgages')\n",
    "    pylab.xlabel('Months')\n",
    "    pylab.ylabel('Monthly Payments')\n",
    "    pylab.figure(cost)\n",
    "    pylab.title('Cash Outlay of Different $' + str(amt) + ' Mortgages',y=1.1)\n",
    "    pylab.xlabel('Months')\n",
    "    pylab.ylabel('Total Payments')\n",
    "    pylab.figure(balance)\n",
    "    pylab.title('Balance Remaining of $' + str(amt) + ' Mortgages')\n",
    "    pylab.xlabel('Months')\n",
    "    pylab.ylabel('Remaining Loan Balance of $')\n",
    "    pylab.figure(netCost)\n",
    "    pylab.title('Net Cost of $' + str(amt) + ' Mortgages')\n",
    "    pylab.xlabel('Months')\n",
    "    pylab.ylabel('Payments - Equity $')\n",
    "    for i in range(len(morts)):\n",
    "        pylab.figure(payments)\n",
    "        morts[i].plotPayments(styles[i])\n",
    "        pylab.figure(cost)\n",
    "        morts[i].plotTotPd(styles[i])\n",
    "        pylab.figure(balance)\n",
    "        morts[i].plotBalance(styles[i])\n",
    "        pylab.figure(netCost)\n",
    "        morts[i].plotNet(styles[i])\n",
    "    pylab.figure(payments)\n",
    "    pylab.legend(loc = 'upper center')\n",
    "    pylab.figure(cost)\n",
    "    pylab.legend(loc = 'best')\n",
    "    pylab.figure(balance)\n",
    "    pylab.legend(loc = 'best') \n",
    "\n",
    "def compareMortgages(amt, years, fixedRate, pts, ptsRate,\n",
    "                    varRate1, varRate2, varMonths):\n",
    "    totMonths = years*12\n",
    "    fixed1 = Fixed(amt, fixedRate, totMonths)\n",
    "    fixed2 = FixedWithPts(amt, ptsRate, totMonths, pts)\n",
    "    twoRate = TwoRate(amt, varRate2, totMonths, varRate1, varMonths)\n",
    "    morts = [fixed1, fixed2, twoRate]\n",
    "    for m in range(totMonths):\n",
    "        for mort in morts:\n",
    "            mort.makePayment()\n",
    "    plotMortgages(morts, amt)\n",
    "\n",
    "#Page 150\n",
    "compareMortgages(amt=200000, years=30, fixedRate=0.07,\n",
    "                 pts = 3.25, ptsRate=0.05,\n",
    "                 varRate1=0.045, varRate2=0.095, varMonths=48)"
   ]
  },
  {
   "cell_type": "code",
   "execution_count": null,
   "metadata": {
    "collapsed": true
   },
   "outputs": [],
   "source": []
  }
 ],
 "metadata": {
  "kernelspec": {
   "display_name": "Python [Root]",
   "language": "python",
   "name": "Python [Root]"
  },
  "language_info": {
   "codemirror_mode": {
    "name": "ipython",
    "version": 2
   },
   "file_extension": ".py",
   "mimetype": "text/x-python",
   "name": "python",
   "nbconvert_exporter": "python",
   "pygments_lexer": "ipython2",
   "version": "2.7.13"
  }
 },
 "nbformat": 4,
 "nbformat_minor": 1
}
