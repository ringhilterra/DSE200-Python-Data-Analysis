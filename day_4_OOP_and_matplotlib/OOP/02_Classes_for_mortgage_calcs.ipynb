{
 "cells": [
  {
   "cell_type": "markdown",
   "metadata": {},
   "source": [
    "## Managing mortgages\n",
    "\n",
    "This notebook demonstrates the use of classes and a class hierarchy using the calculation of mortgages as an example.\n",
    "\n",
    "### Basic computation\n",
    "\n",
    "Compute the monthly payment for a fixed rate loan. Takes as input: \n",
    "* `loan`: the size of the loan.\n",
    "* `r`:    the monthly rate.\n",
    "* `m`:    the term of the loan, in months\n",
    "\n",
    "The formula is $$loan*\\frac{r*(1+r)^m}{(1+r)^m-1}$$"
   ]
  },
  {
   "cell_type": "code",
   "execution_count": 1,
   "metadata": {
    "collapsed": false
   },
   "outputs": [
    {
     "data": {
      "text/plain": [
       "1066.1854641401"
      ]
     },
     "execution_count": 1,
     "metadata": {},
     "output_type": "execute_result"
    }
   ],
   "source": [
    "#Page 109, Figure 8.8\n",
    "def findPayment(loan, r, m):\n",
    "    \"\"\"Assumes: loan and r are floats, m an int\n",
    "       Returns the monthly payment for a mortgage of size\n",
    "       loan at a monthly rate of r for m months\"\"\"\n",
    "    return loan*((r*(1+r)**m)/((1+r)**m - 1))\n",
    "# compute the total payment for a $1000 loan whose term is 1 year with a monthly rate of 1%\n",
    "12*findPayment(1000,0.01,12)"
   ]
  },
  {
   "cell_type": "markdown",
   "metadata": {},
   "source": [
    "### Define a class hierarchy for computing mortgages of different types\n",
    "\n",
    "The top class `Mortgage` is called an \"abstract\" class becuse it is only used to define the common structures of the classes that inherit from it but is not functional on it's own."
   ]
  },
  {
   "cell_type": "code",
   "execution_count": 2,
   "metadata": {
    "collapsed": true
   },
   "outputs": [],
   "source": [
    "class Mortgage(object):\n",
    "    \"\"\"Abstract class for building different kinds of mortgages\"\"\"\n",
    "    def __init__(self, loan, annRate, months):\n",
    "        \"\"\"Create a new mortgage\"\"\"\n",
    "        self.loan = loan\n",
    "        self.rate = annRate/12.0\n",
    "        self.months = months\n",
    "        self.paid = [0.0]\n",
    "        self.owed = [loan]\n",
    "        self.payment = findPayment(loan, self.rate, months)\n",
    "        self.legend = None #description of mortgage\n",
    "    def makePayment(self):\n",
    "        \"\"\"Make a payment\"\"\"\n",
    "        self.paid.append(self.payment)\n",
    "        reduction = self.payment - self.owed[-1]*self.rate\n",
    "        self.owed.append(self.owed[-1] - reduction)\n",
    "    def getTotalPaid(self):\n",
    "        \"\"\"Return the total amount paid so far\"\"\"\n",
    "        return sum(self.paid)\n",
    "    def __str__(self):\n",
    "        return self.legend"
   ]
  },
  {
   "cell_type": "markdown",
   "metadata": {},
   "source": [
    "### Define concrete classes\n",
    "These concrete classes extend the class `Mortgage`\n",
    "\n",
    "The classes `Fixed` and `FixedWithPts` override only `__init__`\n",
    "\n",
    "The class `TwoRate` also overrides `makePayment`"
   ]
  },
  {
   "cell_type": "code",
   "execution_count": 3,
   "metadata": {
    "collapsed": true
   },
   "outputs": [],
   "source": [
    "#Page 110, Figure 8.9\n",
    "class Fixed(Mortgage):\n",
    "    def __init__(self, loan, r, months):\n",
    "        Mortgage.__init__(self, loan, r, months)\n",
    "        self.legend = 'Fixed, ' + str(r*100) + '%'\n",
    "        \n",
    "class FixedWithPts(Mortgage):\n",
    "    def __init__(self, loan, r, months, pts):\n",
    "        Mortgage.__init__(self, loan, r, months)\n",
    "        self.pts = pts\n",
    "        self.paid = [loan*(pts/100.0)]\n",
    "        self.legend = 'Fixed, ' + str(r*100) + '%, '\\\n",
    "                      + str(pts) + ' points'\n",
    "\n",
    "#Page 111, Figure 8.10\n",
    "class TwoRate(Mortgage):\n",
    "    def __init__(self, loan, r, months, teaserRate, teaserMonths):\n",
    "        Mortgage.__init__(self, loan, teaserRate, months)\n",
    "        self.teaserMonths = teaserMonths\n",
    "        self.teaserRate = teaserRate\n",
    "        self.nextRate = r/12.0\n",
    "        self.legend = str(teaserRate*100)\\\n",
    "                      + '% for ' + str(self.teaserMonths)\\\n",
    "                      + ' months, then ' + str(r*100) + '%'\n",
    "    def makePayment(self):\n",
    "        if len(self.paid) == self.teaserMonths + 1:\n",
    "            self.rate = self.nextRate\n",
    "            self.payment = findPayment(self.owed[-1], self.rate,\n",
    "                                       self.months - self.teaserMonths)\n",
    "        Mortgage.makePayment(self)"
   ]
  },
  {
   "cell_type": "markdown",
   "metadata": {},
   "source": [
    "### a function for comparing the different mortgages"
   ]
  },
  {
   "cell_type": "code",
   "execution_count": 4,
   "metadata": {
    "collapsed": false
   },
   "outputs": [
    {
     "name": "stdout",
     "output_type": "stream",
     "text": [
      "Fixed, 7.0%\n",
      " Total payments = $479017\n",
      "Fixed, 5.0%, 3.25 points\n",
      " Total payments = $393011\n",
      "4.5% for 48 months, then 9.5%\n",
      " Total payments = $551444\n"
     ]
    }
   ],
   "source": [
    "#Page 111, Figure 8.11\n",
    "def compareMortgages(amt, years, fixedRate, pts, ptsRate,\n",
    "                     varRate1, varRate2, varMonths):\n",
    "    totMonths = years*12\n",
    "    fixed1 = Fixed(amt, fixedRate, totMonths)\n",
    "    fixed2 = FixedWithPts(amt, ptsRate, totMonths, pts)\n",
    "    twoRate = TwoRate(amt, varRate2, totMonths, varRate1, varMonths)\n",
    "    morts = [fixed1, fixed2, twoRate]\n",
    "    for m in range(totMonths):\n",
    "        for mort in morts:\n",
    "            mort.makePayment()\n",
    "    for m in morts:\n",
    "        print m\n",
    "        print ' Total payments = $' + str(int(m.getTotalPaid()))\n",
    "\n",
    "compareMortgages(amt=200000, years=30, fixedRate=0.07,\n",
    "                 pts = 3.25, ptsRate=0.05, varRate1=0.045,\n",
    "                 varRate2=0.095, varMonths=48)"
   ]
  },
  {
   "cell_type": "markdown",
   "metadata": {},
   "source": [
    "## Creating Modules and Scripts ##\n",
    "while notebooks are great for developing individual functions, when working on longer pieces of code it is better to export them as text files with the extension `.py`.\n",
    "\n",
    "If the module contains a \"main\" part then it can be executed by itself form the unix command line by the command `python compareMortgages.py`\n",
    "\n",
    "If, in addition the file has in it's first line the location of the python executable\n",
    "(find this location using the command `which python`) and the file is made executable (see below) then one can use file name by itself as the command."
   ]
  },
  {
   "cell_type": "code",
   "execution_count": 5,
   "metadata": {
    "collapsed": false
   },
   "outputs": [
    {
     "name": "stdout",
     "output_type": "stream",
     "text": [
      "Writing compareMortgages.py\n"
     ]
    }
   ],
   "source": [
    "%%writefile compareMortgages.py\n",
    "#!/Users/yoavfreund/anaconda/bin/python\n",
    "def findPayment(loan, r, m):\n",
    "    \"\"\"Assumes: loan and r are floats, m an int\n",
    "       Returns the monthly payment for a mortgage of size\n",
    "       loan at a monthly rate of r for m months\"\"\"\n",
    "    return loan*((r*(1+r)**m)/((1+r)**m - 1))\n",
    "    \n",
    "class Mortgage(object):\n",
    "    \"\"\"Abstract class for building different kinds of mortgages\"\"\"\n",
    "    def __init__(self, loan, annRate, months):\n",
    "        \"\"\"Create a new mortgage\"\"\"\n",
    "        self.loan = loan\n",
    "        self.rate = annRate/12.0\n",
    "        self.months = months\n",
    "        self.paid = [0.0]\n",
    "        self.owed = [loan]\n",
    "        self.payment = findPayment(loan, self.rate, months)\n",
    "        self.legend = None #description of mortgage\n",
    "    def makePayment(self):\n",
    "        \"\"\"Make a payment\"\"\"\n",
    "        self.paid.append(self.payment)\n",
    "        reduction = self.payment - self.owed[-1]*self.rate\n",
    "        self.owed.append(self.owed[-1] - reduction)\n",
    "    def getTotalPaid(self):\n",
    "        \"\"\"Return the total amount paid so far\"\"\"\n",
    "        return sum(self.paid)\n",
    "    def __str__(self):\n",
    "        return self.legend\n",
    "\n",
    "#Page 110, Figure 8.9\n",
    "class Fixed(Mortgage):\n",
    "    def __init__(self, loan, r, months):\n",
    "        Mortgage.__init__(self, loan, r, months)\n",
    "        self.legend = 'Fixed, ' + str(r*100) + '%'\n",
    "        \n",
    "class FixedWithPts(Mortgage):\n",
    "    def __init__(self, loan, r, months, pts):\n",
    "        Mortgage.__init__(self, loan, r, months)\n",
    "        self.pts = pts\n",
    "        self.paid = [loan*(pts/100.0)]\n",
    "        self.legend = 'Fixed, ' + str(r*100) + '%, '\\\n",
    "                      + str(pts) + ' points'\n",
    "\n",
    "#Page 111, Figure 8.10\n",
    "class TwoRate(Mortgage):\n",
    "    def __init__(self, loan, r, months, teaserRate, teaserMonths):\n",
    "        Mortgage.__init__(self, loan, teaserRate, months)\n",
    "        self.teaserMonths = teaserMonths\n",
    "        self.teaserRate = teaserRate\n",
    "        self.nextRate = r/12.0\n",
    "        self.legend = str(teaserRate*100)\\\n",
    "                      + '% for ' + str(self.teaserMonths)\\\n",
    "                      + ' months, then ' + str(r*100) + '%'\n",
    "    def makePayment(self):\n",
    "        if len(self.paid) == self.teaserMonths + 1:\n",
    "            self.rate = self.nextRate\n",
    "            self.payment = findPayment(self.owed[-1], self.rate,\n",
    "                                       self.months - self.teaserMonths)\n",
    "        Mortgage.makePayment(self)\n",
    "\n",
    "#Page 111, Figure 8.11\n",
    "def compareMortgages(amt, years, fixedRate, pts, ptsRate,\n",
    "                     varRate1, varRate2, varMonths):\n",
    "    totMonths = years*12\n",
    "    fixed1 = Fixed(amt, fixedRate, totMonths)\n",
    "    fixed2 = FixedWithPts(amt, ptsRate, totMonths, pts)\n",
    "    twoRate = TwoRate(amt, varRate2, totMonths, varRate1, varMonths)\n",
    "    morts = [fixed1, fixed2, twoRate]\n",
    "    for m in range(totMonths):\n",
    "        for mort in morts:\n",
    "            mort.makePayment()\n",
    "    for m in morts:\n",
    "        print m\n",
    "        print ' Total payments = $' + str(int(m.getTotalPaid()))\n",
    "\n",
    "if __name__ == \"__main__\":\n",
    "## add use of argparse\n",
    "    compareMortgages(amt=200000, years=30, fixedRate=0.07,\n",
    "                 pts = 3.25, ptsRate=0.05, varRate1=0.045,\n",
    "                 varRate2=0.095, varMonths=48)"
   ]
  },
  {
   "cell_type": "code",
   "execution_count": 6,
   "metadata": {
    "collapsed": false
   },
   "outputs": [
    {
     "name": "stdout",
     "output_type": "stream",
     "text": [
      "total 560\r\n",
      "-rw-r--r--  1 yoavfreund  staff   38473 Nov 13 11:00 01_Object Oriented Python.ipynb\r\n",
      "-rw-r--r--  1 yoavfreund  staff   12523 Nov 13 11:16 02_Classes_for_mortgage_calcs.ipynb\r\n",
      "-rw-r--r--  1 yoavfreund  staff  214255 Nov 12 22:54 03_VisualMortgages.ipynb\r\n",
      "-rw-r--r--  1 yoavfreund  staff     888 Nov 11 15:26 Inheritence.py\r\n",
      "-rwxr-xr-x  1 yoavfreund  staff    3057 Nov 13 11:16 \u001b[31mcompareMortgages.py\u001b[m\u001b[m\r\n",
      "-rw-r--r--  1 yoavfreund  staff     547 Nov 11 15:26 dogClass.py\r\n"
     ]
    }
   ],
   "source": [
    "\n",
    "!chmod a+x compareMortgages.py\n",
    "!ls -l "
   ]
  },
  {
   "cell_type": "code",
   "execution_count": 7,
   "metadata": {
    "collapsed": false
   },
   "outputs": [
    {
     "name": "stdout",
     "output_type": "stream",
     "text": [
      "Fixed, 7.0%\r\n",
      " Total payments = $479017\r\n",
      "Fixed, 5.0%, 3.25 points\r\n",
      " Total payments = $393011\r\n",
      "4.5% for 48 months, then 9.5%\r\n",
      " Total payments = $551444\r\n"
     ]
    }
   ],
   "source": [
    "!./compareMortgages.py"
   ]
  },
  {
   "cell_type": "markdown",
   "metadata": {},
   "source": [
    "## Programming Style ##\n",
    "Writing code in a modular way goes a long way towards maintainable code. \n",
    "Another aspect of maintainable code is that it follows a consistent and uniform style.\n",
    "The [PEP8](http://legacy.python.org/dev/peps/pep-0008/) standard provides useful guidelines for\n",
    "naming variables and functions, indenting code, and writing docstrings."
   ]
  },
  {
   "cell_type": "code",
   "execution_count": null,
   "metadata": {
    "collapsed": false
   },
   "outputs": [],
   "source": []
  }
 ],
 "metadata": {
  "kernelspec": {
   "display_name": "Python 2",
   "language": "python",
   "name": "python2"
  },
  "language_info": {
   "codemirror_mode": {
    "name": "ipython",
    "version": 2
   },
   "file_extension": ".py",
   "mimetype": "text/x-python",
   "name": "python",
   "nbconvert_exporter": "python",
   "pygments_lexer": "ipython2",
   "version": "2.7.9"
  }
 },
 "nbformat": 4,
 "nbformat_minor": 0
}
