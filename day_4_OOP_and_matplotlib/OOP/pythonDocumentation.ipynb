{
 "cells": [
  {
   "cell_type": "markdown",
   "metadata": {},
   "source": [
    "### Python Documentation\n",
    "\n",
    "One useful feature of python is the concept of a **doctring**\n",
    "\n",
    "The docstring is a string that appears after the header line of a class or a method and describes them"
   ]
  },
  {
   "cell_type": "code",
   "execution_count": 1,
   "metadata": {},
   "outputs": [],
   "source": [
    "def func(x,y):\n",
    "    \"\"\"\n",
    "    func takes two input parameters and returns their product\n",
    "    \"\"\"\n",
    "    return x*y"
   ]
  },
  {
   "cell_type": "code",
   "execution_count": 2,
   "metadata": {},
   "outputs": [
    {
     "data": {
      "text/plain": [
       "12"
      ]
     },
     "execution_count": 2,
     "metadata": {},
     "output_type": "execute_result"
    }
   ],
   "source": [
    "func(3,4)"
   ]
  },
  {
   "cell_type": "code",
   "execution_count": 3,
   "metadata": {},
   "outputs": [
    {
     "data": {
      "text/plain": [
       "\u001b[0;31mSignature:\u001b[0m \u001b[0mfunc\u001b[0m\u001b[0;34m(\u001b[0m\u001b[0mx\u001b[0m\u001b[0;34m,\u001b[0m \u001b[0my\u001b[0m\u001b[0;34m)\u001b[0m\u001b[0;34m\u001b[0m\u001b[0m\n",
       "\u001b[0;31mDocstring:\u001b[0m func takes two input parameters and returns their product\n",
       "\u001b[0;31mFile:\u001b[0m      ~/academic.papers/Courses/DSE200/DSE200-notebooks/day_4_OOP_and_matplotlib/OOP/<ipython-input-1-80472943b8a3>\n",
       "\u001b[0;31mType:\u001b[0m      function\n"
      ]
     },
     "metadata": {},
     "output_type": "display_data"
    }
   ],
   "source": [
    "func?"
   ]
  },
  {
   "cell_type": "code",
   "execution_count": 5,
   "metadata": {},
   "outputs": [
    {
     "name": "stdout",
     "output_type": "stream",
     "text": [
      "\n",
      "    func takes two input parameters and returns their product\n",
      "    \n"
     ]
    }
   ],
   "source": [
    "print func.__doc__"
   ]
  },
  {
   "cell_type": "markdown",
   "metadata": {},
   "source": [
    "## Sphinx \n",
    "[Sphinx](http://www.sphinx-doc.org/en/stable/) is a software package that takes as input a set of modules (python files and directories) reads the docstrings and  generates a web site that documents the code. Using Sphinxs and docstrings allows the generation of documentation at the same time as writing or updating the code.\n",
    "\n",
    "To make full use of Sphinx, you need to write the docstrings in a specific format, for an example see `template.py`\n",
    "\n"
   ]
  },
  {
   "cell_type": "code",
   "execution_count": 9,
   "metadata": {},
   "outputs": [],
   "source": [
    "%load template.py"
   ]
  },
  {
   "cell_type": "markdown",
   "metadata": {},
   "source": [
    "## The sphinx mode in emacs\n",
    "It can be hard to remember the syntax for sphinx docstrings. To help with this some of the editors popular for editing python code have an extension which aid in creating well-formatted code strings. As `emacs` is my favorite editor, I use the extension [sphinx-doc.el](https://github.com/naiquevin/sphinx-doc.el)\n",
    "\n",
    "With this extension installed,and the cursor on the header line of a function or a class, the command `<ctrl>-C <option>-D` will parse the line and add a docstring skeleton below it which you are expected to fill"
   ]
  },
  {
   "cell_type": "code",
   "execution_count": 13,
   "metadata": {},
   "outputs": [
    {
     "data": {
      "text/plain": [
       "dict"
      ]
     },
     "execution_count": 13,
     "metadata": {},
     "output_type": "execute_result"
    }
   ],
   "source": []
  },
  {
   "cell_type": "code",
   "execution_count": null,
   "metadata": {},
   "outputs": [],
   "source": []
  }
 ],
 "metadata": {
  "kernelspec": {
   "display_name": "Python 2",
   "language": "python",
   "name": "python2"
  },
  "language_info": {
   "codemirror_mode": {
    "name": "ipython",
    "version": 2
   },
   "file_extension": ".py",
   "mimetype": "text/x-python",
   "name": "python",
   "nbconvert_exporter": "python",
   "pygments_lexer": "ipython2",
   "version": "2.7.13"
  }
 },
 "nbformat": 4,
 "nbformat_minor": 2
}
