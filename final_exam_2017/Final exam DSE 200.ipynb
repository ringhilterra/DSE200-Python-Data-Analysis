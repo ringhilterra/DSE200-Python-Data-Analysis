{
 "cells": [
  {
   "cell_type": "markdown",
   "metadata": {},
   "source": [
    "# Final exam DSE 200"
   ]
  },
  {
   "cell_type": "markdown",
   "metadata": {},
   "source": [
    "Your task in this take-home exam is to analyze the evolution of poverty, \n",
    "income distribution and investment in education in the United States.\n",
    "\n",
    "### Data source: \n",
    "\n",
    "https://www.census.gov/programs-surveys/saipe/data/datasets.All.html\n",
    "\n",
    "Use the given code snippet to access the data files\n",
    "\n",
    "The data fields are described here (in File Layout):https://www.census.gov/data/datasets/2015/demo/saipe/2015-state-and-county.html \n",
    "Extract the required fields. The required fields are: \n",
    "   'State FIPS', 'County FIPS','Poverty Estimate All Ages', 'Poverty Percent All Ages', \n",
    "   'Poverty Estimate Under Age 18', 'Poverty Percent Under Age 18', 'Poverty Estimate Ages 5-17', \n",
    "   'Poverty Percent Ages 5-17', 'Median Household Income','Name','Postal'\n",
    " \n",
    "### Pandas Data-Frames\n",
    "\n",
    "1)\n",
    "    - create a data frame with just the country-wide data\n",
    "    - create a data frame with just the data of the states\n",
    "    - create a data frame with just the data of the counties\n",
    "\n",
    "    \n",
    "2) Plot a graph of 'Poverty Percent All Ages' of the entire country vs year (line graph).\n",
    "   Plot a graph of 'Median Household Income' of the entire country vs year (line graph)\n",
    "\n",
    "3) Plot the total poverty in each state across the years and compare it with the country-wide poverty\n",
    "\n",
    "4) Plot county-wide poverty stats\n",
    "\n",
    "- Create a dataframe with the Unique FIPS code (obtained by combining the state and county FIPS), 'Poverty Percent All Ages' in every county in 2001, 'Poverty Percent All Ages' in every county in 2015 and the change ratio between 2001 and 2015. (change ratio = poverty % in 2015 / poverty % in 2001. Divide this by the nationwide change ratio for normalization. A value > 1 indicates that poverty change is higher compared to the nation-wide poverty change and a value < 1 indicates that poverty change is lower compared to the nationwide poverty change.)\n",
    "\n",
    "\n",
    "FIPS code is a unique code to identify counties and states in the US. In this data you have been given state code and county code separately. You will have to combine the state code and the county code to generate a unique code for each place, which will be used to plot on the map. Please note that before combining, make sure the state code is 2 digits and county code is 3 digits by adding zeroes to the front.\n",
    "\n",
    "\n",
    "- Plot the 'Poverty Percent All Ages' for each county on the map for the years 2001 and 2015.\n",
    "- Plot the normalized change ratio on the map.\n",
    "- Find the counties which witnessed the most positive and most negative change in poverty,\n",
    "\n",
    "For this visualization, we will use a library called Vincent, which lets you plot data for places using their FIPS code instead of using latitude/longitude. \n",
    "\n",
    "To install vincent do\n",
    "`pip install vincent` or `conda install vincent`\n",
    "\n",
    "\n",
    "To use it in the notebook and display the maps inside the notebook do\n",
    "\n",
    "`import vincent`\n",
    "\n",
    "`vincent.core.initialize_notebook()`\n",
    "\n",
    "You can find further details about how to use it here - http://wrobstory.github.io/2013/10/mapping-data-python.html and https://github.com/wrobstory/vincent\n",
    "\n",
    "Before closing your notebook, please clear the output of the vincent maps as it becomes difficult of reload the notebook later. For plotting the counties on the map, you will need to use the file us_counties.topo.json present in the exam folder.\n",
    "\n",
    "Tips: -  \n",
    "    Check the type of datafields before operating on them. It will also help you debug for errors.\n",
    "    Clean the data before using it. Drop those rows before using them."
   ]
  },
  {
   "cell_type": "code",
   "execution_count": null,
   "metadata": {
    "collapsed": true
   },
   "outputs": [],
   "source": [
    "import urllib2\n",
    "\n",
    "urls = ['https://www2.census.gov/programs-surveys/saipe/datasets/2001/2001-state-and-county/est01all.dat',\n",
    "        'https://www2.census.gov/programs-surveys/saipe/datasets/2002/2002-state-and-county/est02all.dat',\n",
    "        'https://www2.census.gov/programs-surveys/saipe/datasets/2003/2003-state-and-county/est03all.dat',\n",
    "        'https://www2.census.gov/programs-surveys/saipe/datasets/2004/2004-state-and-county/est04all.txt',\n",
    "        'https://www2.census.gov/programs-surveys/saipe/datasets/2005/2005-state-and-county/est05all.txt',\n",
    "        'https://www2.census.gov/programs-surveys/saipe/datasets/2006/2006-state-and-county/est06all.txt',\n",
    "        'https://www2.census.gov/programs-surveys/saipe/datasets/2007/2007-state-and-county/est07all.txt',\n",
    "        'https://www2.census.gov/programs-surveys/saipe/datasets/2008/2008-state-and-county/est08all.txt',\n",
    "        'https://www2.census.gov/programs-surveys/saipe/datasets/2009/2009-state-and-county/est09all.txt',\n",
    "        'https://www2.census.gov/programs-surveys/saipe/datasets/2010/2010-state-and-county/est10all.txt',\n",
    "        'https://www2.census.gov/programs-surveys/saipe/datasets/2011/2011-state-and-county/est11all.txt',\n",
    "        'https://www2.census.gov/programs-surveys/saipe/datasets/2012/2012-state-and-county/est12all.txt',\n",
    "        'https://www2.census.gov/programs-surveys/saipe/datasets/2013/2013-state-and-county/est13all.txt',\n",
    "        'https://www2.census.gov/programs-surveys/saipe/datasets/2014/2014-state-and-county/est14all.txt',\n",
    "        'https://www2.census.gov/programs-surveys/saipe/datasets/2015/2015-state-and-county/est15all.txt']\n",
    "\n",
    "year_dic = {} # dictionary to hold the raw data from each year where year is key\n",
    "\n",
    "def getUrl(urls):\n",
    "    year = 2001\n",
    "    for url in urls:\n",
    "        response = urllib2.urlopen(url)\n",
    "        lines = response.read().split('\\n')\n",
    "        del lines[-1]\n",
    "        #TODO -code to use the text data\n",
    "        year_dic[year] = lines\n",
    "        year += 1\n",
    "        \n",
    "getUrl(urls)\n",
    "# at this point year_dic is populated with 15 years"
   ]
  },
  {
   "cell_type": "code",
   "execution_count": null,
   "metadata": {},
   "outputs": [],
   "source": [
    "len(year_dic) # should be 15"
   ]
  },
  {
   "cell_type": "markdown",
   "metadata": {},
   "source": [
    "### Q1: Create the dataframes\n",
    "\n",
    "Download and parse the data files and create the following three pandas dataframes: (your dataframes should have data in the format shown below)\n",
    "\n",
    " * US_stat: statistics for the whole United States.\n",
    " * states_stat: Statistics for each state.\n",
    " * county_stat: Statistics for each county."
   ]
  },
  {
   "cell_type": "code",
   "execution_count": null,
   "metadata": {
    "collapsed": true
   },
   "outputs": [],
   "source": [
    "import pandas as pd"
   ]
  },
  {
   "cell_type": "code",
   "execution_count": null,
   "metadata": {
    "collapsed": true
   },
   "outputs": [],
   "source": [
    "us_list = []\n",
    "alist = []\n",
    "for year in range(2001,2016):\n",
    "    val = year_dic[year] #is the years value from URL raw\n",
    "\n",
    "    for i in range(len(val)):\n",
    "        state_fips  = str.strip(val[i][0:2])\n",
    "        county_fips = str.strip(val[i][3:6])\n",
    "        # for #4 we want to create 5 digit FIP code\n",
    "        while len(county_fips) < 3:\n",
    "            county_fips = '0' + county_fips\n",
    "            \n",
    "        fips = state_fips + county_fips\n",
    "        \n",
    "        dic = { 'Year': year, \n",
    "               'State FIPS': state_fips, \n",
    "               'County FIPS': county_fips,\n",
    "               'FIPS' : fips,\n",
    "               'Poverty Estimate All Ages': str.strip(val[i][7:15]),\n",
    "               'Poverty Percent All Ages': str.strip(val[i][34:38]), \n",
    "               'Poverty Estimate Under Age 18': str.strip(val[i][49:57]),\n",
    "               'Poverty Percent Under Age 18': str.strip(val[i][76:80]),\n",
    "               'Poverty Estimate Ages 5-17': str.strip(val[i][91:99]),\n",
    "               'Poverty Percent Ages 5-17': str.strip(val[i][118:122]),\n",
    "               'Median Household Income': str.strip(val[i][133:139]),\n",
    "               'Name': str.strip(val[i][193:238]),\n",
    "               'Postal': str.strip(val[i][239:241]) \n",
    "              }\n",
    "        alist.append(dic)\n",
    "            \n",
    "    adf = pd.DataFrame(alist) #state and county df"
   ]
  },
  {
   "cell_type": "code",
   "execution_count": null,
   "metadata": {
    "collapsed": true
   },
   "outputs": [],
   "source": [
    "# want these columns to be numeric and if not then set to nan\n",
    "adf['Poverty Estimate All Ages'] = pd.to_numeric(adf['Poverty Estimate All Ages'], errors='coerce')\n",
    "adf['Poverty Percent All Ages'] = pd.to_numeric(adf['Poverty Percent All Ages'], errors='coerce')\n",
    "adf['Poverty Estimate Under Age 18'] = pd.to_numeric(adf['Poverty Estimate Under Age 18'], errors='coerce')\n",
    "adf['Poverty Percent Under Age 18'] = pd.to_numeric(adf['Poverty Percent Under Age 18'], errors='coerce')\n",
    "adf['Poverty Estimate Ages 5-17'] = pd.to_numeric(adf['Poverty Estimate Ages 5-17'], errors='coerce')\n",
    "adf['Poverty Percent Ages 5-17'] = pd.to_numeric(adf['Poverty Percent Ages 5-17'], errors='coerce')\n",
    "adf['Median Household Income'] = pd.to_numeric(adf['Median Household Income'], errors='coerce')"
   ]
  },
  {
   "cell_type": "code",
   "execution_count": null,
   "metadata": {},
   "outputs": [],
   "source": [
    "adf[adf.isnull().any(axis=1)] # lets check which rows contains nulls"
   ]
  },
  {
   "cell_type": "code",
   "execution_count": null,
   "metadata": {},
   "outputs": [],
   "source": [
    "#we can see above there are some nan values for Kalawao County, for the sake of this analysis lets drop these values\n",
    "adf.dropna(axis=0, how='any', inplace=True)\n",
    "print(len(adf[adf.isnull().any(axis=1)]))"
   ]
  },
  {
   "cell_type": "code",
   "execution_count": null,
   "metadata": {},
   "outputs": [],
   "source": [
    "adf.dtypes"
   ]
  },
  {
   "cell_type": "code",
   "execution_count": null,
   "metadata": {
    "collapsed": true
   },
   "outputs": [],
   "source": [
    "US_stat = adf[adf['State FIPS'] == '00']\n",
    "adf2 = adf[adf['State FIPS'] != '00'] # state and county only\n",
    "states_stat = adf2[adf2['County FIPS'] == '000']\n",
    "county_stat = adf2[adf2['County FIPS'] != '000']"
   ]
  },
  {
   "cell_type": "code",
   "execution_count": null,
   "metadata": {},
   "outputs": [],
   "source": [
    "US_stat.head()"
   ]
  },
  {
   "cell_type": "code",
   "execution_count": null,
   "metadata": {},
   "outputs": [],
   "source": [
    "states_stat.head()"
   ]
  },
  {
   "cell_type": "code",
   "execution_count": null,
   "metadata": {},
   "outputs": [],
   "source": [
    "county_stat.head()"
   ]
  },
  {
   "cell_type": "code",
   "execution_count": null,
   "metadata": {},
   "outputs": [],
   "source": [
    "%pylab inline\n",
    "import matplotlib.pyplot as plt"
   ]
  },
  {
   "cell_type": "markdown",
   "metadata": {},
   "source": [
    "### Q2. Plot the US-wide statistics on poverty.\n",
    "\n",
    "Plot the 'Poverty Percent All Ages' and 'Median Household Income' across entire US over the years. \n",
    "\n",
    "Compute the percentage of increase in poverty in the US between 2001 and 2015. - [poverty % in 2015] / [poverty % in 2001]\n",
    "\n",
    "![income_and_poverty](income_and_poverty.png)"
   ]
  },
  {
   "cell_type": "code",
   "execution_count": null,
   "metadata": {},
   "outputs": [],
   "source": [
    "fig = plt.figure(figsize=(16,12))\n",
    "ax = fig.add_subplot(2,2,1)\n",
    "ax.set_xticks(US_stat['Year'])\n",
    "ax.set_title('Median Household Income')\n",
    "ax.set_xticklabels(US_stat['Year'], rotation=45)\n",
    "ax.grid()\n",
    "#ax.set_yticks(US_stat['Median Household Income'])\n",
    "ax.plot(US_stat['Year'],US_stat['Median Household Income'])\n",
    "\n",
    "ax2 = fig.add_subplot(2,2,2)\n",
    "ax2.set_xticks(US_stat['Year'])\n",
    "ax2.set_xticklabels(US_stat['Year'], rotation=45)\n",
    "ax2.set_title('Poverty Percent All Ages')\n",
    "ax2.grid()\n",
    "#ax.set_yticks(US_stat['Median Household Income'])\n",
    "ax2.plot(US_stat['Year'],US_stat['Poverty Percent All Ages'])"
   ]
  },
  {
   "cell_type": "code",
   "execution_count": null,
   "metadata": {},
   "outputs": [],
   "source": [
    "# Compute the percentage of increase in poverty in the US between 2001 and 2015.\n",
    "# - [poverty % in 2015] / [poverty % in 2001]\n",
    "pov_percent_2015 = US_stat.loc[US_stat[\"Year\"] == 2015,'Poverty Percent All Ages'].iloc[0]\n",
    "pov_percent_2001 = US_stat.loc[US_stat[\"Year\"] == 2001,'Poverty Percent All Ages'].iloc[0]\n",
    "usa_percent_increase = pov_percent_2015 / pov_percent_2001\n",
    "print(\"{0} increase in poverty in the US between 2001 and 2015\".format(usa_percent_increase))\n",
    "print(\"(same as saying 25.6 % increase)\")"
   ]
  },
  {
   "cell_type": "markdown",
   "metadata": {},
   "source": [
    "### Q3: Plot the change in poverty percentages by state.\n",
    "\n",
    "For each state, plot the poverty levels across time and compare it with the nation-wide poverty level. Produce a graph similar to the ones below.\n",
    "![state-wise](state-wise.png)"
   ]
  },
  {
   "cell_type": "code",
   "execution_count": null,
   "metadata": {
    "collapsed": true
   },
   "outputs": [],
   "source": [
    "state_list = states_stat['Postal'].unique()\n",
    "state_list.sort()"
   ]
  },
  {
   "cell_type": "code",
   "execution_count": null,
   "metadata": {},
   "outputs": [],
   "source": [
    "nrows=11; ncols=5;\n",
    "fig, axes = plt.subplots(nrows, ncols, sharex='col', sharey='row',figsize=[11,20])\n",
    "\n",
    "i=0\n",
    "while i < len(state_list):\n",
    "    ax=axes[i/ncols,i%ncols]\n",
    "    # need to get state specific\n",
    "    state_df = states_stat[states_stat['Postal'] == state_list[i]].sort_values(['Year'])\n",
    "    \n",
    "    ax.plot(state_df['Year'] - 2000, state_df['Poverty Percent All Ages'], 'r')\n",
    "    ax.plot(US_stat['Year'] - 2000, US_stat['Poverty Percent All Ages'])\n",
    "    \n",
    "    ax.set_title(state_list[i])\n",
    "    ax.grid()\n",
    "    i+=1"
   ]
  },
  {
   "cell_type": "markdown",
   "metadata": {},
   "source": [
    "<img src=\"StateByStateFig.png\">"
   ]
  },
  {
   "cell_type": "markdown",
   "metadata": {},
   "source": [
    "### Q4: plot poverty statistics by county\n",
    "\n",
    "Using the vincent library and the dataframe `county_stat`, generate the following three maps.\n",
    "\n",
    "1. Overall percentage of poverty for each county in 2001.\n",
    "![poverty2001](Poverty2001.png)\n",
    "1. Overall percentage of poverty for each county in 2015.\n",
    "![poverty2015](Poverty2015.png)\n",
    "1. Ratio between percentage of change in poverty from 2001 to 2015 for each county. Divided by the nation-wide change in poverty (1.26).\n",
    "![povertyChange](PovertyChange.png)"
   ]
  },
  {
   "cell_type": "markdown",
   "metadata": {},
   "source": [
    "4) Plot county-wide poverty stats\n",
    "\n",
    "- Create a dataframe with the Unique FIPS code (obtained by combining the state and county FIPS), 'Poverty Percent All Ages' in every county in 2001, 'Poverty Percent All Ages' in every county in 2015 and the change ratio between 2001 and 2015. (change ratio = poverty % in 2015 / poverty % in 2001. Divide this by the nationwide change ratio for normalization. A value > 1 indicates that poverty change is higher compared to the nation-wide poverty change and a value < 1 indicates that poverty change is lower compared to the nationwide poverty change.)\n",
    "\n",
    "\n",
    "FIPS code is a unique code to identify counties and states in the US. In this data you have been given state code and county code separately. You will have to combine the state code and the county code to generate a unique code for each place, which will be used to plot on the map. Please note that before combining, make sure the state code is 2 digits and county code is 3 digits by adding zeroes to the front."
   ]
  },
  {
   "cell_type": "code",
   "execution_count": null,
   "metadata": {},
   "outputs": [],
   "source": [
    "bdf = county_stat.loc[:,['FIPS', 'Name', 'Postal', 'Poverty Percent All Ages', 'Year']]\n",
    "bdf_2001 = bdf[bdf['Year'] == 2001]\n",
    "bdf_2015 = bdf[bdf['Year'] == 2015]\n",
    "bdf_2001.columns = ['FIPS', 'Name', 'Postal', '2001-Poverty Percent All Ages', 'Year']\n",
    "bdf_2015.columns = ['FIPS', 'Name', 'Postal', '2015-Poverty Percent All Ages', 'Year']\n",
    "del bdf_2001['Year']\n",
    "del bdf_2015['Year']\n",
    "cdf_2015 = bdf_2015.set_index(['FIPS', 'Name', 'Postal'])\n",
    "cdf_2001 = bdf_2001.set_index(['FIPS', 'Name', 'Postal'])\n",
    "d_df = cdf_2001.join(cdf_2015)\n",
    "d_df['change_ratio'] = d_df['2015-Poverty Percent All Ages'] / d_df['2001-Poverty Percent All Ages']\n",
    "d_df['change_ratio_normalized'] = d_df['change_ratio'] / usa_percent_increase\n",
    "d_df.reset_index(inplace=True)\n",
    "# need to convert FIPS back to int\n",
    "d_df['FIPS'] = d_df['FIPS'].astype('int')\n",
    "d_df.head()"
   ]
  },
  {
   "cell_type": "code",
   "execution_count": null,
   "metadata": {},
   "outputs": [],
   "source": [
    "import vincent\n",
    "vincent.core.initialize_notebook()\n"
   ]
  },
  {
   "cell_type": "code",
   "execution_count": null,
   "metadata": {
    "collapsed": true
   },
   "outputs": [],
   "source": [
    "county_topo = r'us_counties.topo.json'"
   ]
  },
  {
   "cell_type": "code",
   "execution_count": null,
   "metadata": {},
   "outputs": [],
   "source": [
    "#Plot the 'Poverty Percent All Ages' for each county on the map for the years 2001 and 2015.\n",
    "geo_data = [{'name': 'counties',\n",
    "             'url': county_topo,\n",
    "             'feature': 'us_counties.geo'}]\n",
    "\n",
    "vis = vincent.Map(data=d_df, geo_data=geo_data, scale=900,\n",
    "                  projection='albersUsa', data_bind='2001-Poverty Percent All Ages',\n",
    "                  data_key='FIPS', map_key={'counties': 'properties.FIPS'})\n",
    "vis.rebind(column='2001-Poverty Percent All Ages', brew='YlGnBu')\n",
    "vis.scales[0].type='threshold'\n",
    "vis.scales['color'].domain = [0, 6, 10, 12, 14, 16, 18, 20, 30]\n",
    "vis.legend(title='Poverty 2001 (%)')\n",
    "vis.to_json('vega.json')\n",
    "vis.display()"
   ]
  },
  {
   "cell_type": "code",
   "execution_count": null,
   "metadata": {},
   "outputs": [],
   "source": [
    "vis.rebind(column='2015-Poverty Percent All Ages', brew='YlGnBu')\n",
    "vis.scales[0].type='threshold'\n",
    "vis.scales['color'].domain = [0, 6, 10, 12, 14, 16, 18, 20, 30]\n",
    "vis.legends[0].title = 'Poverty 2015 (%)'\n",
    "vis.to_json('vega.json')\n",
    "vis.display()"
   ]
  },
  {
   "cell_type": "code",
   "execution_count": null,
   "metadata": {},
   "outputs": [],
   "source": [
    "#Plot the normalized change ratio on the map.\n",
    "vis.rebind(column='change_ratio_normalized', brew='RdBu')\n",
    "vis.scales[0].type='threshold'\n",
    "vis.scales['color'].domain = [0, 0.7, 0.8, 0.9, 1.0, 1.1, 1.2, 1.3]\n",
    "vis.legends[0].title = 'Change in poverty percentage, relative to national average '\n",
    "vis.to_json('vega.json')\n",
    "vis.display()"
   ]
  },
  {
   "cell_type": "markdown",
   "metadata": {},
   "source": [
    "### Q5: Identify the extremes.\n",
    "Find out which are the counties in which the poverty percentage increased or decreased the most during the period 2001 - 2015."
   ]
  },
  {
   "cell_type": "code",
   "execution_count": null,
   "metadata": {},
   "outputs": [],
   "source": [
    "#Find the counties which witnessed the most positive and most negative change in poverty,\n",
    "pov_change_max = d_df['change_ratio'].max()\n",
    "pov_change_min = d_df['change_ratio'].min()\n",
    "d_df[d_df['change_ratio'] == pov_change_max]"
   ]
  },
  {
   "cell_type": "code",
   "execution_count": null,
   "metadata": {},
   "outputs": [],
   "source": [
    "d_df[d_df['change_ratio'] == pov_change_min]"
   ]
  },
  {
   "cell_type": "markdown",
   "metadata": {},
   "source": [
    "McHenry County, IL, witnessed the largest increase in poverty, from 3.4% in 2001 to 8.1% in 2015 (change ratio = 2.38)\n",
    "\n",
    "Bill County, ND, witnessed the largest decrease in poverty, from 15.8% in 2001 to 7.1 % in 2015(change ratio = 0.440)"
   ]
  },
  {
   "cell_type": "markdown",
   "metadata": {},
   "source": [
    "## Q6: Public Education Analysis"
   ]
  },
  {
   "cell_type": "markdown",
   "metadata": {
    "collapsed": true
   },
   "source": [
    "Download county-level public school finances data ([Individual Unit Tables](https://www.census.gov/data/tables/2005/econ/school-finances/secondary-education-finance.html)) from [here](https://www.census.gov/programs-surveys/school-finances/data/tables.html) for year 2003-2015*.\n",
    "\n",
    "*: The format for data files 2001-2002 is somewhat different. You can include these files too if you want.\n",
    "\n",
    "### Fields\n",
    "* CONUM: FIPS (This field is in different formats for different years. You'll have to make required chenges to read.)\n",
    "* TOTALREV: Total Revenue for primary and secondary schools\n",
    "* TFEDREV: Total federal revenue\n",
    "* TSTREV: Total state revenue\n",
    "* TLOCREV: Total local revenue\n",
    "* TOTALEXP: Total expenditure\n",
    "\n",
    "[Full Documentation](https://www2.census.gov/programs-surveys/school-finances/tables/2015/secondary-education-finance/school15doc.pdf)\n",
    "\n",
    "### Your task\n",
    "\n",
    "Your task in this section is to show whether or not counties that invested more than average in education have seen a significant decrease in poverty in later years, as compared with counties which invested less than average.\n",
    "\n",
    "It is an open-ended task. We are looking to see whether you can visualize the data and identify trends."
   ]
  },
  {
   "cell_type": "code",
   "execution_count": 26,
   "metadata": {},
   "outputs": [
    {
     "name": "stdout",
     "output_type": "stream",
     "text": [
      "http://www2.census.gov/programs-surveys/school-finances/tables/2003/secondary-education-finance/elsec03t.xls\n",
      "http://www2.census.gov/programs-surveys/school-finances/tables/2004/secondary-education-finance/elsec04t.xls\n",
      "http://www2.census.gov/programs-surveys/school-finances/tables/2005/secondary-education-finance/elsec05t.xls\n",
      "http://www2.census.gov/programs-surveys/school-finances/tables/2006/secondary-education-finance/elsec06t.xls\n",
      "http://www2.census.gov/programs-surveys/school-finances/tables/2007/secondary-education-finance/elsec07t.xls\n",
      "http://www2.census.gov/programs-surveys/school-finances/tables/2008/secondary-education-finance/elsec08t.xls\n",
      "http://www2.census.gov/programs-surveys/school-finances/tables/2009/secondary-education-finance/elsec09t.xls\n",
      "http://www2.census.gov/programs-surveys/school-finances/tables/2010/secondary-education-finance/elsec10t.xls\n",
      "http://www2.census.gov/programs-surveys/school-finances/tables/2011/secondary-education-finance/elsec11t.xls\n",
      "http://www2.census.gov/programs-surveys/school-finances/tables/2012/secondary-education-finance/elsec12t.xls\n",
      "http://www2.census.gov/programs-surveys/school-finances/tables/2013/secondary-education-finance/elsec13t.xls\n",
      "http://www2.census.gov/programs-surveys/school-finances/tables/2014/secondary-education-finance/elsec14t.xls\n",
      "http://www2.census.gov/programs-surveys/school-finances/tables/2015/secondary-education-finance/elsec15t.xls\n"
     ]
    }
   ],
   "source": [
    "#http://www2.census.gov/programs-surveys/school-finances/tables/2006/secondary-education-finance/elsec06t.xls'\n",
    "df_list = []\n",
    "for year in range(2003,2016):\n",
    "    year_suffix = str(year)[-2:]\n",
    "    url = 'http://www2.census.gov/programs-surveys/school-finances/tables/' + str(year) \\\n",
    "    + '/secondary-education-finance/elsec' + str(year_suffix) + 't.xls'\n",
    "    print(url)\n",
    "    df = pd.read_excel(url)\n",
    "    df['Year'] = year\n",
    "    df_list.append(df)"
   ]
  },
  {
   "cell_type": "code",
   "execution_count": 27,
   "metadata": {
    "collapsed": true
   },
   "outputs": [],
   "source": [
    "#remove starting 0 for some CONUM values such as 01001 to 1001 so all consistent\n",
    "for adf in df_list:\n",
    "    adf['CONUM'] = df['CONUM'].apply(lambda x: str(x)[1:] if str(x)[0] == '0' else str(x))\n",
    "    adf['CONUM'] = df['CONUM'].astype('int')"
   ]
  },
  {
   "cell_type": "code",
   "execution_count": 28,
   "metadata": {},
   "outputs": [
    {
     "name": "stdout",
     "output_type": "stream",
     "text": [
      "(192311, 67)\n"
     ]
    },
    {
     "data": {
      "text/html": [
       "<div>\n",
       "<style>\n",
       "    .dataframe thead tr:only-child th {\n",
       "        text-align: right;\n",
       "    }\n",
       "\n",
       "    .dataframe thead th {\n",
       "        text-align: left;\n",
       "    }\n",
       "\n",
       "    .dataframe tbody tr th {\n",
       "        vertical-align: top;\n",
       "    }\n",
       "</style>\n",
       "<table border=\"1\" class=\"dataframe\">\n",
       "  <thead>\n",
       "    <tr style=\"text-align: right;\">\n",
       "      <th></th>\n",
       "      <th>CBSA</th>\n",
       "      <th>CONUM</th>\n",
       "      <th>CSA</th>\n",
       "      <th>DEBTOUT</th>\n",
       "      <th>ENROLL</th>\n",
       "      <th>FEDRCOMP</th>\n",
       "      <th>FEDRNUTR</th>\n",
       "      <th>FEDROTHR</th>\n",
       "      <th>FEDRSPEC</th>\n",
       "      <th>IDCENSUS</th>\n",
       "      <th>...</th>\n",
       "      <th>TEMPBENE</th>\n",
       "      <th>TFEDREV</th>\n",
       "      <th>TINTRST</th>\n",
       "      <th>TLOCREV</th>\n",
       "      <th>TOTALEXP</th>\n",
       "      <th>TOTALREV</th>\n",
       "      <th>TPAYOTH</th>\n",
       "      <th>TSALWAGE</th>\n",
       "      <th>TSTREV</th>\n",
       "      <th>Year</th>\n",
       "    </tr>\n",
       "  </thead>\n",
       "  <tbody>\n",
       "    <tr>\n",
       "      <th>0</th>\n",
       "      <td>33860</td>\n",
       "      <td>1001.0</td>\n",
       "      <td>0</td>\n",
       "      <td>36997</td>\n",
       "      <td>8940</td>\n",
       "      <td>1122</td>\n",
       "      <td>1498</td>\n",
       "      <td>713</td>\n",
       "      <td>1155</td>\n",
       "      <td>1500100100000</td>\n",
       "      <td>...</td>\n",
       "      <td>8626</td>\n",
       "      <td>4488</td>\n",
       "      <td>2305</td>\n",
       "      <td>14737</td>\n",
       "      <td>52431</td>\n",
       "      <td>55694</td>\n",
       "      <td>77</td>\n",
       "      <td>30405</td>\n",
       "      <td>36469</td>\n",
       "      <td>2003</td>\n",
       "    </tr>\n",
       "    <tr>\n",
       "      <th>1</th>\n",
       "      <td>19300</td>\n",
       "      <td>1003.0</td>\n",
       "      <td>380</td>\n",
       "      <td>84405</td>\n",
       "      <td>23411</td>\n",
       "      <td>2836</td>\n",
       "      <td>3081</td>\n",
       "      <td>2293</td>\n",
       "      <td>3476</td>\n",
       "      <td>1500200100000</td>\n",
       "      <td>...</td>\n",
       "      <td>27776</td>\n",
       "      <td>11686</td>\n",
       "      <td>2710</td>\n",
       "      <td>71405</td>\n",
       "      <td>172634</td>\n",
       "      <td>166133</td>\n",
       "      <td>11</td>\n",
       "      <td>99300</td>\n",
       "      <td>83042</td>\n",
       "      <td>2003</td>\n",
       "    </tr>\n",
       "    <tr>\n",
       "      <th>2</th>\n",
       "      <td>0</td>\n",
       "      <td>1005.0</td>\n",
       "      <td>0</td>\n",
       "      <td>5171</td>\n",
       "      <td>1483</td>\n",
       "      <td>841</td>\n",
       "      <td>618</td>\n",
       "      <td>446</td>\n",
       "      <td>274</td>\n",
       "      <td>1500300100000</td>\n",
       "      <td>...</td>\n",
       "      <td>1902</td>\n",
       "      <td>2179</td>\n",
       "      <td>163</td>\n",
       "      <td>1785</td>\n",
       "      <td>11070</td>\n",
       "      <td>11327</td>\n",
       "      <td>2</td>\n",
       "      <td>6463</td>\n",
       "      <td>7363</td>\n",
       "      <td>2003</td>\n",
       "    </tr>\n",
       "    <tr>\n",
       "      <th>3</th>\n",
       "      <td>0</td>\n",
       "      <td>1005.0</td>\n",
       "      <td>0</td>\n",
       "      <td>0</td>\n",
       "      <td>2883</td>\n",
       "      <td>756</td>\n",
       "      <td>746</td>\n",
       "      <td>547</td>\n",
       "      <td>375</td>\n",
       "      <td>1500300200000</td>\n",
       "      <td>...</td>\n",
       "      <td>3381</td>\n",
       "      <td>2424</td>\n",
       "      <td>0</td>\n",
       "      <td>5633</td>\n",
       "      <td>18986</td>\n",
       "      <td>20116</td>\n",
       "      <td>5</td>\n",
       "      <td>11557</td>\n",
       "      <td>12059</td>\n",
       "      <td>2003</td>\n",
       "    </tr>\n",
       "    <tr>\n",
       "      <th>4</th>\n",
       "      <td>13820</td>\n",
       "      <td>1007.0</td>\n",
       "      <td>142</td>\n",
       "      <td>7661</td>\n",
       "      <td>3600</td>\n",
       "      <td>970</td>\n",
       "      <td>960</td>\n",
       "      <td>922</td>\n",
       "      <td>691</td>\n",
       "      <td>1500400100000</td>\n",
       "      <td>...</td>\n",
       "      <td>4035</td>\n",
       "      <td>3543</td>\n",
       "      <td>307</td>\n",
       "      <td>3237</td>\n",
       "      <td>23155</td>\n",
       "      <td>23418</td>\n",
       "      <td>3</td>\n",
       "      <td>14079</td>\n",
       "      <td>16638</td>\n",
       "      <td>2003</td>\n",
       "    </tr>\n",
       "  </tbody>\n",
       "</table>\n",
       "<p>5 rows × 67 columns</p>\n",
       "</div>"
      ],
      "text/plain": [
       "    CBSA   CONUM  CSA  DEBTOUT  ENROLL  FEDRCOMP  FEDRNUTR  FEDROTHR  \\\n",
       "0  33860  1001.0    0    36997    8940      1122      1498       713   \n",
       "1  19300  1003.0  380    84405   23411      2836      3081      2293   \n",
       "2      0  1005.0    0     5171    1483       841       618       446   \n",
       "3      0  1005.0    0        0    2883       756       746       547   \n",
       "4  13820  1007.0  142     7661    3600       970       960       922   \n",
       "\n",
       "   FEDRSPEC       IDCENSUS  ...   TEMPBENE  TFEDREV  TINTRST  TLOCREV  \\\n",
       "0      1155  1500100100000  ...       8626     4488     2305    14737   \n",
       "1      3476  1500200100000  ...      27776    11686     2710    71405   \n",
       "2       274  1500300100000  ...       1902     2179      163     1785   \n",
       "3       375  1500300200000  ...       3381     2424        0     5633   \n",
       "4       691  1500400100000  ...       4035     3543      307     3237   \n",
       "\n",
       "   TOTALEXP  TOTALREV  TPAYOTH  TSALWAGE  TSTREV  Year  \n",
       "0     52431     55694       77     30405   36469  2003  \n",
       "1    172634    166133       11     99300   83042  2003  \n",
       "2     11070     11327        2      6463    7363  2003  \n",
       "3     18986     20116        5     11557   12059  2003  \n",
       "4     23155     23418        3     14079   16638  2003  \n",
       "\n",
       "[5 rows x 67 columns]"
      ]
     },
     "execution_count": 28,
     "metadata": {},
     "output_type": "execute_result"
    }
   ],
   "source": [
    "# This creates a full dataframe from list of dataframes from each year\n",
    "school_df = pd.concat(df_list)\n",
    "school_df = school_df.rename(columns = {'NAME':'SCHOOL_DISTRICT_NAME'})\n",
    "print(school_df.shape)\n",
    "school_df.head()"
   ]
  },
  {
   "cell_type": "code",
   "execution_count": 29,
   "metadata": {},
   "outputs": [
    {
     "data": {
      "text/html": [
       "<div>\n",
       "<style>\n",
       "    .dataframe thead tr:only-child th {\n",
       "        text-align: right;\n",
       "    }\n",
       "\n",
       "    .dataframe thead th {\n",
       "        text-align: left;\n",
       "    }\n",
       "\n",
       "    .dataframe tbody tr th {\n",
       "        vertical-align: top;\n",
       "    }\n",
       "</style>\n",
       "<table border=\"1\" class=\"dataframe\">\n",
       "  <thead>\n",
       "    <tr style=\"text-align: right;\">\n",
       "      <th></th>\n",
       "      <th>CBSA</th>\n",
       "      <th>CONUM</th>\n",
       "      <th>CSA</th>\n",
       "      <th>DEBTOUT</th>\n",
       "      <th>ENROLL</th>\n",
       "      <th>FEDRCOMP</th>\n",
       "      <th>FEDRNUTR</th>\n",
       "      <th>FEDROTHR</th>\n",
       "      <th>FEDRSPEC</th>\n",
       "      <th>IDCENSUS</th>\n",
       "      <th>...</th>\n",
       "      <th>TEMPBENE</th>\n",
       "      <th>TFEDREV</th>\n",
       "      <th>TINTRST</th>\n",
       "      <th>TLOCREV</th>\n",
       "      <th>TOTALEXP</th>\n",
       "      <th>TOTALREV</th>\n",
       "      <th>TPAYOTH</th>\n",
       "      <th>TSALWAGE</th>\n",
       "      <th>TSTREV</th>\n",
       "      <th>Year</th>\n",
       "    </tr>\n",
       "  </thead>\n",
       "  <tbody>\n",
       "    <tr>\n",
       "      <th>0</th>\n",
       "      <td>33860</td>\n",
       "      <td>1001.0</td>\n",
       "      <td>0</td>\n",
       "      <td>36997</td>\n",
       "      <td>8940</td>\n",
       "      <td>1122</td>\n",
       "      <td>1498</td>\n",
       "      <td>713</td>\n",
       "      <td>1155</td>\n",
       "      <td>1500100100000</td>\n",
       "      <td>...</td>\n",
       "      <td>8626</td>\n",
       "      <td>4488</td>\n",
       "      <td>2305</td>\n",
       "      <td>14737</td>\n",
       "      <td>52431</td>\n",
       "      <td>55694</td>\n",
       "      <td>77</td>\n",
       "      <td>30405</td>\n",
       "      <td>36469</td>\n",
       "      <td>2003</td>\n",
       "    </tr>\n",
       "    <tr>\n",
       "      <th>1</th>\n",
       "      <td>19300</td>\n",
       "      <td>1003.0</td>\n",
       "      <td>380</td>\n",
       "      <td>84405</td>\n",
       "      <td>23411</td>\n",
       "      <td>2836</td>\n",
       "      <td>3081</td>\n",
       "      <td>2293</td>\n",
       "      <td>3476</td>\n",
       "      <td>1500200100000</td>\n",
       "      <td>...</td>\n",
       "      <td>27776</td>\n",
       "      <td>11686</td>\n",
       "      <td>2710</td>\n",
       "      <td>71405</td>\n",
       "      <td>172634</td>\n",
       "      <td>166133</td>\n",
       "      <td>11</td>\n",
       "      <td>99300</td>\n",
       "      <td>83042</td>\n",
       "      <td>2003</td>\n",
       "    </tr>\n",
       "    <tr>\n",
       "      <th>2</th>\n",
       "      <td>0</td>\n",
       "      <td>1005.0</td>\n",
       "      <td>0</td>\n",
       "      <td>5171</td>\n",
       "      <td>1483</td>\n",
       "      <td>841</td>\n",
       "      <td>618</td>\n",
       "      <td>446</td>\n",
       "      <td>274</td>\n",
       "      <td>1500300100000</td>\n",
       "      <td>...</td>\n",
       "      <td>1902</td>\n",
       "      <td>2179</td>\n",
       "      <td>163</td>\n",
       "      <td>1785</td>\n",
       "      <td>11070</td>\n",
       "      <td>11327</td>\n",
       "      <td>2</td>\n",
       "      <td>6463</td>\n",
       "      <td>7363</td>\n",
       "      <td>2003</td>\n",
       "    </tr>\n",
       "    <tr>\n",
       "      <th>3</th>\n",
       "      <td>0</td>\n",
       "      <td>1005.0</td>\n",
       "      <td>0</td>\n",
       "      <td>0</td>\n",
       "      <td>2883</td>\n",
       "      <td>756</td>\n",
       "      <td>746</td>\n",
       "      <td>547</td>\n",
       "      <td>375</td>\n",
       "      <td>1500300200000</td>\n",
       "      <td>...</td>\n",
       "      <td>3381</td>\n",
       "      <td>2424</td>\n",
       "      <td>0</td>\n",
       "      <td>5633</td>\n",
       "      <td>18986</td>\n",
       "      <td>20116</td>\n",
       "      <td>5</td>\n",
       "      <td>11557</td>\n",
       "      <td>12059</td>\n",
       "      <td>2003</td>\n",
       "    </tr>\n",
       "    <tr>\n",
       "      <th>4</th>\n",
       "      <td>13820</td>\n",
       "      <td>1007.0</td>\n",
       "      <td>142</td>\n",
       "      <td>7661</td>\n",
       "      <td>3600</td>\n",
       "      <td>970</td>\n",
       "      <td>960</td>\n",
       "      <td>922</td>\n",
       "      <td>691</td>\n",
       "      <td>1500400100000</td>\n",
       "      <td>...</td>\n",
       "      <td>4035</td>\n",
       "      <td>3543</td>\n",
       "      <td>307</td>\n",
       "      <td>3237</td>\n",
       "      <td>23155</td>\n",
       "      <td>23418</td>\n",
       "      <td>3</td>\n",
       "      <td>14079</td>\n",
       "      <td>16638</td>\n",
       "      <td>2003</td>\n",
       "    </tr>\n",
       "  </tbody>\n",
       "</table>\n",
       "<p>5 rows × 67 columns</p>\n",
       "</div>"
      ],
      "text/plain": [
       "    CBSA   CONUM  CSA  DEBTOUT  ENROLL  FEDRCOMP  FEDRNUTR  FEDROTHR  \\\n",
       "0  33860  1001.0    0    36997    8940      1122      1498       713   \n",
       "1  19300  1003.0  380    84405   23411      2836      3081      2293   \n",
       "2      0  1005.0    0     5171    1483       841       618       446   \n",
       "3      0  1005.0    0        0    2883       756       746       547   \n",
       "4  13820  1007.0  142     7661    3600       970       960       922   \n",
       "\n",
       "   FEDRSPEC       IDCENSUS  ...   TEMPBENE  TFEDREV  TINTRST  TLOCREV  \\\n",
       "0      1155  1500100100000  ...       8626     4488     2305    14737   \n",
       "1      3476  1500200100000  ...      27776    11686     2710    71405   \n",
       "2       274  1500300100000  ...       1902     2179      163     1785   \n",
       "3       375  1500300200000  ...       3381     2424        0     5633   \n",
       "4       691  1500400100000  ...       4035     3543      307     3237   \n",
       "\n",
       "   TOTALEXP  TOTALREV  TPAYOTH  TSALWAGE  TSTREV  Year  \n",
       "0     52431     55694       77     30405   36469  2003  \n",
       "1    172634    166133       11     99300   83042  2003  \n",
       "2     11070     11327        2      6463    7363  2003  \n",
       "3     18986     20116        5     11557   12059  2003  \n",
       "4     23155     23418        3     14079   16638  2003  \n",
       "\n",
       "[5 rows x 67 columns]"
      ]
     },
     "execution_count": 29,
     "metadata": {},
     "output_type": "execute_result"
    }
   ],
   "source": [
    "# I want to drop any school districts where enrollment is zero or idcensus is zero to make analysis easier\n",
    "to_drop = list(school_df[school_df['ENROLL'] == 0]['IDCENSUS']) + list(school_df[school_df['TOTALEXP'] == 0]['IDCENSUS'])\n",
    "#print(to_drop)\n",
    "school_df = school_df[~school_df['IDCENSUS'].isin(to_drop)]\n",
    "# want to add AVERAGE SPENT FOR ENROLLED STUDENT\n",
    "school_df.head()"
   ]
  },
  {
   "cell_type": "code",
   "execution_count": 30,
   "metadata": {},
   "outputs": [
    {
     "data": {
      "text/html": [
       "<div>\n",
       "<style>\n",
       "    .dataframe thead tr:only-child th {\n",
       "        text-align: right;\n",
       "    }\n",
       "\n",
       "    .dataframe thead th {\n",
       "        text-align: left;\n",
       "    }\n",
       "\n",
       "    .dataframe tbody tr th {\n",
       "        vertical-align: top;\n",
       "    }\n",
       "</style>\n",
       "<table border=\"1\" class=\"dataframe\">\n",
       "  <thead>\n",
       "    <tr style=\"text-align: right;\">\n",
       "      <th></th>\n",
       "      <th>CONUM</th>\n",
       "      <th>SCHOOL_DISTRICT_NAME</th>\n",
       "      <th>ENROLL</th>\n",
       "      <th>TOTALREV</th>\n",
       "      <th>TFEDREV</th>\n",
       "      <th>TSTREV</th>\n",
       "      <th>TLOCREV</th>\n",
       "      <th>TOTALEXP</th>\n",
       "      <th>Year</th>\n",
       "    </tr>\n",
       "  </thead>\n",
       "  <tbody>\n",
       "    <tr>\n",
       "      <th>0</th>\n",
       "      <td>1001.0</td>\n",
       "      <td>AUTAUGA CO SCH DIST</td>\n",
       "      <td>8940</td>\n",
       "      <td>55694</td>\n",
       "      <td>4488</td>\n",
       "      <td>36469</td>\n",
       "      <td>14737</td>\n",
       "      <td>52431</td>\n",
       "      <td>2003</td>\n",
       "    </tr>\n",
       "    <tr>\n",
       "      <th>1</th>\n",
       "      <td>1003.0</td>\n",
       "      <td>BALDWIN CO SCH DIST</td>\n",
       "      <td>23411</td>\n",
       "      <td>166133</td>\n",
       "      <td>11686</td>\n",
       "      <td>83042</td>\n",
       "      <td>71405</td>\n",
       "      <td>172634</td>\n",
       "      <td>2003</td>\n",
       "    </tr>\n",
       "    <tr>\n",
       "      <th>2</th>\n",
       "      <td>1005.0</td>\n",
       "      <td>BARBOUR CO SCH DIST</td>\n",
       "      <td>1483</td>\n",
       "      <td>11327</td>\n",
       "      <td>2179</td>\n",
       "      <td>7363</td>\n",
       "      <td>1785</td>\n",
       "      <td>11070</td>\n",
       "      <td>2003</td>\n",
       "    </tr>\n",
       "    <tr>\n",
       "      <th>3</th>\n",
       "      <td>1005.0</td>\n",
       "      <td>EUFAULA CTY SCH DIST</td>\n",
       "      <td>2883</td>\n",
       "      <td>20116</td>\n",
       "      <td>2424</td>\n",
       "      <td>12059</td>\n",
       "      <td>5633</td>\n",
       "      <td>18986</td>\n",
       "      <td>2003</td>\n",
       "    </tr>\n",
       "    <tr>\n",
       "      <th>4</th>\n",
       "      <td>1007.0</td>\n",
       "      <td>BIBB CO SCH DIST</td>\n",
       "      <td>3600</td>\n",
       "      <td>23418</td>\n",
       "      <td>3543</td>\n",
       "      <td>16638</td>\n",
       "      <td>3237</td>\n",
       "      <td>23155</td>\n",
       "      <td>2003</td>\n",
       "    </tr>\n",
       "  </tbody>\n",
       "</table>\n",
       "</div>"
      ],
      "text/plain": [
       "    CONUM  SCHOOL_DISTRICT_NAME  ENROLL  TOTALREV  TFEDREV  TSTREV  TLOCREV  \\\n",
       "0  1001.0   AUTAUGA CO SCH DIST    8940     55694     4488   36469    14737   \n",
       "1  1003.0   BALDWIN CO SCH DIST   23411    166133    11686   83042    71405   \n",
       "2  1005.0   BARBOUR CO SCH DIST    1483     11327     2179    7363     1785   \n",
       "3  1005.0  EUFAULA CTY SCH DIST    2883     20116     2424   12059     5633   \n",
       "4  1007.0      BIBB CO SCH DIST    3600     23418     3543   16638     3237   \n",
       "\n",
       "   TOTALEXP  Year  \n",
       "0     52431  2003  \n",
       "1    172634  2003  \n",
       "2     11070  2003  \n",
       "3     18986  2003  \n",
       "4     23155  2003  "
      ]
     },
     "execution_count": 30,
     "metadata": {},
     "output_type": "execute_result"
    }
   ],
   "source": [
    "sub_school_df = school_df.loc[:,['CONUM', 'SCHOOL_DISTRICT_NAME', 'ENROLL', 'TOTALREV', 'TFEDREV', 'TSTREV', 'TLOCREV', 'TOTALEXP', 'Year']]\n",
    "sub_school_df.head()"
   ]
  },
  {
   "cell_type": "code",
   "execution_count": 31,
   "metadata": {},
   "outputs": [
    {
     "data": {
      "text/html": [
       "<div>\n",
       "<style>\n",
       "    .dataframe thead tr:only-child th {\n",
       "        text-align: right;\n",
       "    }\n",
       "\n",
       "    .dataframe thead th {\n",
       "        text-align: left;\n",
       "    }\n",
       "\n",
       "    .dataframe tbody tr th {\n",
       "        vertical-align: top;\n",
       "    }\n",
       "</style>\n",
       "<table border=\"1\" class=\"dataframe\">\n",
       "  <thead>\n",
       "    <tr style=\"text-align: right;\">\n",
       "      <th></th>\n",
       "      <th></th>\n",
       "      <th>ENROLL</th>\n",
       "      <th>TOTALREV</th>\n",
       "      <th>TFEDREV</th>\n",
       "      <th>TSTREV</th>\n",
       "      <th>TLOCREV</th>\n",
       "      <th>TOTALEXP</th>\n",
       "      <th>SPENT_PER_ENROLLED</th>\n",
       "    </tr>\n",
       "    <tr>\n",
       "      <th>CONUM</th>\n",
       "      <th>Year</th>\n",
       "      <th></th>\n",
       "      <th></th>\n",
       "      <th></th>\n",
       "      <th></th>\n",
       "      <th></th>\n",
       "      <th></th>\n",
       "      <th></th>\n",
       "    </tr>\n",
       "  </thead>\n",
       "  <tbody>\n",
       "    <tr>\n",
       "      <th rowspan=\"5\" valign=\"top\">1001.0</th>\n",
       "      <th>2003</th>\n",
       "      <td>8940</td>\n",
       "      <td>55694</td>\n",
       "      <td>4488</td>\n",
       "      <td>36469</td>\n",
       "      <td>14737</td>\n",
       "      <td>52431</td>\n",
       "      <td>5.864765</td>\n",
       "    </tr>\n",
       "    <tr>\n",
       "      <th>2004</th>\n",
       "      <td>9105</td>\n",
       "      <td>57121</td>\n",
       "      <td>5141</td>\n",
       "      <td>37190</td>\n",
       "      <td>14790</td>\n",
       "      <td>55179</td>\n",
       "      <td>6.060297</td>\n",
       "    </tr>\n",
       "    <tr>\n",
       "      <th>2005</th>\n",
       "      <td>9200</td>\n",
       "      <td>61748</td>\n",
       "      <td>5573</td>\n",
       "      <td>40508</td>\n",
       "      <td>15667</td>\n",
       "      <td>59863</td>\n",
       "      <td>6.506848</td>\n",
       "    </tr>\n",
       "    <tr>\n",
       "      <th>2006</th>\n",
       "      <td>9559</td>\n",
       "      <td>65282</td>\n",
       "      <td>5998</td>\n",
       "      <td>43433</td>\n",
       "      <td>15851</td>\n",
       "      <td>66157</td>\n",
       "      <td>6.920912</td>\n",
       "    </tr>\n",
       "    <tr>\n",
       "      <th>2007</th>\n",
       "      <td>9652</td>\n",
       "      <td>72861</td>\n",
       "      <td>5764</td>\n",
       "      <td>50400</td>\n",
       "      <td>16697</td>\n",
       "      <td>73885</td>\n",
       "      <td>7.654890</td>\n",
       "    </tr>\n",
       "  </tbody>\n",
       "</table>\n",
       "</div>"
      ],
      "text/plain": [
       "             ENROLL  TOTALREV  TFEDREV  TSTREV  TLOCREV  TOTALEXP  \\\n",
       "CONUM  Year                                                         \n",
       "1001.0 2003    8940     55694     4488   36469    14737     52431   \n",
       "       2004    9105     57121     5141   37190    14790     55179   \n",
       "       2005    9200     61748     5573   40508    15667     59863   \n",
       "       2006    9559     65282     5998   43433    15851     66157   \n",
       "       2007    9652     72861     5764   50400    16697     73885   \n",
       "\n",
       "             SPENT_PER_ENROLLED  \n",
       "CONUM  Year                      \n",
       "1001.0 2003            5.864765  \n",
       "       2004            6.060297  \n",
       "       2005            6.506848  \n",
       "       2006            6.920912  \n",
       "       2007            7.654890  "
      ]
     },
     "execution_count": 31,
     "metadata": {},
     "output_type": "execute_result"
    }
   ],
   "source": [
    "#we really want to group by the CONUM (FIPS) and take the sum as that will give a sum number of all the school\n",
    "#districts within a county\n",
    "summed_df = sub_school_df.groupby(['CONUM', 'Year']).sum()\n",
    "# we want to calculate the totalExp per enrollment numbers\n",
    "summed_df['SPENT_PER_ENROLLED'] = summed_df['TOTALEXP'] / summed_df['ENROLL']\n",
    "summed_df.head()"
   ]
  },
  {
   "cell_type": "markdown",
   "metadata": {},
   "source": [
    "I want to compare the the education investment 2003-2015 to the poverty change ratio calculated earlier\n",
    "from 2001-2015"
   ]
  },
  {
   "cell_type": "code",
   "execution_count": 32,
   "metadata": {},
   "outputs": [
    {
     "data": {
      "text/plain": [
       "<matplotlib.axes._subplots.AxesSubplot at 0x125e21350>"
      ]
     },
     "execution_count": 32,
     "metadata": {},
     "output_type": "execute_result"
    },
    {
     "data": {
      "image/png": "[encoded data removed]",
      "text/plain": [
       "<matplotlib.figure.Figure at 0x1236e7e50>"
      ]
     },
     "metadata": {},
     "output_type": "display_data"
    }
   ],
   "source": [
    "# I want to look at the averages for time period 2003-2015\n",
    "df = summed_df.reset_index()\n",
    "mean_df = df.groupby('CONUM').mean()\n",
    "del mean_df['Year'] #when dealing with mean year does not make sense\n",
    "mean_df = mean_df.rename(columns = {'SPENT_PER_ENROLLED':'AVG_SPENT_PER_ENROLLED_PER_YEAR'})\n",
    "mean_enroll = mean_df['AVG_SPENT_PER_ENROLLED_PER_YEAR'].mean()\n",
    "# now we want to join the school_df with the county poverty info to make things easier\n",
    "afull_df = pd.merge(mean_df.reset_index(), d_df, left_on = 'CONUM', right_on = 'FIPS')\n",
    "afull_df.head()\n",
    "afull_df = afull_df.rename(columns = {'change_ratio_normalized':'pov_change_ratio_normal'})\n",
    "# divide by mean so that way < 1 means county spend less than average per enrolled and > 1 vice versa\n",
    "afull_df['spnt_per_enroll_normal'] = afull_df['AVG_SPENT_PER_ENROLLED_PER_YEAR'] / mean_enroll\n",
    "analysis_df2 = afull_df.loc[:, ['CONUM', 'Name', 'Postal',\n",
    "                              'pov_change_ratio_normal', 'spnt_per_enroll_normal'] ]\n",
    "analysis_df2.head()\n",
    "analysis_df2.plot(x='spnt_per_enroll_normal', y='pov_change_ratio_normal', kind='scatter' )"
   ]
  },
  {
   "cell_type": "code",
   "execution_count": 33,
   "metadata": {},
   "outputs": [
    {
     "data": {
      "text/html": [
       "<div>\n",
       "<style>\n",
       "    .dataframe thead tr:only-child th {\n",
       "        text-align: right;\n",
       "    }\n",
       "\n",
       "    .dataframe thead th {\n",
       "        text-align: left;\n",
       "    }\n",
       "\n",
       "    .dataframe tbody tr th {\n",
       "        vertical-align: top;\n",
       "    }\n",
       "</style>\n",
       "<table border=\"1\" class=\"dataframe\">\n",
       "  <thead>\n",
       "    <tr style=\"text-align: right;\">\n",
       "      <th></th>\n",
       "      <th>pov_change_ratio_normal</th>\n",
       "      <th>spnt_per_enroll_normal</th>\n",
       "    </tr>\n",
       "  </thead>\n",
       "  <tbody>\n",
       "    <tr>\n",
       "      <th>pov_change_ratio_normal</th>\n",
       "      <td>1.000000</td>\n",
       "      <td>-0.003008</td>\n",
       "    </tr>\n",
       "    <tr>\n",
       "      <th>spnt_per_enroll_normal</th>\n",
       "      <td>-0.003008</td>\n",
       "      <td>1.000000</td>\n",
       "    </tr>\n",
       "  </tbody>\n",
       "</table>\n",
       "</div>"
      ],
      "text/plain": [
       "                         pov_change_ratio_normal  spnt_per_enroll_normal\n",
       "pov_change_ratio_normal                 1.000000               -0.003008\n",
       "spnt_per_enroll_normal                 -0.003008                1.000000"
      ]
     },
     "execution_count": 33,
     "metadata": {},
     "output_type": "execute_result"
    }
   ],
   "source": [
    "analysis_df2.corr()"
   ]
  },
  {
   "cell_type": "markdown",
   "metadata": {},
   "source": [
    "from the plot and correlation shown above we do not see any correlation between investing \n",
    "in education between 2001-2015 and poverty change between 2003-2015 for counties"
   ]
  },
  {
   "cell_type": "code",
   "execution_count": 34,
   "metadata": {},
   "outputs": [
    {
     "data": {
      "text/html": [
       "<div>\n",
       "<style>\n",
       "    .dataframe thead tr:only-child th {\n",
       "        text-align: right;\n",
       "    }\n",
       "\n",
       "    .dataframe thead th {\n",
       "        text-align: left;\n",
       "    }\n",
       "\n",
       "    .dataframe tbody tr th {\n",
       "        vertical-align: top;\n",
       "    }\n",
       "</style>\n",
       "<table border=\"1\" class=\"dataframe\">\n",
       "  <thead>\n",
       "    <tr style=\"text-align: right;\">\n",
       "      <th></th>\n",
       "      <th>CONUM</th>\n",
       "      <th>ENROLL</th>\n",
       "      <th>TOTALREV</th>\n",
       "      <th>TFEDREV</th>\n",
       "      <th>TSTREV</th>\n",
       "      <th>TLOCREV</th>\n",
       "      <th>TOTALEXP</th>\n",
       "      <th>AVG_SPENT_PER_ENROLLED_PER_YEAR_03_08</th>\n",
       "      <th>FIPS</th>\n",
       "      <th>Name</th>\n",
       "      <th>Postal</th>\n",
       "      <th>2001-Poverty Percent All Ages</th>\n",
       "      <th>2015-Poverty Percent All Ages</th>\n",
       "      <th>change_ratio</th>\n",
       "      <th>change_ratio_normalized</th>\n",
       "    </tr>\n",
       "  </thead>\n",
       "  <tbody>\n",
       "    <tr>\n",
       "      <th>0</th>\n",
       "      <td>1001</td>\n",
       "      <td>9384.666667</td>\n",
       "      <td>66082.833333</td>\n",
       "      <td>5482.500000</td>\n",
       "      <td>44451.166667</td>\n",
       "      <td>16149.166667</td>\n",
       "      <td>65022.500000</td>\n",
       "      <td>6.898971</td>\n",
       "      <td>1001</td>\n",
       "      <td>Autauga County</td>\n",
       "      <td>AL</td>\n",
       "      <td>10.8</td>\n",
       "      <td>12.7</td>\n",
       "      <td>1.175926</td>\n",
       "      <td>0.935941</td>\n",
       "    </tr>\n",
       "    <tr>\n",
       "      <th>1</th>\n",
       "      <td>1003</td>\n",
       "      <td>25107.833333</td>\n",
       "      <td>223553.833333</td>\n",
       "      <td>16254.500000</td>\n",
       "      <td>104539.166667</td>\n",
       "      <td>102760.166667</td>\n",
       "      <td>254309.166667</td>\n",
       "      <td>10.021361</td>\n",
       "      <td>1003</td>\n",
       "      <td>Baldwin County</td>\n",
       "      <td>AL</td>\n",
       "      <td>11.1</td>\n",
       "      <td>12.9</td>\n",
       "      <td>1.162162</td>\n",
       "      <td>0.924986</td>\n",
       "    </tr>\n",
       "    <tr>\n",
       "      <th>2</th>\n",
       "      <td>1005</td>\n",
       "      <td>4184.500000</td>\n",
       "      <td>33785.000000</td>\n",
       "      <td>5220.500000</td>\n",
       "      <td>20646.833333</td>\n",
       "      <td>7917.666667</td>\n",
       "      <td>34019.666667</td>\n",
       "      <td>8.174801</td>\n",
       "      <td>1005</td>\n",
       "      <td>Barbour County</td>\n",
       "      <td>AL</td>\n",
       "      <td>24.2</td>\n",
       "      <td>32.0</td>\n",
       "      <td>1.322314</td>\n",
       "      <td>1.052454</td>\n",
       "    </tr>\n",
       "    <tr>\n",
       "      <th>3</th>\n",
       "      <td>1007</td>\n",
       "      <td>3546.000000</td>\n",
       "      <td>28631.666667</td>\n",
       "      <td>3829.833333</td>\n",
       "      <td>20326.666667</td>\n",
       "      <td>4475.166667</td>\n",
       "      <td>29459.666667</td>\n",
       "      <td>8.312493</td>\n",
       "      <td>1007</td>\n",
       "      <td>Bibb County</td>\n",
       "      <td>AL</td>\n",
       "      <td>18.2</td>\n",
       "      <td>22.2</td>\n",
       "      <td>1.219780</td>\n",
       "      <td>0.970845</td>\n",
       "    </tr>\n",
       "    <tr>\n",
       "      <th>4</th>\n",
       "      <td>1009</td>\n",
       "      <td>9288.166667</td>\n",
       "      <td>68611.000000</td>\n",
       "      <td>5924.333333</td>\n",
       "      <td>47519.833333</td>\n",
       "      <td>15166.833333</td>\n",
       "      <td>68057.166667</td>\n",
       "      <td>7.291489</td>\n",
       "      <td>1009</td>\n",
       "      <td>Blount County</td>\n",
       "      <td>AL</td>\n",
       "      <td>13.6</td>\n",
       "      <td>14.7</td>\n",
       "      <td>1.080882</td>\n",
       "      <td>0.860294</td>\n",
       "    </tr>\n",
       "  </tbody>\n",
       "</table>\n",
       "</div>"
      ],
      "text/plain": [
       "  CONUM        ENROLL       TOTALREV       TFEDREV         TSTREV  \\\n",
       "0  1001   9384.666667   66082.833333   5482.500000   44451.166667   \n",
       "1  1003  25107.833333  223553.833333  16254.500000  104539.166667   \n",
       "2  1005   4184.500000   33785.000000   5220.500000   20646.833333   \n",
       "3  1007   3546.000000   28631.666667   3829.833333   20326.666667   \n",
       "4  1009   9288.166667   68611.000000   5924.333333   47519.833333   \n",
       "\n",
       "         TLOCREV       TOTALEXP  AVG_SPENT_PER_ENROLLED_PER_YEAR_03_08  FIPS  \\\n",
       "0   16149.166667   65022.500000                               6.898971  1001   \n",
       "1  102760.166667  254309.166667                              10.021361  1003   \n",
       "2    7917.666667   34019.666667                               8.174801  1005   \n",
       "3    4475.166667   29459.666667                               8.312493  1007   \n",
       "4   15166.833333   68057.166667                               7.291489  1009   \n",
       "\n",
       "             Name Postal  2001-Poverty Percent All Ages  \\\n",
       "0  Autauga County     AL                           10.8   \n",
       "1  Baldwin County     AL                           11.1   \n",
       "2  Barbour County     AL                           24.2   \n",
       "3     Bibb County     AL                           18.2   \n",
       "4   Blount County     AL                           13.6   \n",
       "\n",
       "   2015-Poverty Percent All Ages  change_ratio  change_ratio_normalized  \n",
       "0                           12.7      1.175926                 0.935941  \n",
       "1                           12.9      1.162162                 0.924986  \n",
       "2                           32.0      1.322314                 1.052454  \n",
       "3                           22.2      1.219780                 0.970845  \n",
       "4                           14.7      1.080882                 0.860294  "
      ]
     },
     "execution_count": 34,
     "metadata": {},
     "output_type": "execute_result"
    }
   ],
   "source": [
    "# I want to look at the averages for time period 2003-2008 \n",
    "df2 = summed_df.query('Year < 2009').reset_index()\n",
    "mean_df = df2.groupby('CONUM').mean()\n",
    "del mean_df['Year'] #when dealing with mean year does not make sense\n",
    "mean_df = mean_df.rename(columns = {'SPENT_PER_ENROLLED':'AVG_SPENT_PER_ENROLLED_PER_YEAR_03_08'})\n",
    "mean_df.head()\n",
    "# now we want to join the school_df with the county poverty info to make things easier\n",
    "full_df = pd.merge(mean_df.reset_index(), d_df, left_on = 'CONUM', right_on = 'FIPS')\n",
    "full_df.head()"
   ]
  },
  {
   "cell_type": "code",
   "execution_count": 35,
   "metadata": {},
   "outputs": [
    {
     "data": {
      "text/plain": [
       "ENROLL                                    14788.999370\n",
       "TOTALREV                                 155518.431861\n",
       "TFEDREV                                   12844.939703\n",
       "TSTREV                                    73175.019500\n",
       "TLOCREV                                   69498.472658\n",
       "TOTALEXP                                 158792.392990\n",
       "AVG_SPENT_PER_ENROLLED_PER_YEAR_03_08        10.993220\n",
       "dtype: float64"
      ]
     },
     "execution_count": 35,
     "metadata": {},
     "output_type": "execute_result"
    }
   ],
   "source": [
    "mean_df.mean()"
   ]
  },
  {
   "cell_type": "code",
   "execution_count": 36,
   "metadata": {
    "collapsed": true
   },
   "outputs": [],
   "source": [
    "mean_enroll_03_08 = mean_df['AVG_SPENT_PER_ENROLLED_PER_YEAR_03_08'].mean()"
   ]
  },
  {
   "cell_type": "markdown",
   "metadata": {},
   "source": [
    "So we can see that the average spent per enrolled student per year over years 2003-2008 is 10.99 when taking into account all counties"
   ]
  },
  {
   "cell_type": "code",
   "execution_count": 37,
   "metadata": {},
   "outputs": [
    {
     "data": {
      "text/html": [
       "<div>\n",
       "<style>\n",
       "    .dataframe thead tr:only-child th {\n",
       "        text-align: right;\n",
       "    }\n",
       "\n",
       "    .dataframe thead th {\n",
       "        text-align: left;\n",
       "    }\n",
       "\n",
       "    .dataframe tbody tr th {\n",
       "        vertical-align: top;\n",
       "    }\n",
       "</style>\n",
       "<table border=\"1\" class=\"dataframe\">\n",
       "  <thead>\n",
       "    <tr style=\"text-align: right;\">\n",
       "      <th></th>\n",
       "      <th>FIPS</th>\n",
       "      <th>Name</th>\n",
       "      <th>Postal</th>\n",
       "      <th>2009-Poverty Percent All Ages</th>\n",
       "      <th>2015-Poverty Percent All Ages</th>\n",
       "      <th>change_ratio_09_15</th>\n",
       "      <th>change_ratio_normalized_09_15</th>\n",
       "    </tr>\n",
       "  </thead>\n",
       "  <tbody>\n",
       "    <tr>\n",
       "      <th>0</th>\n",
       "      <td>1001</td>\n",
       "      <td>Autauga County</td>\n",
       "      <td>AL</td>\n",
       "      <td>11.2</td>\n",
       "      <td>12.7</td>\n",
       "      <td>1.133929</td>\n",
       "      <td>1.103073</td>\n",
       "    </tr>\n",
       "    <tr>\n",
       "      <th>1</th>\n",
       "      <td>1003</td>\n",
       "      <td>Baldwin County</td>\n",
       "      <td>AL</td>\n",
       "      <td>13.3</td>\n",
       "      <td>12.9</td>\n",
       "      <td>0.969925</td>\n",
       "      <td>0.943532</td>\n",
       "    </tr>\n",
       "    <tr>\n",
       "      <th>2</th>\n",
       "      <td>1005</td>\n",
       "      <td>Barbour County</td>\n",
       "      <td>AL</td>\n",
       "      <td>32.8</td>\n",
       "      <td>32.0</td>\n",
       "      <td>0.975610</td>\n",
       "      <td>0.949063</td>\n",
       "    </tr>\n",
       "    <tr>\n",
       "      <th>3</th>\n",
       "      <td>1007</td>\n",
       "      <td>Bibb County</td>\n",
       "      <td>AL</td>\n",
       "      <td>18.1</td>\n",
       "      <td>22.2</td>\n",
       "      <td>1.226519</td>\n",
       "      <td>1.193145</td>\n",
       "    </tr>\n",
       "    <tr>\n",
       "      <th>4</th>\n",
       "      <td>1009</td>\n",
       "      <td>Blount County</td>\n",
       "      <td>AL</td>\n",
       "      <td>14.6</td>\n",
       "      <td>14.7</td>\n",
       "      <td>1.006849</td>\n",
       "      <td>0.979452</td>\n",
       "    </tr>\n",
       "  </tbody>\n",
       "</table>\n",
       "</div>"
      ],
      "text/plain": [
       "   FIPS            Name Postal  2009-Poverty Percent All Ages  \\\n",
       "0  1001  Autauga County     AL                           11.2   \n",
       "1  1003  Baldwin County     AL                           13.3   \n",
       "2  1005  Barbour County     AL                           32.8   \n",
       "3  1007     Bibb County     AL                           18.1   \n",
       "4  1009   Blount County     AL                           14.6   \n",
       "\n",
       "   2015-Poverty Percent All Ages  change_ratio_09_15  \\\n",
       "0                           12.7            1.133929   \n",
       "1                           12.9            0.969925   \n",
       "2                           32.0            0.975610   \n",
       "3                           22.2            1.226519   \n",
       "4                           14.7            1.006849   \n",
       "\n",
       "   change_ratio_normalized_09_15  \n",
       "0                       1.103073  \n",
       "1                       0.943532  \n",
       "2                       0.949063  \n",
       "3                       1.193145  \n",
       "4                       0.979452  "
      ]
     },
     "execution_count": 37,
     "metadata": {},
     "output_type": "execute_result"
    }
   ],
   "source": [
    "# we want the change_ratio_normalized poverty stats for 2009-2015\n",
    "tdf = county_stat.loc[:,['FIPS', 'Name', 'Postal', 'Poverty Percent All Ages', 'Year']]\n",
    "tdf_2009 = tdf[tdf['Year'] == 2009]\n",
    "tdf_2015 = tdf[tdf['Year'] == 2015]\n",
    "tdf_2009.columns = ['FIPS', 'Name', 'Postal', '2009-Poverty Percent All Ages', 'Year']\n",
    "tdf_2015.columns = ['FIPS', 'Name', 'Postal', '2015-Poverty Percent All Ages', 'Year']\n",
    "del tdf_2009['Year']\n",
    "del tdf_2015['Year']\n",
    "ttdf_2015 = tdf_2015.set_index(['FIPS', 'Name', 'Postal'])\n",
    "ttdf_2009 = tdf_2009.set_index(['FIPS', 'Name', 'Postal'])\n",
    "ttdf = ttdf_2009.join(ttdf_2015)\n",
    "ttdf['change_ratio_09_15'] = ttdf['2015-Poverty Percent All Ages'] / ttdf['2009-Poverty Percent All Ages']\n",
    "pov_percent_2015 = US_stat.loc[US_stat[\"Year\"] == 2015,'Poverty Percent All Ages'].iloc[0]\n",
    "pov_percent_2009 = US_stat.loc[US_stat[\"Year\"] == 2009,'Poverty Percent All Ages'].iloc[0]\n",
    "usa_2009_2015_perc_increase = pov_percent_2015 / pov_percent_2009\n",
    "ttdf['change_ratio_normalized_09_15'] = ttdf['change_ratio_09_15'] / usa_2009_2015_perc_increase\n",
    "ttdf.reset_index(inplace=True)\n",
    "# need to convert FIPS back to int\n",
    "ttdf['FIPS'] = ttdf['FIPS'].astype('int')\n",
    "ttdf.head()"
   ]
  },
  {
   "cell_type": "code",
   "execution_count": 38,
   "metadata": {},
   "outputs": [
    {
     "data": {
      "text/html": [
       "<div>\n",
       "<style>\n",
       "    .dataframe thead tr:only-child th {\n",
       "        text-align: right;\n",
       "    }\n",
       "\n",
       "    .dataframe thead th {\n",
       "        text-align: left;\n",
       "    }\n",
       "\n",
       "    .dataframe tbody tr th {\n",
       "        vertical-align: top;\n",
       "    }\n",
       "</style>\n",
       "<table border=\"1\" class=\"dataframe\">\n",
       "  <thead>\n",
       "    <tr style=\"text-align: right;\">\n",
       "      <th></th>\n",
       "      <th>CONUM</th>\n",
       "      <th>ENROLL</th>\n",
       "      <th>TOTALREV</th>\n",
       "      <th>TFEDREV</th>\n",
       "      <th>TSTREV</th>\n",
       "      <th>TLOCREV</th>\n",
       "      <th>TOTALEXP</th>\n",
       "      <th>AVG_SPENT_PER_ENROLLED_PER_YEAR_03_08</th>\n",
       "      <th>FIPS</th>\n",
       "      <th>Name</th>\n",
       "      <th>Postal</th>\n",
       "      <th>2009-Poverty Percent All Ages</th>\n",
       "      <th>2015-Poverty Percent All Ages</th>\n",
       "      <th>change_ratio_09_15</th>\n",
       "      <th>change_ratio_normalized_09_15</th>\n",
       "    </tr>\n",
       "  </thead>\n",
       "  <tbody>\n",
       "    <tr>\n",
       "      <th>0</th>\n",
       "      <td>1001</td>\n",
       "      <td>9384.666667</td>\n",
       "      <td>66082.833333</td>\n",
       "      <td>5482.500000</td>\n",
       "      <td>44451.166667</td>\n",
       "      <td>16149.166667</td>\n",
       "      <td>65022.500000</td>\n",
       "      <td>6.898971</td>\n",
       "      <td>1001</td>\n",
       "      <td>Autauga County</td>\n",
       "      <td>AL</td>\n",
       "      <td>11.2</td>\n",
       "      <td>12.7</td>\n",
       "      <td>1.133929</td>\n",
       "      <td>1.103073</td>\n",
       "    </tr>\n",
       "    <tr>\n",
       "      <th>1</th>\n",
       "      <td>1003</td>\n",
       "      <td>25107.833333</td>\n",
       "      <td>223553.833333</td>\n",
       "      <td>16254.500000</td>\n",
       "      <td>104539.166667</td>\n",
       "      <td>102760.166667</td>\n",
       "      <td>254309.166667</td>\n",
       "      <td>10.021361</td>\n",
       "      <td>1003</td>\n",
       "      <td>Baldwin County</td>\n",
       "      <td>AL</td>\n",
       "      <td>13.3</td>\n",
       "      <td>12.9</td>\n",
       "      <td>0.969925</td>\n",
       "      <td>0.943532</td>\n",
       "    </tr>\n",
       "    <tr>\n",
       "      <th>2</th>\n",
       "      <td>1005</td>\n",
       "      <td>4184.500000</td>\n",
       "      <td>33785.000000</td>\n",
       "      <td>5220.500000</td>\n",
       "      <td>20646.833333</td>\n",
       "      <td>7917.666667</td>\n",
       "      <td>34019.666667</td>\n",
       "      <td>8.174801</td>\n",
       "      <td>1005</td>\n",
       "      <td>Barbour County</td>\n",
       "      <td>AL</td>\n",
       "      <td>32.8</td>\n",
       "      <td>32.0</td>\n",
       "      <td>0.975610</td>\n",
       "      <td>0.949063</td>\n",
       "    </tr>\n",
       "    <tr>\n",
       "      <th>3</th>\n",
       "      <td>1007</td>\n",
       "      <td>3546.000000</td>\n",
       "      <td>28631.666667</td>\n",
       "      <td>3829.833333</td>\n",
       "      <td>20326.666667</td>\n",
       "      <td>4475.166667</td>\n",
       "      <td>29459.666667</td>\n",
       "      <td>8.312493</td>\n",
       "      <td>1007</td>\n",
       "      <td>Bibb County</td>\n",
       "      <td>AL</td>\n",
       "      <td>18.1</td>\n",
       "      <td>22.2</td>\n",
       "      <td>1.226519</td>\n",
       "      <td>1.193145</td>\n",
       "    </tr>\n",
       "    <tr>\n",
       "      <th>4</th>\n",
       "      <td>1009</td>\n",
       "      <td>9288.166667</td>\n",
       "      <td>68611.000000</td>\n",
       "      <td>5924.333333</td>\n",
       "      <td>47519.833333</td>\n",
       "      <td>15166.833333</td>\n",
       "      <td>68057.166667</td>\n",
       "      <td>7.291489</td>\n",
       "      <td>1009</td>\n",
       "      <td>Blount County</td>\n",
       "      <td>AL</td>\n",
       "      <td>14.6</td>\n",
       "      <td>14.7</td>\n",
       "      <td>1.006849</td>\n",
       "      <td>0.979452</td>\n",
       "    </tr>\n",
       "  </tbody>\n",
       "</table>\n",
       "</div>"
      ],
      "text/plain": [
       "  CONUM        ENROLL       TOTALREV       TFEDREV         TSTREV  \\\n",
       "0  1001   9384.666667   66082.833333   5482.500000   44451.166667   \n",
       "1  1003  25107.833333  223553.833333  16254.500000  104539.166667   \n",
       "2  1005   4184.500000   33785.000000   5220.500000   20646.833333   \n",
       "3  1007   3546.000000   28631.666667   3829.833333   20326.666667   \n",
       "4  1009   9288.166667   68611.000000   5924.333333   47519.833333   \n",
       "\n",
       "         TLOCREV       TOTALEXP  AVG_SPENT_PER_ENROLLED_PER_YEAR_03_08  FIPS  \\\n",
       "0   16149.166667   65022.500000                               6.898971  1001   \n",
       "1  102760.166667  254309.166667                              10.021361  1003   \n",
       "2    7917.666667   34019.666667                               8.174801  1005   \n",
       "3    4475.166667   29459.666667                               8.312493  1007   \n",
       "4   15166.833333   68057.166667                               7.291489  1009   \n",
       "\n",
       "             Name Postal  2009-Poverty Percent All Ages  \\\n",
       "0  Autauga County     AL                           11.2   \n",
       "1  Baldwin County     AL                           13.3   \n",
       "2  Barbour County     AL                           32.8   \n",
       "3     Bibb County     AL                           18.1   \n",
       "4   Blount County     AL                           14.6   \n",
       "\n",
       "   2015-Poverty Percent All Ages  change_ratio_09_15  \\\n",
       "0                           12.7            1.133929   \n",
       "1                           12.9            0.969925   \n",
       "2                           32.0            0.975610   \n",
       "3                           22.2            1.226519   \n",
       "4                           14.7            1.006849   \n",
       "\n",
       "   change_ratio_normalized_09_15  \n",
       "0                       1.103073  \n",
       "1                       0.943532  \n",
       "2                       0.949063  \n",
       "3                       1.193145  \n",
       "4                       0.979452  "
      ]
     },
     "execution_count": 38,
     "metadata": {},
     "output_type": "execute_result"
    }
   ],
   "source": [
    "# now we want to join the school_df with the county poverty info to make things easier\n",
    "full_df = pd.merge(mean_df.reset_index(), ttdf, left_on = 'CONUM', right_on = 'FIPS')\n",
    "full_df.head()"
   ]
  },
  {
   "cell_type": "code",
   "execution_count": 39,
   "metadata": {},
   "outputs": [
    {
     "data": {
      "text/plain": [
       "<matplotlib.axes._subplots.AxesSubplot at 0x124145910>"
      ]
     },
     "execution_count": 39,
     "metadata": {},
     "output_type": "execute_result"
    },
    {
     "data": {
      "image/png": "[encoded data removed]",
      "text/plain": [
       "<matplotlib.figure.Figure at 0x12a5a4750>"
      ]
     },
     "metadata": {},
     "output_type": "display_data"
    }
   ],
   "source": [
    "full_df = full_df.rename(columns = {'change_ratio_normalized_09_15':'pov_change_ratio_normal_09_15'})\n",
    "# divide by mean so that way < 1 means county spend less than average per enrolled and > 1 vice versa\n",
    "full_df['spnt_per_enroll_nrmal_03_08_normal'] = full_df['AVG_SPENT_PER_ENROLLED_PER_YEAR_03_08'] / mean_enroll_03_08\n",
    "analysis_df = full_df.loc[:, ['CONUM', 'Name', 'Postal',\n",
    "                              'pov_change_ratio_normal_09_15', 'spnt_per_enroll_nrmal_03_08_normal'] ]\n",
    "analysis_df.head()\n",
    "analysis_df.plot(x='spnt_per_enroll_nrmal_03_08_normal', y='pov_change_ratio_normal_09_15', kind='scatter' )"
   ]
  },
  {
   "cell_type": "code",
   "execution_count": 40,
   "metadata": {},
   "outputs": [
    {
     "data": {
      "text/html": [
       "<div>\n",
       "<style>\n",
       "    .dataframe thead tr:only-child th {\n",
       "        text-align: right;\n",
       "    }\n",
       "\n",
       "    .dataframe thead th {\n",
       "        text-align: left;\n",
       "    }\n",
       "\n",
       "    .dataframe tbody tr th {\n",
       "        vertical-align: top;\n",
       "    }\n",
       "</style>\n",
       "<table border=\"1\" class=\"dataframe\">\n",
       "  <thead>\n",
       "    <tr style=\"text-align: right;\">\n",
       "      <th></th>\n",
       "      <th>pov_change_ratio_normal_09_15</th>\n",
       "      <th>spnt_per_enroll_nrmal_03_08_normal</th>\n",
       "    </tr>\n",
       "  </thead>\n",
       "  <tbody>\n",
       "    <tr>\n",
       "      <th>pov_change_ratio_normal_09_15</th>\n",
       "      <td>1.000000</td>\n",
       "      <td>0.048332</td>\n",
       "    </tr>\n",
       "    <tr>\n",
       "      <th>spnt_per_enroll_nrmal_03_08_normal</th>\n",
       "      <td>0.048332</td>\n",
       "      <td>1.000000</td>\n",
       "    </tr>\n",
       "  </tbody>\n",
       "</table>\n",
       "</div>"
      ],
      "text/plain": [
       "                                    pov_change_ratio_normal_09_15  \\\n",
       "pov_change_ratio_normal_09_15                            1.000000   \n",
       "spnt_per_enroll_nrmal_03_08_normal                       0.048332   \n",
       "\n",
       "                                    spnt_per_enroll_nrmal_03_08_normal  \n",
       "pov_change_ratio_normal_09_15                                 0.048332  \n",
       "spnt_per_enroll_nrmal_03_08_normal                            1.000000  "
      ]
     },
     "execution_count": 40,
     "metadata": {},
     "output_type": "execute_result"
    }
   ],
   "source": [
    "analysis_df.corr()"
   ]
  },
  {
   "cell_type": "markdown",
   "metadata": {},
   "source": [
    "from the plot and correlation shown above we do not see any correlation between investing \n",
    "in education between 2003-2008 and poverty change between 2009-2015"
   ]
  },
  {
   "cell_type": "code",
   "execution_count": 41,
   "metadata": {
    "collapsed": true
   },
   "outputs": [],
   "source": [
    "# want to make into function to check a bunch of cross sections of avg spending per enrolled vs poverty rates for\n",
    "# different time ranges"
   ]
  },
  {
   "cell_type": "code",
   "execution_count": 42,
   "metadata": {
    "collapsed": true
   },
   "outputs": [],
   "source": [
    "def eduPovCorr(educYear, pov_start_year, pov_end_year):\n",
    "    query = 'Year < ' + str(educYear)\n",
    "    print(query)\n",
    "    # I want to look at the averages for time period\n",
    "    df2 = summed_df.query(query).reset_index()\n",
    "    mean_df = df2.groupby('CONUM').mean()\n",
    "    del mean_df['Year'] #when dealing with mean year does not make sense\n",
    "    mean_df = mean_df.rename(columns = {'SPENT_PER_ENROLLED':'AVG_SPENT_PER_ENROLLED_PER_YEAR'})\n",
    "    mean_enroll = mean_df['AVG_SPENT_PER_ENROLLED_PER_YEAR'].mean()\n",
    "    # we want the change_ratio_normalized poverty stats from pov_start_year to pov_end_year\n",
    "    tdf = county_stat.loc[:,['FIPS', 'Name', 'Postal', 'Poverty Percent All Ages', 'Year']]\n",
    "    tdf_start = tdf[tdf['Year'] == pov_start_year]\n",
    "    tdf_end = tdf[tdf['Year'] == pov_end_year]\n",
    "    tdf_start.columns = ['FIPS', 'Name', 'Postal', 'Start-Poverty Percent All Ages', 'Year']\n",
    "    tdf_end.columns = ['FIPS', 'Name', 'Postal', 'end-Poverty Percent All Ages', 'Year']\n",
    "    del tdf_start['Year']\n",
    "    del tdf_end['Year']\n",
    "    ttdf_end = tdf_end.set_index(['FIPS', 'Name', 'Postal'])\n",
    "    ttdf_start = tdf_start.set_index(['FIPS', 'Name', 'Postal'])\n",
    "    ttdf = ttdf_start.join(ttdf_end)\n",
    "    ttdf['change_ratio'] = ttdf['end-Poverty Percent All Ages'] / ttdf['Start-Poverty Percent All Ages']\n",
    "    pov_percent_start = US_stat.loc[US_stat[\"Year\"] == pov_start_year,'Poverty Percent All Ages'].iloc[0]\n",
    "    pov_percent_end = US_stat.loc[US_stat[\"Year\"] == pov_end_year,'Poverty Percent All Ages'].iloc[0]\n",
    "    usa_range_perc_increase = pov_percent_end / pov_percent_start\n",
    "    ttdf['change_ratio_normalized'] = ttdf['change_ratio'] / usa_range_perc_increase\n",
    "    ttdf.reset_index(inplace=True)\n",
    "    # need to convert FIPS back to int\n",
    "    ttdf['FIPS'] = ttdf['FIPS'].astype('int')\n",
    "\n",
    "    # now we want to join the school_df with the county poverty info to make things easier\n",
    "    full_df = pd.merge(mean_df.reset_index(), ttdf, left_on = 'CONUM', right_on = 'FIPS')\n",
    "\n",
    "    full_df = full_df.rename(columns = {'change_ratio_normalized':'pov_change_ratio_normal'})\n",
    "    # divide by mean so that way < 1 means county spend less than average per enrolled and > 1 vice versa\n",
    "    full_df['spnt_per_enroll_nrmal_normal'] = full_df['AVG_SPENT_PER_ENROLLED_PER_YEAR'] / mean_enroll\n",
    "    analysis_df = full_df.loc[:, ['CONUM', 'Name', 'Postal',\n",
    "                                  'pov_change_ratio_normal', 'spnt_per_enroll_nrmal_normal'] ]\n",
    "    title = \" 2003 - {0} Education Spending, Pov Year Range {1} - {2}\".format(str(educYear-1),\n",
    "                                                                              str(pov_start_year),\n",
    "                                                                              str(pov_end_year))\n",
    "    analysis_df.plot(x='spnt_per_enroll_nrmal_normal', y='pov_change_ratio_normal', kind='scatter', title=title )\n",
    "    return analysis_df.corr()\n",
    "  "
   ]
  },
  {
   "cell_type": "code",
   "execution_count": 43,
   "metadata": {},
   "outputs": [
    {
     "name": "stdout",
     "output_type": "stream",
     "text": [
      "Year < 2005\n"
     ]
    },
    {
     "data": {
      "text/html": [
       "<div>\n",
       "<style>\n",
       "    .dataframe thead tr:only-child th {\n",
       "        text-align: right;\n",
       "    }\n",
       "\n",
       "    .dataframe thead th {\n",
       "        text-align: left;\n",
       "    }\n",
       "\n",
       "    .dataframe tbody tr th {\n",
       "        vertical-align: top;\n",
       "    }\n",
       "</style>\n",
       "<table border=\"1\" class=\"dataframe\">\n",
       "  <thead>\n",
       "    <tr style=\"text-align: right;\">\n",
       "      <th></th>\n",
       "      <th>pov_change_ratio_normal</th>\n",
       "      <th>spnt_per_enroll_nrmal_normal</th>\n",
       "    </tr>\n",
       "  </thead>\n",
       "  <tbody>\n",
       "    <tr>\n",
       "      <th>pov_change_ratio_normal</th>\n",
       "      <td>1.000000</td>\n",
       "      <td>-0.006608</td>\n",
       "    </tr>\n",
       "    <tr>\n",
       "      <th>spnt_per_enroll_nrmal_normal</th>\n",
       "      <td>-0.006608</td>\n",
       "      <td>1.000000</td>\n",
       "    </tr>\n",
       "  </tbody>\n",
       "</table>\n",
       "</div>"
      ],
      "text/plain": [
       "                              pov_change_ratio_normal  \\\n",
       "pov_change_ratio_normal                      1.000000   \n",
       "spnt_per_enroll_nrmal_normal                -0.006608   \n",
       "\n",
       "                              spnt_per_enroll_nrmal_normal  \n",
       "pov_change_ratio_normal                          -0.006608  \n",
       "spnt_per_enroll_nrmal_normal                      1.000000  "
      ]
     },
     "execution_count": 43,
     "metadata": {},
     "output_type": "execute_result"
    },
    {
     "data": {
      "image/png": "[encoded data removed]",
      "text/plain": [
       "<matplotlib.figure.Figure at 0x123ee88d0>"
      ]
     },
     "metadata": {},
     "output_type": "display_data"
    }
   ],
   "source": [
    "#this is for education spending 2003 - 2004 vs poverty change 2013-2015\n",
    "educYearMax, pov_start_year, pov_end_year = 2005,2013,2015 \n",
    "eduPovCorr(educYearMax, pov_start_year, pov_end_year)"
   ]
  },
  {
   "cell_type": "code",
   "execution_count": 44,
   "metadata": {},
   "outputs": [
    {
     "name": "stdout",
     "output_type": "stream",
     "text": [
      "Year < 2009\n"
     ]
    },
    {
     "data": {
      "text/html": [
       "<div>\n",
       "<style>\n",
       "    .dataframe thead tr:only-child th {\n",
       "        text-align: right;\n",
       "    }\n",
       "\n",
       "    .dataframe thead th {\n",
       "        text-align: left;\n",
       "    }\n",
       "\n",
       "    .dataframe tbody tr th {\n",
       "        vertical-align: top;\n",
       "    }\n",
       "</style>\n",
       "<table border=\"1\" class=\"dataframe\">\n",
       "  <thead>\n",
       "    <tr style=\"text-align: right;\">\n",
       "      <th></th>\n",
       "      <th>pov_change_ratio_normal</th>\n",
       "      <th>spnt_per_enroll_nrmal_normal</th>\n",
       "    </tr>\n",
       "  </thead>\n",
       "  <tbody>\n",
       "    <tr>\n",
       "      <th>pov_change_ratio_normal</th>\n",
       "      <td>1.000000</td>\n",
       "      <td>0.006295</td>\n",
       "    </tr>\n",
       "    <tr>\n",
       "      <th>spnt_per_enroll_nrmal_normal</th>\n",
       "      <td>0.006295</td>\n",
       "      <td>1.000000</td>\n",
       "    </tr>\n",
       "  </tbody>\n",
       "</table>\n",
       "</div>"
      ],
      "text/plain": [
       "                              pov_change_ratio_normal  \\\n",
       "pov_change_ratio_normal                      1.000000   \n",
       "spnt_per_enroll_nrmal_normal                 0.006295   \n",
       "\n",
       "                              spnt_per_enroll_nrmal_normal  \n",
       "pov_change_ratio_normal                           0.006295  \n",
       "spnt_per_enroll_nrmal_normal                      1.000000  "
      ]
     },
     "execution_count": 44,
     "metadata": {},
     "output_type": "execute_result"
    },
    {
     "data": {
      "image/png": "[encoded data removed]",
      "text/plain": [
       "<matplotlib.figure.Figure at 0x124145490>"
      ]
     },
     "metadata": {},
     "output_type": "display_data"
    }
   ],
   "source": [
    "#this is for education spending 2003 - 2004 vs poverty change 2013-2015\n",
    "educYearMax, pov_start_year, pov_end_year = 2009,2012,2015 \n",
    "eduPovCorr(educYearMax, pov_start_year, pov_end_year)"
   ]
  },
  {
   "cell_type": "markdown",
   "metadata": {},
   "source": [
    "as we can see there is not even close to a correlation, even when trying different year ranges"
   ]
  },
  {
   "cell_type": "markdown",
   "metadata": {},
   "source": [
    "Lets try looking at a different column from school district data that looks interesting - PER PUPIL - TOTAL CURRENT SPENDING "
   ]
  },
  {
   "cell_type": "code",
   "execution_count": 45,
   "metadata": {
    "collapsed": true
   },
   "outputs": [],
   "source": [
    "school_df.head()\n",
    "sub_school_df = school_df.loc[:,['CONUM', 'SCHOOL_DISTRICT_NAME', 'PPCSTOT', 'Year']]\n",
    "#we want to take the mean for PPCSTOT\n",
    "summed_df2 = sub_school_df.groupby(['CONUM', 'Year']).mean()\n"
   ]
  },
  {
   "cell_type": "code",
   "execution_count": 46,
   "metadata": {
    "collapsed": true
   },
   "outputs": [],
   "source": [
    "# this will test the correlation for PPCSTOT (Spending per Pupil) vs poverty\n",
    "def eduPovCorrPPCSTOT(educYear, pov_start_year, pov_end_year):\n",
    "    sub_school_df = school_df.loc[:,['CONUM', 'SCHOOL_DISTRICT_NAME', 'PPCSTOT', 'Year']]\n",
    "    #we want to take the mean for PPCSTOT\n",
    "    summed_df2 = sub_school_df.groupby(['CONUM', 'Year']).mean()\n",
    "    query = 'Year < ' + str(educYear)\n",
    "    print(query)\n",
    "    # I want to look at the averages for time period\n",
    "    df2 = summed_df2.query(query).reset_index()\n",
    "    mean_df = df2.groupby('CONUM').mean()\n",
    "    del mean_df['Year'] #when dealing with mean year does not make sense\n",
    "    mean_df = mean_df.rename(columns = {'PPCSTOT':'PPCSTOT_PER_YEAR'})\n",
    "    mean_ppcstot = mean_df['PPCSTOT_PER_YEAR'].mean()\n",
    "    # we want the change_ratio_normalized poverty stats from pov_start_year to pov_end_year\n",
    "    tdf = county_stat.loc[:,['FIPS', 'Name', 'Postal', 'Poverty Percent All Ages', 'Year']]\n",
    "    tdf_start = tdf[tdf['Year'] == pov_start_year]\n",
    "    tdf_end = tdf[tdf['Year'] == pov_end_year]\n",
    "    tdf_start.columns = ['FIPS', 'Name', 'Postal', 'Start-Poverty Percent All Ages', 'Year']\n",
    "    tdf_end.columns = ['FIPS', 'Name', 'Postal', 'end-Poverty Percent All Ages', 'Year']\n",
    "    del tdf_start['Year']\n",
    "    del tdf_end['Year']\n",
    "    ttdf_end = tdf_end.set_index(['FIPS', 'Name', 'Postal'])\n",
    "    ttdf_start = tdf_start.set_index(['FIPS', 'Name', 'Postal'])\n",
    "    ttdf = ttdf_start.join(ttdf_end)\n",
    "    ttdf['change_ratio'] = ttdf['end-Poverty Percent All Ages'] / ttdf['Start-Poverty Percent All Ages']\n",
    "    pov_percent_start = US_stat.loc[US_stat[\"Year\"] == pov_start_year,'Poverty Percent All Ages'].iloc[0]\n",
    "    pov_percent_end = US_stat.loc[US_stat[\"Year\"] == pov_end_year,'Poverty Percent All Ages'].iloc[0]\n",
    "    usa_range_perc_increase = pov_percent_end / pov_percent_start\n",
    "    ttdf['change_ratio_normalized'] = ttdf['change_ratio'] / usa_range_perc_increase\n",
    "    ttdf.reset_index(inplace=True)\n",
    "    # need to convert FIPS back to int\n",
    "    ttdf['FIPS'] = ttdf['FIPS'].astype('int')\n",
    "\n",
    "    # now we want to join the school_df with the county poverty info to make things easier\n",
    "    full_df = pd.merge(mean_df.reset_index(), ttdf, left_on = 'CONUM', right_on = 'FIPS')\n",
    "\n",
    "    full_df = full_df.rename(columns = {'change_ratio_normalized':'pov_change_ratio_normal'})\n",
    "    # divide by mean so that way < 1 means county spend less than average per PPCSTOT and > 1 vice versa\n",
    "    full_df['ppcstot_normal'] = full_df['PPCSTOT_PER_YEAR'] / mean_ppcstot\n",
    "    analysis_df = full_df.loc[:, ['CONUM', 'Name', 'Postal',\n",
    "                                  'pov_change_ratio_normal', 'ppcstot_normal'] ]\n",
    "    title = \" 2003 - {0} Education Spending Per Pupil, Pov Year Range {1} - {2}\".format(str(educYear-1),\n",
    "                                                                              str(pov_start_year),\n",
    "                                                                              str(pov_end_year))\n",
    "    analysis_df.plot(x='ppcstot_normal', y='pov_change_ratio_normal', kind='scatter', title=title )\n",
    "    return analysis_df.corr()\n",
    "  "
   ]
  },
  {
   "cell_type": "code",
   "execution_count": 47,
   "metadata": {},
   "outputs": [
    {
     "name": "stdout",
     "output_type": "stream",
     "text": [
      "Year < 2009\n"
     ]
    },
    {
     "data": {
      "text/html": [
       "<div>\n",
       "<style>\n",
       "    .dataframe thead tr:only-child th {\n",
       "        text-align: right;\n",
       "    }\n",
       "\n",
       "    .dataframe thead th {\n",
       "        text-align: left;\n",
       "    }\n",
       "\n",
       "    .dataframe tbody tr th {\n",
       "        vertical-align: top;\n",
       "    }\n",
       "</style>\n",
       "<table border=\"1\" class=\"dataframe\">\n",
       "  <thead>\n",
       "    <tr style=\"text-align: right;\">\n",
       "      <th></th>\n",
       "      <th>pov_change_ratio_normal</th>\n",
       "      <th>ppcstot_normal</th>\n",
       "    </tr>\n",
       "  </thead>\n",
       "  <tbody>\n",
       "    <tr>\n",
       "      <th>pov_change_ratio_normal</th>\n",
       "      <td>1.000000</td>\n",
       "      <td>0.014295</td>\n",
       "    </tr>\n",
       "    <tr>\n",
       "      <th>ppcstot_normal</th>\n",
       "      <td>0.014295</td>\n",
       "      <td>1.000000</td>\n",
       "    </tr>\n",
       "  </tbody>\n",
       "</table>\n",
       "</div>"
      ],
      "text/plain": [
       "                         pov_change_ratio_normal  ppcstot_normal\n",
       "pov_change_ratio_normal                 1.000000        0.014295\n",
       "ppcstot_normal                          0.014295        1.000000"
      ]
     },
     "execution_count": 47,
     "metadata": {},
     "output_type": "execute_result"
    },
    {
     "data": {
      "image/png": "[encoded data removed]",
      "text/plain": [
       "<matplotlib.figure.Figure at 0x1241d8b10>"
      ]
     },
     "metadata": {},
     "output_type": "display_data"
    }
   ],
   "source": [
    "#this is for spending per pupil (PCCSTOT) () 2003 - 2004 vs poverty change 2013-2015\n",
    "educYearMax, pov_start_year, pov_end_year = 2009,2012,2015 \n",
    "eduPovCorrPPCSTOT(educYearMax, pov_start_year, pov_end_year)"
   ]
  },
  {
   "cell_type": "code",
   "execution_count": 48,
   "metadata": {},
   "outputs": [
    {
     "name": "stdout",
     "output_type": "stream",
     "text": [
      "Year < 2005\n"
     ]
    },
    {
     "data": {
      "text/html": [
       "<div>\n",
       "<style>\n",
       "    .dataframe thead tr:only-child th {\n",
       "        text-align: right;\n",
       "    }\n",
       "\n",
       "    .dataframe thead th {\n",
       "        text-align: left;\n",
       "    }\n",
       "\n",
       "    .dataframe tbody tr th {\n",
       "        vertical-align: top;\n",
       "    }\n",
       "</style>\n",
       "<table border=\"1\" class=\"dataframe\">\n",
       "  <thead>\n",
       "    <tr style=\"text-align: right;\">\n",
       "      <th></th>\n",
       "      <th>pov_change_ratio_normal</th>\n",
       "      <th>ppcstot_normal</th>\n",
       "    </tr>\n",
       "  </thead>\n",
       "  <tbody>\n",
       "    <tr>\n",
       "      <th>pov_change_ratio_normal</th>\n",
       "      <td>1.000000</td>\n",
       "      <td>-0.005334</td>\n",
       "    </tr>\n",
       "    <tr>\n",
       "      <th>ppcstot_normal</th>\n",
       "      <td>-0.005334</td>\n",
       "      <td>1.000000</td>\n",
       "    </tr>\n",
       "  </tbody>\n",
       "</table>\n",
       "</div>"
      ],
      "text/plain": [
       "                         pov_change_ratio_normal  ppcstot_normal\n",
       "pov_change_ratio_normal                 1.000000       -0.005334\n",
       "ppcstot_normal                         -0.005334        1.000000"
      ]
     },
     "execution_count": 48,
     "metadata": {},
     "output_type": "execute_result"
    },
    {
     "data": {
      "image/png": "[encoded data removed]",
      "text/plain": [
       "<matplotlib.figure.Figure at 0x126229ed0>"
      ]
     },
     "metadata": {},
     "output_type": "display_data"
    }
   ],
   "source": [
    "#this is for education spending per pupil (PCCSTOT) 2003 - 2004 vs poverty change 2013-2015\n",
    "educYearMax, pov_start_year, pov_end_year = 2005,2012,2015 \n",
    "eduPovCorrPPCSTOT(educYearMax, pov_start_year, pov_end_year)"
   ]
  },
  {
   "cell_type": "markdown",
   "metadata": {},
   "source": [
    "even using the PPCSTOT information for each county, we do not see any correlation between money spent per pupil for education vs poverty change"
   ]
  },
  {
   "cell_type": "markdown",
   "metadata": {},
   "source": [
    "Now lets try analyzing the data in a slightly different way"
   ]
  },
  {
   "cell_type": "code",
   "execution_count": 49,
   "metadata": {},
   "outputs": [
    {
     "data": {
      "text/html": [
       "<div>\n",
       "<style>\n",
       "    .dataframe thead tr:only-child th {\n",
       "        text-align: right;\n",
       "    }\n",
       "\n",
       "    .dataframe thead th {\n",
       "        text-align: left;\n",
       "    }\n",
       "\n",
       "    .dataframe tbody tr th {\n",
       "        vertical-align: top;\n",
       "    }\n",
       "</style>\n",
       "<table border=\"1\" class=\"dataframe\">\n",
       "  <thead>\n",
       "    <tr style=\"text-align: right;\">\n",
       "      <th></th>\n",
       "      <th>CONUM</th>\n",
       "      <th>above_or_below_mean</th>\n",
       "      <th>Poverty Percent All Ages</th>\n",
       "      <th>Year</th>\n",
       "    </tr>\n",
       "  </thead>\n",
       "  <tbody>\n",
       "    <tr>\n",
       "      <th>0</th>\n",
       "      <td>1001</td>\n",
       "      <td>Below Educ. spend US Average</td>\n",
       "      <td>10.4</td>\n",
       "      <td>2003</td>\n",
       "    </tr>\n",
       "    <tr>\n",
       "      <th>1</th>\n",
       "      <td>1001</td>\n",
       "      <td>Below Educ. spend US Average</td>\n",
       "      <td>11.6</td>\n",
       "      <td>2004</td>\n",
       "    </tr>\n",
       "    <tr>\n",
       "      <th>2</th>\n",
       "      <td>1001</td>\n",
       "      <td>Below Educ. spend US Average</td>\n",
       "      <td>10.4</td>\n",
       "      <td>2005</td>\n",
       "    </tr>\n",
       "    <tr>\n",
       "      <th>3</th>\n",
       "      <td>1001</td>\n",
       "      <td>Below Educ. spend US Average</td>\n",
       "      <td>12.5</td>\n",
       "      <td>2006</td>\n",
       "    </tr>\n",
       "    <tr>\n",
       "      <th>4</th>\n",
       "      <td>1001</td>\n",
       "      <td>Below Educ. spend US Average</td>\n",
       "      <td>10.4</td>\n",
       "      <td>2007</td>\n",
       "    </tr>\n",
       "  </tbody>\n",
       "</table>\n",
       "</div>"
      ],
      "text/plain": [
       "  CONUM           above_or_below_mean  Poverty Percent All Ages  Year\n",
       "0  1001  Below Educ. spend US Average                      10.4  2003\n",
       "1  1001  Below Educ. spend US Average                      11.6  2004\n",
       "2  1001  Below Educ. spend US Average                      10.4  2005\n",
       "3  1001  Below Educ. spend US Average                      12.5  2006\n",
       "4  1001  Below Educ. spend US Average                      10.4  2007"
      ]
     },
     "execution_count": 49,
     "metadata": {},
     "output_type": "execute_result"
    }
   ],
   "source": [
    "# now lets try analyzing the school data in a diffrent way to see some trends\n",
    "school_df.head()\n",
    "s_df = school_df.loc[:,['CONUM', 'SCHOOL_DISTRICT_NAME', 'ENROLL', 'TOTALEXP', 'Year']]\n",
    "s_df = s_df.groupby(['CONUM', 'Year']).sum()\n",
    "# we want to calculate the totalExp per enrollment numbers\n",
    "s_df['SPENT_PER_ENROLLED'] = s_df['TOTALEXP'] / s_df['ENROLL']\n",
    "s_df = s_df.reset_index()\n",
    "del s_df['Year']\n",
    "s_df = s_df.groupby('CONUM').mean()\n",
    "us_mean = s_df['SPENT_PER_ENROLLED'].mean() #country mean spent per enrolled per year\n",
    "s_df.loc[s_df.SPENT_PER_ENROLLED > us_mean, 'above_or_below_mean'] = \"Above Educ. spend US Average\"\n",
    "s_df.loc[s_df.SPENT_PER_ENROLLED <= us_mean, 'above_or_below_mean'] = \"Below Educ. spend US Average\"\n",
    "s_df2 = school_df.loc[:,['CONUM', 'SCHOOL_DISTRICT_NAME', 'ENROLL', 'TOTALEXP', 'Year']].set_index('CONUM')\n",
    "s_df2 = s_df2.groupby(['CONUM', 'Year']).sum()\n",
    "# we want to calculate the totalExp per enrollment numbers\n",
    "s_df2['SPENT_PER_ENROLLED'] = s_df2['TOTALEXP'] / s_df2['ENROLL']\n",
    "s_df2 = s_df2.reset_index().loc[:, ['CONUM', 'Year']]\n",
    "sdf_merged = pd.merge(s_df.reset_index(),s_df2, on='CONUM')\n",
    "county_sdf = county_stat.loc[:,['FIPS', 'Poverty Percent All Ages', 'Year']]\n",
    "county_sdf['FIPS'] = county_sdf['FIPS'].astype('int')\n",
    "county_sdf.head()\n",
    "sdf_merged = pd.merge(sdf_merged, county_sdf, left_on = ['CONUM', 'Year'], right_on = ['FIPS', 'Year'])\n",
    "sdf_merged = sdf_merged.loc[:, ['CONUM', 'above_or_below_mean', 'Poverty Percent All Ages', 'Year']]\n",
    "sdf_merged.head()"
   ]
  },
  {
   "cell_type": "code",
   "execution_count": 50,
   "metadata": {},
   "outputs": [
    {
     "data": {
      "text/plain": [
       "<matplotlib.legend.Legend at 0x1330792d0>"
      ]
     },
     "execution_count": 50,
     "metadata": {},
     "output_type": "execute_result"
    },
    {
     "data": {
      "image/png": "[encoded data removed]",
      "text/plain": [
       "<matplotlib.figure.Figure at 0x132e2ff90>"
      ]
     },
     "metadata": {},
     "output_type": "display_data"
    }
   ],
   "source": [
    "import seaborn as sns\n",
    "us_avg = sdf_merged.groupby('Year').mean()\n",
    "us_avg['category'] = \"us_avg\"\n",
    "below_avg = sdf_merged.loc[sdf_merged['above_or_below_mean'] == \"Below Educ. spend US Average\"].groupby('Year').mean()\n",
    "below_avg['category'] = \"below_avg\"\n",
    "above_avg = sdf_merged.loc[sdf_merged['above_or_below_mean'] == \"Above Educ. spend US Average\"].groupby('Year').mean()\n",
    "above_avg['category'] = \"above_avg\"\n",
    "avg_df = pd.concat([us_avg, below_avg, above_avg])\n",
    "avg_df.head()\n",
    "\n",
    "pivoted = pd.pivot_table(avg_df, values='Poverty Percent All Ages', columns='category', index='Year')\n",
    "# Now there will be an index column for date and value columns for 0,1,2,3,4\n",
    "fig = plt.figure(figsize=(18,9))\n",
    "ax = fig.add_subplot(1,2,1)\n",
    "ax.set_xlabel('Year', size=15)\n",
    "ax.set_ylabel('Poverty %', size=15)\n",
    "ax.set_xticks(range(2003,2016))\n",
    "ax.set_title('County Spending on Education vs Poverty % over time')\n",
    "ax.plot(pivoted['above_avg'])\n",
    "ax.plot(pivoted['us_avg'])\n",
    "ax.plot(pivoted['below_avg'])\n",
    "ax.legend()\n",
    "\n",
    "\n",
    "sdf_gby_df = sdf_merged.groupby(['Year','above_or_below_mean']).count().reset_index()\n",
    "sdf_gby_df.head()\n",
    "ax = fig.add_subplot(1,2,2)\n",
    "ax.set_title('Number of counties below or above national average for Education Spending')\n",
    "ax = sns.barplot(x=\"Year\", y=\"CONUM\", hue=\"above_or_below_mean\", data=sdf_gby_df)\n",
    "ax.set_xlabel('Year', size=15)\n",
    "ax.set_ylabel('number of counties', size=15)\n",
    "ax.legend()\n"
   ]
  },
  {
   "cell_type": "markdown",
   "metadata": {},
   "source": [
    "from graph above on the left we can see that counties that spend below average on education had higher than average poverty rates over those same years and vice versa. Yet the % change of poverty looks consistent over the years regardless of if the county of a below or above average spender on education.\n",
    "\n",
    "On the right is just to show that there are actually about twice as many counties that are below the national average\n",
    "for education spending than there are above the national average interestingly."
   ]
  },
  {
   "cell_type": "markdown",
   "metadata": {},
   "source": [
    "### Q6 Summary\n",
    "After comparing both average total spending per enrolled student and spending per pupil to poverty levels per county,\n",
    "it was clear that the amount spent on education did not make any significant difference on % change of poverty levels.\n",
    "\n",
    " Though I did see an inverse relationship between poverty rate and education spending when splitting counties into below vs above average school spending groups, but no real differences in percent change in poverty of the years for the different groups\n",
    "\n",
    "Overall, this is not too suprising, there are too many outside variables to control for. For example, even if a better education in a county could help its students become better educated, the better educated students could leave the county for a better paying job in a different county therefore not helping decrease the poverty rate in the county they were educated in.\n",
    "\n",
    "Also, a larger range of years of the data would help this analyis"
   ]
  },
  {
   "cell_type": "markdown",
   "metadata": {},
   "source": [
    "## Q6\n",
    "* Rigor: 2\n",
    "* Statistical Significance: 2 (You mean the spend but this approach could introduce bias. A better indication is (sum of spend)/(sum of enroll))\n",
    "* Clear conclusions: 2.5\n",
    "* Originality: 2.5"
   ]
  },
  {
   "cell_type": "markdown",
   "metadata": {},
   "source": [
    "# Total = 39"
   ]
  },
  {
   "cell_type": "code",
   "execution_count": null,
   "metadata": {
    "collapsed": true
   },
   "outputs": [],
   "source": []
  }
 ],
 "metadata": {
  "anaconda-cloud": {},
  "kernelspec": {
   "display_name": "Python [Root]",
   "language": "python",
   "name": "Python [Root]"
  },
  "language_info": {
   "codemirror_mode": {
    "name": "ipython",
    "version": 2
   },
   "file_extension": ".py",
   "mimetype": "text/x-python",
   "name": "python",
   "nbconvert_exporter": "python",
   "pygments_lexer": "ipython2",
   "version": "2.7.13"
  },
  "toc": {
   "colors": {
    "hover_highlight": "#DAA520",
    "navigate_num": "#000000",
    "navigate_text": "#333333",
    "running_highlight": "#FF0000",
    "selected_highlight": "#FFD700",
    "sidebar_border": "#EEEEEE",
    "wrapper_background": "#FFFFFF"
   },
   "moveMenuLeft": true,
   "nav_menu": {
    "height": "214px",
    "width": "252px"
   },
   "navigate_menu": true,
   "number_sections": true,
   "sideBar": true,
   "threshold": 4,
   "toc_cell": false,
   "toc_section_display": "block",
   "toc_window_display": false,
   "widenNotebook": false
  }
 },
 "nbformat": 4,
 "nbformat_minor": 1
}
