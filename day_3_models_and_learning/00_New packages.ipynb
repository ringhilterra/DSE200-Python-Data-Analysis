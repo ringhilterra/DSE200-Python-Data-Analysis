{
 "cells": [
  {
   "cell_type": "markdown",
   "metadata": {},
   "source": [
    "### Jupyter Lab\n",
    "The design of Jupyter notebooks is linear - cell after cell after cell.\n",
    "\n",
    "Environments such as `matlab` and `Rstudio` offer a tiled layout in which different windows are active at the same time. Jupyter lab is very versatile, you can have a window with graphics that is controlled by another window with code. Or you can have two notebooks open and move cells from one to the other.\n",
    "\n",
    "To install jupyter lab use:\n",
    "\n",
    "```\n",
    "conda install -c conda-forge jupyterlab\n",
    "```\n",
    "\n",
    "To run jupyter lab use\n",
    "```jupyter lab\n",
    "```\n",
    "\n",
    "### nbdime\n",
    "\n",
    "It is very hard to merge changes in two notebooks. `nbdime` is a new package that makes this easy. `nbdime` understands the format of the ipynb file (which is based on JSON) and knows how to separate between differences in code and markdown cells, and differences that are in the output of a code cell.\n",
    "\n",
    "For details see https://github.com/jupyter/nbdime\n",
    "\n"
   ]
  },
  {
   "cell_type": "code",
   "execution_count": null,
   "metadata": {
    "collapsed": true
   },
   "outputs": [],
   "source": []
  }
 ],
 "metadata": {
  "kernelspec": {
   "display_name": "Python 2",
   "language": "python",
   "name": "python2"
  },
  "language_info": {
   "codemirror_mode": {
    "name": "ipython",
    "version": 2
   },
   "file_extension": ".py",
   "mimetype": "text/x-python",
   "name": "python",
   "nbconvert_exporter": "python",
   "pygments_lexer": "ipython2",
   "version": "2.7.13"
  },
  "toc": {
   "colors": {
    "hover_highlight": "#DAA520",
    "navigate_num": "#000000",
    "navigate_text": "#333333",
    "running_highlight": "#FF0000",
    "selected_highlight": "#FFD700",
    "sidebar_border": "#EEEEEE",
    "wrapper_background": "#FFFFFF"
   },
   "moveMenuLeft": true,
   "nav_menu": {
    "height": "48px",
    "width": "252px"
   },
   "navigate_menu": true,
   "number_sections": true,
   "sideBar": true,
   "threshold": 4,
   "toc_cell": false,
   "toc_section_display": "block",
   "toc_window_display": false,
   "widenNotebook": false
  }
 },
 "nbformat": 4,
 "nbformat_minor": 2
}
