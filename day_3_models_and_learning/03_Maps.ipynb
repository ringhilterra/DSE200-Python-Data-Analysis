{
 "cells": [
  {
   "cell_type": "code",
   "execution_count": null,
   "metadata": {
    "collapsed": true
   },
   "outputs": [],
   "source": [
    "# Initialization\n",
    "Loading data from pickle file"
   ]
  },
  {
   "cell_type": "code",
   "execution_count": null,
   "metadata": {
    "collapsed": true
   },
   "outputs": [],
   "source": [
    "%cd ../data/weather/\n",
    "!ls -lh weather.pkl"
   ]
  },
  {
   "cell_type": "code",
   "execution_count": null,
   "metadata": {
    "collapsed": true
   },
   "outputs": [],
   "source": [
    "import pickle\n",
    "import numpy as np\n",
    "import pandas as pd\n",
    "Dict=pickle.load(open('weather.pkl','rb'))"
   ]
  },
  {
   "cell_type": "code",
   "execution_count": null,
   "metadata": {
    "collapsed": true,
    "scrolled": true,
    "slideshow": {
     "slide_type": "slide"
    }
   },
   "outputs": [],
   "source": [
    "Djoined=Dict['Djoined']\n",
    "stations=Dict['stations']\n",
    "print stations.shape\n",
    "stations.head()"
   ]
  },
  {
   "cell_type": "code",
   "execution_count": null,
   "metadata": {
    "collapsed": true
   },
   "outputs": [],
   "source": [
    "print Djoined.shape\n",
    "Djoined.head()"
   ]
  },
  {
   "cell_type": "markdown",
   "metadata": {
    "slideshow": {
     "slide_type": "slide"
    }
   },
   "source": [
    "# maps"
   ]
  },
  {
   "cell_type": "markdown",
   "metadata": {},
   "source": [
    "## ipyleaflet\n",
    "* [leaflet](http://leafletjs.com/) is a javascript library for rendering maps.\n",
    "\n",
    "* The map data is provided by a variety of companies, some free, some for fee. Explore the providers [here](http://leaflet-extras.github.io/leaflet-providers/preview/index.html)\n",
    "\n",
    "* [ipyleaflet](https://github.com/ellisonbg/ipyleaflet) is a jupyter notebook extension that allows one to use leaflet inside jupyter notebooks.\n",
    "\n",
    "### Installation\n",
    "\n",
    "**Using pip:**\n",
    "\n",
    "```bash\n",
    "pip install ipyleaflet\n",
    "jupyter nbextension enable --py --sys-prefix ipyleaflet\n",
    "```\n",
    "\n",
    "**Using Conda:**\n",
    "```bash\n",
    "conda install -c conda-forge ipyleaflet\n",
    "```"
   ]
  },
  {
   "cell_type": "code",
   "execution_count": null,
   "metadata": {
    "collapsed": true
   },
   "outputs": [],
   "source": [
    "import random\n",
    "\n",
    "lons=stations.loc[:,'longitude'].values\n",
    "lats=stations.loc[:,'latitude'].values\n",
    "lonmin=-120;lonmax=-70;latsmin=25;latsmax=45;\n",
    "select=(lons>lonmin) * (lons<lonmax)*(lats>latsmin)*(lats<latsmax)\n",
    "station_names=station_names=stations.index.values[select]\n",
    "lons=lons[select]\n",
    "lats=lats[select]\n",
    "\n",
    "from ipyleaflet import (\n",
    "    Map,\n",
    "    Marker,\n",
    "    TileLayer, ImageOverlay,\n",
    "    Polyline, Polygon, Rectangle, Circle, CircleMarker,\n",
    "    GeoJSON,\n",
    "    DrawControl\n",
    ")"
   ]
  },
  {
   "cell_type": "markdown",
   "metadata": {},
   "source": [
    "### Plotting map around Rady School"
   ]
  },
  {
   "cell_type": "code",
   "execution_count": null,
   "metadata": {
    "collapsed": true,
    "scrolled": true
   },
   "outputs": [],
   "source": [
    "rady_center=[32.88643467537172, -117.24084734916688]\n",
    "ucsd=Map(default_tiles=TileLayer(opacity=1.0), center=rady_center, zoom=18)\n",
    "ucsd"
   ]
  },
  {
   "cell_type": "code",
   "execution_count": null,
   "metadata": {
    "collapsed": true
   },
   "outputs": [],
   "source": [
    "ucsd.center, ucsd.zoom"
   ]
  },
  {
   "cell_type": "markdown",
   "metadata": {},
   "source": [
    "### Plotting the locations of meteorological stations"
   ]
  },
  {
   "cell_type": "code",
   "execution_count": null,
   "metadata": {
    "collapsed": true
   },
   "outputs": [],
   "source": [
    "len(lons),len(lats)"
   ]
  },
  {
   "cell_type": "code",
   "execution_count": null,
   "metadata": {
    "collapsed": true,
    "scrolled": true
   },
   "outputs": [],
   "source": [
    "m = Map(default_tiles=TileLayer(opacity=1.0), center=[35, -95], zoom=4)\n",
    "\n",
    "# plot a sample of the 38509 stations in the US\n",
    "for _long, _lat in random.sample(zip(lons,lats), 100):\n",
    "    c = Circle(location=(_lat,_long), radius=1, color='#F00', fill_color='#F00',\n",
    "               opacity=1, fill_opacity=1)\n",
    "    m += c\n",
    "\n",
    "# Plot parallels\n",
    "parallels = np.arange(-80,81,20.)    \n",
    "for parallel in parallels:\n",
    "    pl = Polyline(locations=[[parallel,-180],[parallel,180]], color='#000', weight=1)\n",
    "    m += pl\n",
    "\n",
    "# Plot meridians.\n",
    "meridians = np.arange(-180.,181.,60.)\n",
    "for meridian in meridians:\n",
    "    pl = Polyline(locations=[[-90, meridian],[90,meridian]], color='#000', weight=1)\n",
    "    m += pl\n",
    "    \n",
    "m"
   ]
  },
  {
   "cell_type": "markdown",
   "metadata": {},
   "source": [
    "### Issues with plotting too many points\n",
    "If you try to plot more/all stations in the world, you could run into IOpub datarate exceeded error. To fix that you can either change the jupyter config or use command \n",
    "```\n",
    "jupyter notebook --NotebookApp.iopub_data_rate_limit=1.0e10\n",
    "```\n",
    "when starting the notebook.\n",
    "\n",
    "For reference:\n",
    "* https://github.com/jupyter/notebook/issues/2287\n",
    "* https://media.readthedocs.org/pdf/jupyter-notebook/latest/jupyter-notebook.pdf"
   ]
  },
  {
   "cell_type": "markdown",
   "metadata": {},
   "source": [
    "### Exploring iPyleaflet (Optional)\n",
    "\n",
    "To understand the ipyleaflet interface better you can start with this task:\n",
    "* Create a map where each station is represented by a circle, the area of the circle is proportional to the number of years of measurements the station has, and the color represents the coefficient of the first eigen-vector."
   ]
  },
  {
   "cell_type": "markdown",
   "metadata": {},
   "source": [
    "## Using google maps\n",
    "\n",
    "As we found out the longitude an lattitud of the rady school are\n",
    "\n",
    "```\n",
    "rady_center=[32.88643467537172, -117.24084734916688]\n",
    "```\n",
    "\n",
    "To get to these coordinate on Google Maps use one of the following:\n",
    "1. type the latitude and longitude in decimal in the search box\n",
    "2. Use the link:\n",
    "https://www.google.com/maps/place/32%C2%B053'11.2%22N+117%C2%B014'27.1%22W/@32.8864347,-117.2430413,17z/data=!3m1!4b1!4m5!3m4!1s0x0:0x0!8m2!3d32.8864347!4d-117.2408473\n",
    "\n",
    "This URL contains all of the information that google map needs in order to display a particular part of the world and put a marker (or many markers) on it. the format of the google URL see [here](https://developers.google.com/maps/documentation/urls/guide)\n"
   ]
  },
  {
   "cell_type": "code",
   "execution_count": null,
   "metadata": {
    "collapsed": true
   },
   "outputs": [],
   "source": []
  }
 ],
 "metadata": {
  "kernelspec": {
   "display_name": "Python 2",
   "language": "python",
   "name": "python2"
  },
  "language_info": {
   "codemirror_mode": {
    "name": "ipython",
    "version": 2
   },
   "file_extension": ".py",
   "mimetype": "text/x-python",
   "name": "python",
   "nbconvert_exporter": "python",
   "pygments_lexer": "ipython2",
   "version": "2.7.13"
  },
  "toc": {
   "colors": {
    "hover_highlight": "#DAA520",
    "navigate_num": "#000000",
    "navigate_text": "#333333",
    "running_highlight": "#FF0000",
    "selected_highlight": "#FFD700",
    "sidebar_border": "#EEEEEE",
    "wrapper_background": "#FFFFFF"
   },
   "moveMenuLeft": true,
   "nav_menu": {
    "height": "157px",
    "width": "252px"
   },
   "navigate_menu": true,
   "number_sections": true,
   "sideBar": true,
   "threshold": 4,
   "toc_cell": false,
   "toc_section_display": "block",
   "toc_window_display": false,
   "widenNotebook": false
  }
 },
 "nbformat": 4,
 "nbformat_minor": 2
}
