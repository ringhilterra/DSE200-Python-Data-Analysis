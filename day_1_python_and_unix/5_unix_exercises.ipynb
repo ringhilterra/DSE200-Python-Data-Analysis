{
 "cells": [
  {
   "cell_type": "markdown",
   "metadata": {},
   "source": [
    "### Excercise 1: reconstruct a file from segments."
   ]
  },
  {
   "cell_type": "markdown",
   "metadata": {},
   "source": [
    "Each of the files F* is a short segment of the original text file.\n",
    "The fragments are non-overlapping: one segments starts where the previous one ends.\n",
    "\n",
    "The format of the file is `(n1: 5 char int),(n2: 5 char int),string`\n",
    "The string represents the content of the file in the range `[n1:n2]`\n",
    "\n",
    "Your task is to reconstruct the original file using unix commands only. There is a one line solution involving several unix commands connected by pipes \"|\".\n",
    "\n",
    "The solution can be completed with a single bash command (using pipes)"
   ]
  },
  {
   "cell_type": "code",
   "execution_count": 2,
   "metadata": {},
   "outputs": [
    {
     "name": "stdout",
     "output_type": "stream",
     "text": [
      "/Users/ryan/Documents/DSE/ringhilt/DSE200/data/NLTK/Chopped\n",
      "F0    F115  F131  F148  F164  F180  F198  F214  F230  F36   F52   F68   F83\n",
      "F1    F117  F132  F149  F165  F181  F199  F215  F231  F37   F53   F69   F84\n",
      "F10   F118  F133  F15   F166  F182  F2    F216  F232  F38   F54   F7    F85\n",
      "F100  F119  F134  F151  F167  F183  F20   F218  F233  F39   F55   F70   F86\n",
      "F101  F12   F135  F152  F168  F185  F200  F219  F24   F4    F56   F71   F87\n",
      "F102  F120  F136  F153  F169  F186  F201  F22   F25   F40   F57   F72   F88\n",
      "F104  F121  F137  F154  F170  F187  F202  F220  F26   F41   F58   F73   F9\n",
      "F106  F122  F138  F155  F171  F189  F204  F221  F27   F42   F59   F74   F90\n",
      "F107  F123  F139  F156  F172  F19   F205  F222  F28   F43   F6    F75   F91\n",
      "F108  F124  F14   F157  F173  F190  F206  F223  F29   F44   F60   F76   F93\n",
      "F109  F125  F140  F158  F174  F191  F207  F224  F3    F45   F61   F77   F94\n",
      "F11   F126  F141  F159  F175  F192  F208  F225  F30   F46   F62   F78   F95\n",
      "F110  F127  F142  F16   F176  F193  F209  F226  F31   F48   F63   F79   F96\n",
      "F111  F128  F144  F160  F177  F194  F210  F227  F32   F49   F64   F8    F97\n",
      "F112  F129  F145  F161  F178  F195  F211  F228  F33   F5    F65   F80   F99\n",
      "F113  F13   F146  F162  F179  F196  F212  F229  F34   F50   F66   F81\n",
      "F114  F130  F147  F163  F18   F197  F213  F23   F35   F51   F67   F82\n"
     ]
    }
   ],
   "source": [
    "%cd /Users/ryan/Documents/DSE/ringhilt/DSE200/data/NLTK/Chopped\n",
    "#!rm exer1.txt\n",
    "!ls -F"
   ]
  },
  {
   "cell_type": "code",
   "execution_count": 3,
   "metadata": {},
   "outputs": [
    {
     "name": "stdout",
     "output_type": "stream",
     "text": [
      "/Users/ryan/Documents/DSE/ringhilt/DSE200/data/NLTK/Chopped\n",
      "The Fulton County Grand Jury said Friday an investigation of Atlanta's recent primary election produced `` no evidence '' that any irregularities took place . The jury further said in term-end presentments that the City Executive Committee , which had over-all charge of the election , `` deserves the praise and thanks of the City of Atlanta '' for the manner in which the election was conducted . The September-October term jury had been charged by Fulton Superior Court Judge Durwood Pye to investigate reports of possible `` irregularities '' in the hard-fought primary which was won by Mayor-nominate Ivan Allen Jr. . `` Only a relative handful of such reports was received '' , the jury said , `` considering the widespread interest in the election , the number of voters and the size of this city '' . The jury said it did find that many of Georgia's registration and election laws `` are outmoded or inadequate and often ambiguous '' . It recommended that Fulton legislators act `` to have these laws studied and revised to the end of modernizing and improving them '' . The grand jury commented on a number of other topics , among them the Atlanta and Fulton County purchasing departments which it said `` are well operated and follow generally accepted practices which inure to the best interest of both governments '' . Merger proposed However , the jury said it believes `` these two offices should be combined to achieve greater efficiency and reduce the cost of administration '' . The City Purchasing Department , the jury said , `` is lacking in experienced clerical personnel as a result of city personnel policies '' ."
     ]
    }
   ],
   "source": [
    "# (1)\n",
    "%cd /Users/ryan/Documents/DSE/ringhilt/DSE200/data/NLTK/Chopped\n",
    "# one line solution\n",
    "!sort F* -n | cut -b 11- | tr -d \\\\n > exer1.txt\n",
    "# output to see file is correct\n",
    "!cat exer1.txt"
   ]
  },
  {
   "cell_type": "markdown",
   "metadata": {},
   "source": [
    "### Excercise 2:"
   ]
  },
  {
   "cell_type": "code",
   "execution_count": 4,
   "metadata": {},
   "outputs": [
    {
     "name": "stdout",
     "output_type": "stream",
     "text": [
      "/Users/ryan/Documents/DSE/ringhilt/DSE200/day_1_python_and_unix\n",
      "./Caesar.txt: ASCII text\n",
      "       1\n"
     ]
    }
   ],
   "source": [
    "# A file called Caesar with the following lines is created for you. Use this file for completing the below sub-questions.\n",
    "# You can check where the file is being created by !pwd \n",
    "\n",
    "%cd /Users/ryan/Documents/DSE/ringhilt/DSE200/day_1_python_and_unix\n",
    "!echo \"\"\"Caesar, a great general, is petitioned by several citizens to show clemency to one of his enemies.\\nHe declines, pompously speaking of himself in the third person. The group of conspirators then proceeds to stab him.\\nWith his dying breath he gasps, \\\"Et tu, Brute? (\\\"And you, Brutus?\\\") Thus falls Caesar.\\\"\\nThe conspirators exult, and Shakespeare inserts a self-referential joke as Cassius says,\\n\\\"How many ages hence shall this our lofty scene be acted over in states unborn and accents yet unknown!\"\"\" > Caesar.txt\n",
    "\n",
    "\n",
    "#Change the permissions of this file to 666\n",
    "!chmod 666 ./Caesar.txt\n",
    "\n",
    "#Issue a UNIX command to determine the file type\n",
    "!file ./Caesar.txt\n",
    "\n",
    "#Isue a unix command to count the number of words in the above text that contains no vowels\n",
    "!grep -io '\\b[^aeiou,.!?\"]*\\s' Caesar.txt | wc -w\n",
    "\n",
    "#Replace the word Caesar wherever it is found in the entire text to Leonidas\n",
    "caesar_file=open('Caesar.txt','r')\n",
    "caesar = caesar_file.read()\n",
    "caesar_file.close()\n",
    "leonidas = caesar.replace('Caesar', 'Leonidas')\n",
    "caesar_file=open('Caesar.txt','w')\n",
    "caesar_file.write(leonidas)\n",
    "caesar_file.close()\n",
    "\n",
    "#Make a copy of the above file without the first and last lines of the text and rename this file to Leonidas\n",
    "caesar_file=open('Caesar.txt','r')\n",
    "caesar_lines = caesar_file.readlines()\n",
    "caesar_file.close()\n",
    "caesar_lines = caesar_lines[1:-1]\n",
    "leonidas_file=open('Leonidas.txt','w')\n",
    "\n",
    "for line in caesar_lines:\n",
    "    leonidas_file.write(line)\n",
    "leonidas_file.close()\n",
    "#!cat Leonidas.txt\n",
    "# The solution can be completed with unix commands other than replacing ceaser-> leonidas"
   ]
  },
  {
   "cell_type": "markdown",
   "metadata": {},
   "source": [
    "### Excercise 3:"
   ]
  },
  {
   "cell_type": "code",
   "execution_count": 1,
   "metadata": {
    "collapsed": true
   },
   "outputs": [],
   "source": [
    "#What is the command to count lines,words and characters in a file and how do you make this comand display only linecount?\n",
    "#Also write a single command that lists the files in the current directory that begin with upper case letters\n",
    "# The solution can be completed with unix commands only"
   ]
  },
  {
   "cell_type": "markdown",
   "metadata": {},
   "source": [
    "### Note: wc for first part."
   ]
  },
  {
   "cell_type": "markdown",
   "metadata": {},
   "source": [
    "What is the command to count lines, words and characters in a file and how do you make this command display only linecounts?\n",
    "\n",
    "ANSWER:  wc -l\n"
   ]
  },
  {
   "cell_type": "code",
   "execution_count": 5,
   "metadata": {},
   "outputs": [
    {
     "name": "stdout",
     "output_type": "stream",
     "text": [
      "/Users/ryan/Documents/DSE/ringhilt/DSE200/day_1_python_and_unix\n",
      "Caesar.txt   Leonidas.txt LockFile.md\r\n"
     ]
    }
   ],
   "source": [
    "%cd /Users/ryan/Documents/DSE/ringhilt/DSE200/day_1_python_and_unix\n",
    "#Also write a single command that lists the files in the current directory that begin with upper case letters\n",
    "!ls [A-Z]*"
   ]
  },
  {
   "cell_type": "markdown",
   "metadata": {},
   "source": [
    "### Excercise 4:"
   ]
  },
  {
   "cell_type": "code",
   "execution_count": null,
   "metadata": {
    "collapsed": true
   },
   "outputs": [],
   "source": [
    "# NOTE - for some reason there is a random space that shows up toward the end of each line \n",
    "# of the output of the jupyter notebook. When I check the content of the actual kings.txt file \n",
    "# those spaces are NOT there. so its just a weird bug with jupyter notebook and is not a bug with my code"
   ]
  },
  {
   "cell_type": "code",
   "execution_count": 6,
   "metadata": {},
   "outputs": [
    {
     "name": "stdout",
     "output_type": "stream",
     "text": [
      "\u001b[?1h\u001b=\r",
      "With his dying breath he gasps, \"Et tu, Brute? (\"And you, Brutus?\") Thus falls L \beonidas.\"\r\n",
      "With his dying breath he gasps, \"Et tu, Brute? (\"And you, Brutus?\") Thus falls L \beonidas.\"\r\n",
      "The conspirators exult, and Shakespeare inserts a self-referential joke as Cassi \bus says,\r\n",
      "The conspirators exult, and Shakespeare inserts a self-referential joke as Cassi \bus says,\r\n",
      "Leonidas, a great general, is petitioned by several citizens to show clemency to \b one of his enemies.\r\n",
      "He declines, pompously speaking of himself in the third person. The group of con \bspirators then proceeds to stab him.\r\n",
      "He declines, pompously speaking of himself in the third person. The group of con \bspirators then proceeds to stab him.\r\n",
      "\"How many ages hence shall this our lofty scene be acted over in states unborn a \bnd accents yet unknown!\r\n",
      "\r",
      "\u001b[K\u001b[?1l\u001b>"
     ]
    }
   ],
   "source": [
    "#Combine the files Caesar and Leonidas and save the combined file as kings\n",
    "!cat Caesar.txt Leonidas.txt > kings.txt\n",
    "#Display the contents of this file using more command\n",
    "#!more kings.txt\n",
    "#Sort this file in reverse alphabetic order and display it by piping it into more\n",
    "!sort kings.txt -r | more\n",
    "# The solution can be completed with unix commands only"
   ]
  },
  {
   "cell_type": "markdown",
   "metadata": {},
   "source": [
    "### Excercise 5:"
   ]
  },
  {
   "cell_type": "code",
   "execution_count": null,
   "metadata": {
    "collapsed": true
   },
   "outputs": [],
   "source": [
    "#NOTE: Had to use %%bash command instead of ! because it was having issues for some reason. \n",
    "#bash solution is valid still and works when I try it on my terminal"
   ]
  },
  {
   "cell_type": "code",
   "execution_count": 42,
   "metadata": {},
   "outputs": [
    {
     "name": "stdout",
     "output_type": "stream",
     "text": [
      "1_pregnancy_length_analysis.ipynb\n",
      "2_python_basics.ipynb\n",
      "3_python_basics_excercises.ipynb\n",
      "4_unix,_sys,_and_os.ipynb\n",
      "5_unix_exercises.ipynb\n",
      "8queen.jpg\n",
      "Caesar.txt\n",
      "Leonidas.txt\n",
      "LockFile.md\n",
      "kings.txt\n",
      "num7.csv\n"
     ]
    }
   ],
   "source": [
    "%%bash\n",
    "#List all files in your current directory. Make a subDirectory and copy all these files in the subdirectory.\n",
    "ls\n",
    "mkdir dir1 | cp ./* dir1 \n",
    "#Write Unix commands to rename all the files to the format - currentDate_originalname\n",
    "now=\"$(date +'%F'_)\"\n",
    "cd dir1\n",
    "for fle in *; do mv \"$fle\" \"$now$fle\"; done\n",
    "# The solution can be completed with unix + python commands\n"
   ]
  },
  {
   "cell_type": "markdown",
   "metadata": {},
   "source": [
    "### Excercise 6:"
   ]
  },
  {
   "cell_type": "code",
   "execution_count": 91,
   "metadata": {},
   "outputs": [
    {
     "data": {
      "text/plain": [
       "['CPU-time: 251.43   f95 -O0 formatted I/O',\n",
       " 'CPU-time: 252.15   f95 -O0 formatted I/O',\n",
       " 'CPU-time: 252.40   f95 -O2 formatted I/O',\n",
       " 'CPU-time: 252.47   f95 -O1 formatted I/O',\n",
       " 'CPU-time: 255.28   f95 -O0 formatted I/O',\n",
       " 'CPU-time: 255.90   f95 -O0 formatted I/O',\n",
       " 'CPU-time: 255.97   f95 -O0 formatted I/O']"
      ]
     },
     "execution_count": 91,
     "metadata": {},
     "output_type": "execute_result"
    }
   ],
   "source": [
    "#Suppose we have a script that performs numerous efficiency tests. \n",
    "#The output from the script contains lots of information, but our purpose now is to extract information\n",
    "#about the CPU time of each test and sort these CPU times. The output from the tests takes the following form:\n",
    "output = \"\"\"\n",
    "f95 -c -O0  versions/main_wIO.f F77WAVE.f\n",
    "f95 -o app  -static main_wIO.o F77WAVE.o   -lf2c\n",
    "app < input > tmp.out\n",
    "CPU-time: 255.97   f95 -O0 formatted I/O\n",
    "f95 -c -O1  versions/main_wIO.f F77WAVE.f\n",
    "f95 -o app  -static main_wIO.o F77WAVE.o   -lf2c\n",
    "app < input > tmp.out\n",
    "CPU-time: 252.47   f95 -O1 formatted I/O\n",
    "f95 -c -O2  versions/main_wIO.f F77WAVE.f\n",
    "f95 -o app  -static main_wIO.o F77WAVE.o   -lf2c\n",
    "app < input > tmp.out\n",
    "CPU-time: 252.40   f95 -O2 formatted I/O\n",
    "f95 -c -O3  versions/main_wIO.f F77WAVE.f\n",
    "f95 -o app  -static main_wIO.o F77WAVE.o   -lf2c\n",
    "app < input > tmp.out\n",
    "CPU-time: 255.28   f95 -O0 formatted I/O\n",
    "f95 -c -O4  versions/main_wIO.f F77WAVE.f\n",
    "f95 -o app  -static main_wIO.o F77WAVE.o   -lf2c\n",
    "app < input > tmp.out\n",
    "CPU-time: 251.43   f95 -O0 formatted I/O\n",
    "f95 -c -O5  versions/main_wIO.f F77WAVE.f\n",
    "f95 -o app  -static main_wIO.o F77WAVE.o   -lf2c\n",
    "app < input > tmp.out\n",
    "CPU-time: 255.90   f95 -O0 formatted I/O\n",
    "f95 -c -O6  versions/main_wIO.f F77WAVE.f\n",
    "f95 -o app  -static main_wIO.o F77WAVE.o   -lf2c\n",
    "app < input > tmp.out\n",
    "CPU-time: 252.15   f95 -O0 formatted I/O\n",
    "\"\"\"\n",
    "\n",
    "#First we need to extract the lines starting with CPU-time.\n",
    "#Then we need to sort the extracted lines with respect to the CPU time, which is the number appearing in the second column. \n",
    "#Write a script to accomplish this task. \n",
    "\n",
    "#Hint: Find the lines with CPU time results by using a string comparison of the first 7 characters \n",
    "#to detect the keyword CPU-time. Then write a tailored sort function for sorting two lines \n",
    "#(extract the CPU time from the second column in both lines and compare the CPU times as floating-point numbers). \n",
    "#A tailored sort function takes two arguments a and b, which hold two list elements. \n",
    "#The sort function returns -1 if a is less than b, 1 if a is greater than b, and 0 otherwise (a equals b).\n",
    "\n",
    "# The solution has both unix and python implementation\n",
    "\n",
    "lines_list = output.splitlines()\n",
    "cpu_lines = []\n",
    "for line in lines_list:\n",
    "    if line[0:8] == 'CPU-time':\n",
    "        cpu_lines.append(line)\n",
    "\n",
    "cpu_lines.sort(key=lambda line: float(line[10:17]))\n",
    "cpu_lines\n"
   ]
  },
  {
   "cell_type": "markdown",
   "metadata": {},
   "source": [
    "### Excercise 7:"
   ]
  },
  {
   "cell_type": "code",
   "execution_count": 1,
   "metadata": {},
   "outputs": [
    {
     "name": "stdout",
     "output_type": "stream",
     "text": [
      "/Users/ryan/Documents/DSE/ringhilt/DSE200/day_1_python_and_unix\n",
      "[]\n"
     ]
    }
   ],
   "source": [
    "\n",
    "#Make a copy of your working directory along with its subdirectories and \n",
    "#write unix+python commands that traverses the copied working directory and its subdirectories (recursively) and returns a \n",
    "#list of all files that are larger than X Mb and that have not been accessed the last Y days, \n",
    "#where X and Y are passed as user inputs.\n",
    "#Include an option in this function that moves the files to a subdirectory trash under /tmp \n",
    "#(you need to create trash if it does not exist).\n",
    "\n",
    "# The solution can be completed with unix + python commands\n",
    "\n",
    "# I want to copy working directory and all its subdirectories into ../exer7dir and use this as working directory\n",
    "!pwd\n",
    "!mkdir ../exer7dir\n",
    "!cp -r * ../exer7dir\n",
    "\n",
    "def exer7(x_mb, y_days, moves=False):\n",
    "    files = !find ../exer7dir -type f -atime +{y_days} -size +{x_mb}M\n",
    "        \n",
    "    if moves:\n",
    "        #this will work even if /tmp/trash already exists\n",
    "        !mkdir /tmp/trash\n",
    "        for f in files:\n",
    "            !mv {f} /tmp/trash\n",
    "    return files\n",
    "\n",
    "#all files in exer7dir are smaller than 1 MB and have been accessed in the last day, thats why empty\n",
    "#following test returns empty\n",
    "print(exer7(1,2,False))\n",
    "#below tests with move flag and works with trash directory\n",
    "#print(exer7(1,2,True))"
   ]
  },
  {
   "cell_type": "markdown",
   "metadata": {},
   "source": [
    "## Total =  15"
   ]
  },
  {
   "cell_type": "code",
   "execution_count": null,
   "metadata": {
    "collapsed": true
   },
   "outputs": [],
   "source": []
  }
 ],
 "metadata": {
  "anaconda-cloud": {},
  "kernelspec": {
   "display_name": "Python [Root]",
   "language": "python",
   "name": "Python [Root]"
  },
  "language_info": {
   "codemirror_mode": {
    "name": "ipython",
    "version": 2
   },
   "file_extension": ".py",
   "mimetype": "text/x-python",
   "name": "python",
   "nbconvert_exporter": "python",
   "pygments_lexer": "ipython2",
   "version": "2.7.13"
  }
 },
 "nbformat": 4,
 "nbformat_minor": 1
}
