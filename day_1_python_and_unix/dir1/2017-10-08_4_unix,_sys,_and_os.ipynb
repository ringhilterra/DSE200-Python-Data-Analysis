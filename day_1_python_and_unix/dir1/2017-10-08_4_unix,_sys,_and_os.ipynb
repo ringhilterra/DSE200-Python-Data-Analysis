{
 "cells": [
  {
   "cell_type": "markdown",
   "metadata": {},
   "source": [
    "## The unix system\n",
    "\n",
    "* Prepending commands with !\n",
    "* Files, directories and paths\n",
    "* AWS, virtual machines and AMI's\n",
    "* Bash scripts (just to know what they are)\n",
    "* grep, wc, sort\n",
    "* .bashrc, environmental variables, paths."
   ]
  },
  {
   "cell_type": "code",
   "execution_count": null,
   "metadata": {
    "collapsed": false
   },
   "outputs": [],
   "source": []
  },
  {
   "cell_type": "markdown",
   "metadata": {},
   "source": [
    "## listing files\n",
    "* The `ls` command lists the files in the current directory\n",
    "* `ls -F` identifies each files as directory, executable, text\n",
    "* `ls -lrta`: \n",
    "    * `l` (long) lists extensive information about each file\n",
    "    * `rt` (reverse time): list files in reverse order in time.\n",
    "    * `a` show hidden files (whose names start with .)"
   ]
  },
  {
   "cell_type": "code",
   "execution_count": null,
   "metadata": {
    "collapsed": false
   },
   "outputs": [],
   "source": [
    "%cd ~\n",
    "!ls"
   ]
  },
  {
   "cell_type": "code",
   "execution_count": null,
   "metadata": {
    "collapsed": false,
    "scrolled": true
   },
   "outputs": [],
   "source": [
    "!ls -F"
   ]
  },
  {
   "cell_type": "code",
   "execution_count": null,
   "metadata": {
    "collapsed": false
   },
   "outputs": [],
   "source": [
    "!ls -ldrt D*"
   ]
  },
  {
   "cell_type": "code",
   "execution_count": null,
   "metadata": {
    "collapsed": false
   },
   "outputs": [],
   "source": [
    "## Find out type of file\n",
    "!file anaconda/bin/*"
   ]
  },
  {
   "cell_type": "markdown",
   "metadata": {},
   "source": [
    "## Navigating file paths"
   ]
  },
  {
   "cell_type": "code",
   "execution_count": null,
   "metadata": {
    "collapsed": false
   },
   "outputs": [],
   "source": [
    "# pwd identifies the current working directory\n",
    "!pwd"
   ]
  },
  {
   "cell_type": "code",
   "execution_count": null,
   "metadata": {
    "collapsed": false
   },
   "outputs": [],
   "source": [
    "# /home/ubuntu is the home directory of the user \"ubuntu\" that is - you!\n",
    "!ls -lrt /home/ubuntu"
   ]
  },
  {
   "cell_type": "code",
   "execution_count": null,
   "metadata": {
    "collapsed": false
   },
   "outputs": [],
   "source": [
    "# A shorthand for the home directory of the current user is \"~\"\n",
    "%cd ~"
   ]
  },
  {
   "cell_type": "code",
   "execution_count": null,
   "metadata": {
    "collapsed": false
   },
   "outputs": [],
   "source": [
    "# !cd causes unix to move to a different directory, but leaves python behind\n",
    "%cd ~/logs/\n",
    "!pwd"
   ]
  },
  {
   "cell_type": "code",
   "execution_count": null,
   "metadata": {
    "collapsed": false
   },
   "outputs": [],
   "source": [
    "# To actually change the directory use the magic %cd, which actually moves us and reports where we landed\n",
    "%cd ~/logs/"
   ]
  },
  {
   "cell_type": "markdown",
   "metadata": {},
   "source": [
    "Some useful shorthands for navigating directories\n",
    "* **~** home directory of current user\n",
    "* **~john** home directory of the user \"john\"\n",
    "* **.** the current directory\n",
    "* **..** the parent directory of the current directory.\n"
   ]
  },
  {
   "cell_type": "code",
   "execution_count": null,
   "metadata": {
    "collapsed": false
   },
   "outputs": [],
   "source": [
    "%cd ~/data\n",
    "print \"!ls -F\"\n",
    "!ls -F\n",
    "print \"!ls ../\"\n",
    "!ls ../"
   ]
  },
  {
   "cell_type": "markdown",
   "metadata": {},
   "source": [
    "### Symbolic links"
   ]
  },
  {
   "cell_type": "code",
   "execution_count": null,
   "metadata": {
    "collapsed": false
   },
   "outputs": [],
   "source": [
    "# \"scripts\" and \"data\" are not actual directories, rather they are symbolic links to directories\n",
    "%cd ~/data/\n",
    "!ls *"
   ]
  },
  {
   "cell_type": "code",
   "execution_count": null,
   "metadata": {
    "collapsed": false
   },
   "outputs": [],
   "source": [
    "# Symbolic links are created by the command \"ln -s\" \n",
    "# Here we create a link from the home directory to the directory DSE200/data/NLTK/Chopped\n",
    "%cd ~\n",
    "!ln -s DSE200/data/NLTK/Chopped minced\n",
    "!ls -l minced\n",
    "# the unix command \"cat\" prints out the contents of a file.\n",
    "!cat minced/F0"
   ]
  },
  {
   "cell_type": "code",
   "execution_count": null,
   "metadata": {
    "collapsed": false
   },
   "outputs": [],
   "source": [
    "%cd minced/\n",
    "!pwd"
   ]
  },
  {
   "cell_type": "markdown",
   "metadata": {},
   "source": [
    "### Creating files and directories"
   ]
  },
  {
   "cell_type": "code",
   "execution_count": null,
   "metadata": {
    "collapsed": false
   },
   "outputs": [],
   "source": [
    "# to create a directory, use `mkdir`\n",
    "!mkdir ~/tmp\n",
    "%cd ~/tmp\n",
    "!ls"
   ]
  },
  {
   "cell_type": "code",
   "execution_count": null,
   "metadata": {
    "collapsed": false
   },
   "outputs": [],
   "source": [
    "# to create a file or update the time-stamp of the file use `touch`\n",
    "for i in range(10):\n",
    "    !touch file$i\n",
    "!ls -l"
   ]
  },
  {
   "cell_type": "markdown",
   "metadata": {},
   "source": [
    "### Moving and copying files"
   ]
  },
  {
   "cell_type": "code",
   "execution_count": null,
   "metadata": {
    "collapsed": false
   },
   "outputs": [],
   "source": [
    "%cd ~/tmp\n",
    "!ls"
   ]
  },
  {
   "cell_type": "code",
   "execution_count": null,
   "metadata": {
    "collapsed": false
   },
   "outputs": [],
   "source": [
    "%cd ~/DSE200/DSE200-notebooks-2015/data/NLTK/Chopped/\n",
    "!ls"
   ]
  },
  {
   "cell_type": "code",
   "execution_count": null,
   "metadata": {
    "collapsed": false
   },
   "outputs": [],
   "source": [
    "!cat F138"
   ]
  },
  {
   "cell_type": "code",
   "execution_count": null,
   "metadata": {
    "collapsed": false
   },
   "outputs": [],
   "source": [
    "\n",
    "# cp copies a file to a new location, maintaining the original copy\n",
    "!mkdir tmp\n",
    "!cp F87 tmp   # copy a file to a new location, maintaining the name\n",
    "!cp F87 tmp/newname # copy a file to a new location + name\n",
    "!ls -l F87 tmp"
   ]
  },
  {
   "cell_type": "code",
   "execution_count": null,
   "metadata": {
    "collapsed": false
   },
   "outputs": [],
   "source": [
    "55+2"
   ]
  },
  {
   "cell_type": "code",
   "execution_count": null,
   "metadata": {
    "collapsed": false
   },
   "outputs": [],
   "source": [
    "In"
   ]
  },
  {
   "cell_type": "code",
   "execution_count": null,
   "metadata": {
    "collapsed": false
   },
   "outputs": [],
   "source": [
    "# you can also copy a whole directory and all it's subdirectories\n",
    "#!cp -r tmp newtmp\n",
    "!ls tmp/"
   ]
  },
  {
   "cell_type": "code",
   "execution_count": null,
   "metadata": {
    "collapsed": false
   },
   "outputs": [],
   "source": [
    "# mv moves a file, or a whole directory, to a new location or a new name.\n",
    "# it just manipulates pointers, so it is much faster than copy. (similar to \n",
    "# the difference between deep and shallow copy in python)\n",
    "!mv newtmp tmp # move directory to a new location\n",
    "!ls tmp/*"
   ]
  },
  {
   "cell_type": "code",
   "execution_count": null,
   "metadata": {
    "collapsed": false
   },
   "outputs": [],
   "source": [
    "# mv file or directory to a new name (=rename)\n",
    "!mv tmp/newname tmp/newername\n",
    "!ls tmp/*"
   ]
  },
  {
   "cell_type": "code",
   "execution_count": null,
   "metadata": {
    "collapsed": false
   },
   "outputs": [],
   "source": [
    "#cleanup\n",
    "!rm -r tmp"
   ]
  },
  {
   "cell_type": "markdown",
   "metadata": {},
   "source": [
    "### Removing files and directories"
   ]
  },
  {
   "cell_type": "code",
   "execution_count": null,
   "metadata": {
    "collapsed": false
   },
   "outputs": [],
   "source": [
    "\n",
    "# to remove a file use the command `rm`\n",
    "for i in range(1,10,2):\n",
    "    !rm file$i\n",
    "!ls -l"
   ]
  },
  {
   "cell_type": "code",
   "execution_count": null,
   "metadata": {
    "collapsed": false
   },
   "outputs": [],
   "source": [
    "# to remove an empry directory, use 'rmdir'\n",
    "# If you want to remove a directory and everything that is in it use `rm -rf`. Note that this\n",
    "# is an irreversible action, it is NOT like moving a file to the trash bin.\n",
    "%cd ~\n",
    "!rm -rf tmp\n",
    "!ls -l tmp"
   ]
  },
  {
   "cell_type": "markdown",
   "metadata": {},
   "source": [
    "### Groups and Unix File Permissions\n",
    "\n",
    "It is often the case that a file should not be readable/writeable by all users of a machine (IE private data, system configuration).  \n",
    "To enforce this there are a number of file properties which UNIX enforces.\n",
    "\n",
    "Each user falls into one of three relationships with the file:\n",
    "\n",
    "* **Owner** - The user who created the file and is able to modify permissions\n",
    "* **Group** - The user is in a the user group assigned to the file (we won't talk about this much)\n",
    "* **World** - Everybody else\n",
    "\n",
    "Each file has three permissions for each of these user sets:\n",
    "\n",
    "* **Read**  - The ability to view the file's contents\n",
    "* **Write** - The ability to modify the file\n",
    "* **Execute** - The ability to run the file (if it is a script or program).  \n",
    "\n",
    "Since there are three user sets and three permissions, there are 9 distinct true/false permissions which can be granted.  Thus each file has 9 bits to define these permissions.\n",
    "\n",
    "#### Viewing permissions\n",
    "\n",
    "To view permissions of a file use the -l option for ls"
   ]
  },
  {
   "cell_type": "code",
   "execution_count": null,
   "metadata": {
    "collapsed": false
   },
   "outputs": [],
   "source": [
    "#First we create some files:\n",
    "#Disregard the chmod command for now\n",
    "!mkdir examples\n",
    "%cd examples\n",
    "!touch NoPermissions\n",
    "!chmod 000 NoPermissions \n",
    "!touch AllRead\n",
    "!chmod 444 AllRead \n",
    "!touch FullPermission\n",
    "!chmod 777 FullPermission \n",
    "!touch OwnerOnly\n",
    "!chmod 700 OwnerOnly \n",
    "!touch GroupOnly\n",
    "!chmod 070 GroupOnly \n",
    "!touch WorldOnly\n",
    "!chmod 007 WorldOnly \n",
    "\n",
    "#Now we list the permissions of the files\n",
    "!ls -l\n",
    "\n",
    "#Return to old working directory\n",
    "%cd ../\n"
   ]
  },
  {
   "cell_type": "markdown",
   "metadata": {},
   "source": [
    "In the first column of the output you see dashes for ungranted permissions and letters (r, w, or x) for granted permissions.  \n",
    "\n",
    "Lets break this down:\n",
    "\n",
    "| Bit | Definition |\n",
    "|---|------------------|\n",
    "| 1 | Sticky Bit\\* |\n",
    "| 2 | Owner Read |\n",
    "| 3 | Owner Write |\n",
    "| 4 | Owner Execute |\n",
    "| 5 | Group Read |\n",
    "| 6 | Group Write |\n",
    "| 7 | Group Execute |\n",
    "| 8 | World Read |\n",
    "| 9 | World Write |\n",
    "| 10| World Execute |\n",
    "\n",
    "\\* The sticky bit is a special permission we won't be going into\n",
    "\n",
    "Since you have three groups of three binary permissions, a common way to refer to permissions is via the octal representation of bits 2-10.  This yields a 3 digit octal number with the left most digit being owner permissions, middle digit group permissions, and right most bit the world permissions.\n",
    "\n",
    "For example: -r--rw---x translates to 461 in octal\n",
    "\n",
    "#### Changing Permissions\n",
    "\n",
    "To change permissions, the owner of a file can use the command *chmod*.  The main use case is you specify the octal code of your desired permissions followed by the file name.  For examples of this look at the code we used to create the files above."
   ]
  },
  {
   "cell_type": "markdown",
   "metadata": {},
   "source": [
    "## manual pages"
   ]
  },
  {
   "cell_type": "code",
   "execution_count": null,
   "metadata": {
    "collapsed": false
   },
   "outputs": [],
   "source": [
    "%man ls"
   ]
  },
  {
   "cell_type": "markdown",
   "metadata": {},
   "source": [
    "## Exploring the computer"
   ]
  },
  {
   "cell_type": "code",
   "execution_count": null,
   "metadata": {
    "collapsed": false
   },
   "outputs": [],
   "source": [
    "# Find out which version of Ubuntu you are running \n",
    "!lsb_release -a"
   ]
  },
  {
   "cell_type": "code",
   "execution_count": null,
   "metadata": {
    "collapsed": false
   },
   "outputs": [],
   "source": [
    "# find out about the hardware\n",
    "!cat /proc/cpuinfo"
   ]
  },
  {
   "cell_type": "code",
   "execution_count": null,
   "metadata": {
    "collapsed": false
   },
   "outputs": [],
   "source": [
    "# find out how much memory you are using\n",
    "!free -m"
   ]
  },
  {
   "cell_type": "code",
   "execution_count": null,
   "metadata": {
    "collapsed": false
   },
   "outputs": [],
   "source": [
    "# find out how much disk space you are using\n",
    "!df -h"
   ]
  },
  {
   "cell_type": "code",
   "execution_count": null,
   "metadata": {
    "collapsed": false
   },
   "outputs": [],
   "source": [
    "#find out which directories consume most of this disk space\n",
    "%cd ~\n",
    "!du -s * | sort nrt"
   ]
  },
  {
   "cell_type": "code",
   "execution_count": null,
   "metadata": {
    "collapsed": false
   },
   "outputs": [],
   "source": [
    "!ls -a .ipynb_checkpoints/"
   ]
  },
  {
   "cell_type": "code",
   "execution_count": null,
   "metadata": {
    "collapsed": false
   },
   "outputs": [],
   "source": [
    "# based on what we see here, we check the directory anaconda\n",
    "!du -s anaconda/*"
   ]
  },
  {
   "cell_type": "markdown",
   "metadata": {},
   "source": [
    "## analyzing data\n",
    "head, tail, more, grep, wc, sort, cut (awk)"
   ]
  },
  {
   "cell_type": "code",
   "execution_count": null,
   "metadata": {
    "collapsed": false
   },
   "outputs": [],
   "source": [
    "%cd ~/DSE200/DSE200-notebooks-2015/data/ThinkStatsData/\n",
    "!ls"
   ]
  },
  {
   "cell_type": "code",
   "execution_count": null,
   "metadata": {
    "collapsed": false
   },
   "outputs": [],
   "source": [
    "# print the number of lines, words and characters in each file\n",
    "!wc *"
   ]
  },
  {
   "cell_type": "code",
   "execution_count": null,
   "metadata": {
    "collapsed": false
   },
   "outputs": [],
   "source": [
    "# print the first 2 lines of a file\n",
    "!head -2 2002FemPreg.dat"
   ]
  },
  {
   "cell_type": "code",
   "execution_count": null,
   "metadata": {
    "collapsed": false
   },
   "outputs": [],
   "source": [
    "## This list of tuples defines the names and locations of the elements.\n",
    "fields=[\n",
    "    ('caseid', 1, 12, int),\n",
    "    ('nbrnaliv', 22, 22, int),\n",
    "    ('babysex', 56, 56, int),\n",
    "    ('birthwgt_lb', 57, 58, int),\n",
    "    ('birthwgt_oz', 59, 60, int),\n",
    "    ('prglength', 275, 276, int),\n",
    "    ('outcome', 277, 277, int),\n",
    "    ('birthord', 278, 279, int),\n",
    "    ('agepreg', 284, 287, int),\n",
    "    ('finalwgt', 423, 440, float),\n",
    "]"
   ]
  },
  {
   "cell_type": "code",
   "execution_count": null,
   "metadata": {
    "collapsed": false
   },
   "outputs": [],
   "source": [
    "## Lets transform it into a dictionary whose keys are the names of the field\n",
    "fields_dict={name:(f,t,typ) for (name,f,t,typ) in fields}\n",
    "fields_dict"
   ]
  },
  {
   "cell_type": "code",
   "execution_count": null,
   "metadata": {
    "collapsed": false
   },
   "outputs": [],
   "source": [
    "# print the lines that contain a particular string\n",
    "string='3116'\n",
    "!grep $string 2002FemPreg.dat"
   ]
  },
  {
   "cell_type": "code",
   "execution_count": null,
   "metadata": {
    "collapsed": false
   },
   "outputs": [],
   "source": [
    "#suppose we just want to know how many lines have this string inside them.\n",
    "# this is our first use of pipes\n",
    "#the output from grep serves as the input to wc\n",
    "!wc 2002FemPreg.dat\n",
    "!grep $string 2002FemPreg.dat | wc"
   ]
  },
  {
   "cell_type": "code",
   "execution_count": null,
   "metadata": {
    "collapsed": false
   },
   "outputs": [],
   "source": [
    "#cut is a command that cuts specific fields from from each line \n",
    "%man cut"
   ]
  },
  {
   "cell_type": "code",
   "execution_count": null,
   "metadata": {
    "collapsed": false
   },
   "outputs": [],
   "source": [
    "# Extract from each line a specific field\n",
    "field='babysex'\n",
    "(fr,to,typ)=fields_dict[field]\n",
    "Range=str(fr-1)+'-'+str(to)\n",
    "print field,fr,to,Range\n",
    "!cut -c $Range 2002FemPreg.dat | head -5"
   ]
  },
  {
   "cell_type": "code",
   "execution_count": null,
   "metadata": {
    "collapsed": false
   },
   "outputs": [],
   "source": [
    "# lets sort these lines numerically, and look at the end, also known as the tail\n",
    "!cut -c $Range 2002FemPreg.dat | sort -n | tail"
   ]
  },
  {
   "cell_type": "code",
   "execution_count": null,
   "metadata": {
    "collapsed": false
   },
   "outputs": [],
   "source": [
    "#count the number of times each value appears using uniq\n",
    "!cut -c $Range 2002FemPreg.dat | sort -n | uniq -c"
   ]
  },
  {
   "cell_type": "code",
   "execution_count": null,
   "metadata": {
    "collapsed": false
   },
   "outputs": [],
   "source": [
    "# do the same thing but using an intermediary file\n",
    "!cut -c $Range 2002FemPreg.dat > cut$Range\n",
    "print 'head of cut',Range\n",
    "!head cut$Range\n",
    "!ls\n",
    "print 'output from uniq'\n",
    "!cat cut$Range | sort -n | uniq -c"
   ]
  },
  {
   "cell_type": "markdown",
   "metadata": {},
   "source": [
    "## Environment variables\n",
    "\n",
    "Environment variables are strings that define the set up of the session. Environment variables allow the user to avoid\n",
    "retyping the same parameters over and over."
   ]
  },
  {
   "cell_type": "code",
   "execution_count": null,
   "metadata": {
    "collapsed": false
   },
   "outputs": [],
   "source": [
    "#view all of the currently defined environment variable\n",
    "%env"
   ]
  },
  {
   "cell_type": "code",
   "execution_count": null,
   "metadata": {
    "collapsed": false
   },
   "outputs": [],
   "source": [
    "#view the valuse of a particular variables \n",
    "!echo 'hello world!'\n",
    "!echo $HOME $USER"
   ]
  },
  {
   "cell_type": "code",
   "execution_count": null,
   "metadata": {
    "collapsed": false
   },
   "outputs": [],
   "source": [
    "#The $ symbol is required as a prefix of the variable names\n",
    "#When used inside ipython, this $ can be used to refer to any currently defined variable\n",
    "i=25\n",
    "!echo $i"
   ]
  },
  {
   "cell_type": "code",
   "execution_count": null,
   "metadata": {
    "collapsed": false
   },
   "outputs": [],
   "source": [
    "#Particularly important are environment variables called \"paths\"\n",
    "!env | grep -i path"
   ]
  },
  {
   "cell_type": "code",
   "execution_count": null,
   "metadata": {
    "collapsed": false
   },
   "outputs": [],
   "source": [
    "# The path defines where the system will look for commands and in what order.\n",
    "# PATH tells the unix shell (bash) where to find the executables corresponding to commands\n",
    "# while PYTHONPATH tells python from where to `import` packages.\n",
    "# lets see where unix finds the command \"sort\"\n",
    "!which sort\n",
    "# Check on the variable PATH and you will see that /usr/bin is on it."
   ]
  },
  {
   "cell_type": "code",
   "execution_count": null,
   "metadata": {
    "collapsed": false
   },
   "outputs": [],
   "source": [
    "# You can also find all of the places along the path that have a definition relevant to sort\n",
    "!whereis sort\n",
    "# The last one is the manual page for sort which you can view using the command %man sort"
   ]
  },
  {
   "cell_type": "markdown",
   "metadata": {},
   "source": [
    "#### Excercise \n",
    "find where the location of the commands `python`,`ipython` and `mail`"
   ]
  },
  {
   "cell_type": "code",
   "execution_count": null,
   "metadata": {
    "collapsed": false
   },
   "outputs": [],
   "source": [
    "!which jupyter"
   ]
  },
  {
   "cell_type": "markdown",
   "metadata": {},
   "source": [
    "## Wildcards and glob\n",
    "\n",
    "We have seen the most used wild-card `*`, which matches any sequence of (non blank) characters.\n",
    "For example `B*.py` will match any filename that starts with `B` and ends with `.py`.\n",
    "\n",
    "Other useful wildcards are:\n",
    "\n",
    "wild card | Description\n",
    "--------|--------------------------------------------------------   \n",
    "    `*`   |  An asterisk matches any number of characters in a filename, including none.\n",
    "    `?`   |  The question mark matches any single character.\n",
    "    `[ ]` |  Brackets enclose a set of characters, any one of which may match a single character at that position.\n",
    "    `-`   |  A hyphen used within [ ] denotes a range of characters.\n",
    "    `~`   |  A tilde at the beginning of a word expands to the name of your home directory.  If you append another user's login name to the character, it refers to that user's home directory.\n",
    "    \n",
    "**Here are some examples:**\n",
    "\n",
    "1. **cat c* ** list the content of any file whose name begins with c including the file c, if it exists.\n",
    "1. **ls *.c ** lists all files that have a .c extension.\n",
    "1. **cp ../rmt?. ** copies every file in the parent directory that is four characters long and begins with rmt to the working directory. (The names will remain the same.)\n",
    "1. **ls rmt[34567] ** lists every file that begins with rmt and has a 3, 4, 5, 6, or 7 at the end.\n",
    "1. **ls rmt[3-7] ** does exactly the same thing as the previous example.\n",
    "1. **ls ~ ** lists your home directory.\n",
    "1. **ls ~hessen ** lists the home directory of the guy1 with the user id hessen."
   ]
  },
  {
   "cell_type": "markdown",
   "metadata": {},
   "source": [
    "#### within python, use glob()\n",
    "\n",
    "You get the same functionality as wildcards by using the function `glob`, but instead of getting the result printed out, you get it as a list of strings."
   ]
  },
  {
   "cell_type": "code",
   "execution_count": null,
   "metadata": {
    "collapsed": false
   },
   "outputs": [],
   "source": [
    "!ls -d li* # do not descent into directories\n",
    "from glob import glob\n",
    "L=glob('pickle*')\n",
    "L"
   ]
  },
  {
   "cell_type": "markdown",
   "metadata": {},
   "source": [
    "## Loading and saving files\n",
    "\n",
    "It is often useful to load short files into the notebook, alter them, and save them back into the file system. The magics `%load` and `%%writefile` are used to do that.\n"
   ]
  },
  {
   "cell_type": "code",
   "execution_count": null,
   "metadata": {
    "collapsed": false
   },
   "outputs": [],
   "source": [
    "!ls"
   ]
  },
  {
   "cell_type": "code",
   "execution_count": null,
   "metadata": {
    "collapsed": false
   },
   "outputs": [],
   "source": [
    "# %load survey.pl\n",
    "\"\"\"This file contains code for use with \"Think Stats\",\n",
    "by Allen B. Downey, available from greenteapress.com\n",
    "\n",
    "Copyright 2010 Allen B. Downey\n",
    "License: GNU GPLv3 http://www.gnu.org/licenses/gpl.html\n",
    "\"\"\"\n",
    "\n",
    "import sys\n",
    "import gzip\n",
    "import os\n",
    "\n",
    "class Record(object):\n",
    "    \"\"\"Represents a record.\"\"\"\n",
    "\n",
    "class Respondent(Record): \n",
    "    \"\"\"Represents a respondent.\"\"\"\n",
    "\n",
    "class Pregnancy(Record):\n",
    "    \"\"\"Represents a pregnancy.\"\"\"\n",
    "\n",
    "class Table(object):\n",
    "    \"\"\"Represents a table as a list of objects\"\"\"\n",
    "\n",
    "    def __init__(self):\n",
    "        self.records = []\n",
    "        \n",
    "    def __len__(self):\n",
    "        return len(self.records)\n",
    "\n",
    "    def ReadFile(self, data_dir, filename, fields, constructor, n=None):\n",
    "        \"\"\"Reads a compressed data file builds one object per record.\n",
    "\n",
    "        Args:\n",
    "            data_dir: string directory name\n",
    "            filename: string name of the file to read\n",
    "\n",
    "            fields: sequence of (name, start, end, case) tuples specifying \n",
    "            the fields to extract\n",
    "\n",
    "            constructor: what kind of object to create\n",
    "        \"\"\"\n",
    "        filename = os.path.join(data_dir, filename)\n",
    "\n",
    "        if filename.endswith('gz'):\n",
    "            fp = gzip.open(filename)\n",
    "        else:\n",
    "            fp = open(filename)\n",
    "\n",
    "        for i, line in enumerate(fp):\n",
    "            if i == n:\n",
    "                break\n",
    "            record = self.MakeRecord(line, fields, constructor)\n",
    "            self.AddRecord(record)\n",
    "        fp.close()\n",
    "\n",
    "    def MakeRecord(self, line, fields, constructor):\n",
    "        \"\"\"Scans a line and returns an object with the appropriate fields.\n",
    "\n",
    "        Args:\n",
    "            line: string line from a data file\n",
    "\n",
    "            fields: sequence of (name, start, end, cast) tuples specifying \n",
    "            the fields to extract\n",
    "\n",
    "            constructor: callable that makes an object for the record.\n",
    "\n",
    "        Returns:\n",
    "            Record with appropriate fields.\n",
    "        \"\"\"\n",
    "        obj = constructor()\n",
    "        for (field, start, end, cast) in fields:\n",
    "            try:\n",
    "                s = line[start-1:end]\n",
    "                val = cast(s)\n",
    "            except ValueError:\n",
    "                #print line\n",
    "                #print field, start, end, s\n",
    "                val = 'NA'\n",
    "            setattr(obj, field, val)\n",
    "        return obj\n",
    "\n",
    "    def AddRecord(self, record):\n",
    "        \"\"\"Adds a record to this table.\n",
    "\n",
    "        Args:\n",
    "            record: an object of one of the record types.\n",
    "        \"\"\"\n",
    "        self.records.append(record)\n",
    "\n",
    "    def ExtendRecords(self, records):\n",
    "        \"\"\"Adds records to this table.\n",
    "\n",
    "        Args:\n",
    "            records: a sequence of record object\n",
    "        \"\"\"\n",
    "        self.records.extend(records)\n",
    "\n",
    "    def Recode(self):\n",
    "        \"\"\"Child classes can override this to recode values.\"\"\"\n",
    "        pass\n",
    "\n",
    "\n",
    "class Respondents(Table):\n",
    "    \"\"\"Represents the respondent table.\"\"\"\n",
    "\n",
    "    def ReadRecords(self, data_dir='.', n=None):\n",
    "        filename = self.GetFilename()\n",
    "        self.ReadFile(data_dir, filename, self.GetFields(), Respondent, n)\n",
    "        self.Recode()\n",
    "\n",
    "    def GetFilename(self):\n",
    "        return '2002FemResp.dat.gz'\n",
    "\n",
    "    def GetFields(self):\n",
    "        \"\"\"Returns a tuple specifying the fields to extract.\n",
    "\n",
    "        The elements of the tuple are field, start, end, case.\n",
    "\n",
    "                field is the name of the variable\n",
    "                start and end are the indices as specified in the NSFG docs\n",
    "                cast is a callable that converts the result to int, float, etc.\n",
    "        \"\"\"\n",
    "        return [\n",
    "            ('caseid', 1, 12, int),\n",
    "            ]\n",
    "\n",
    "class Pregnancies(Table):\n",
    "    \"\"\"Contains survey data about a Pregnancy.\"\"\"\n",
    "\n",
    "    def ReadRecords(self, data_dir='.', n=None):\n",
    "        filename = self.GetFilename()\n",
    "        self.ReadFile(data_dir, filename, self.GetFields(), Pregnancy, n)\n",
    "        self.Recode()\n",
    "\n",
    "    def GetFilename(self):\n",
    "        return '2002FemPreg.dat.gz'\n",
    "\n",
    "    def GetFields(self):\n",
    "        \"\"\"Gets information about the fields to extract from the survey data.\n",
    "\n",
    "        Documentation of the fields for Cycle 6 is at\n",
    "        http://nsfg.icpsr.umich.edu/cocoon/WebDocs/NSFG/public/index.htm\n",
    "\n",
    "        Returns:\n",
    "            sequence of (name, start, end, type) tuples\n",
    "        \"\"\"\n",
    "        return [\n",
    "            ('caseid', 1, 12, int),\n",
    "            ('nbrnaliv', 22, 22, int),\n",
    "            ('babysex', 56, 56, int),\n",
    "            ('birthwgt_lb', 57, 58, int),\n",
    "            ('birthwgt_oz', 59, 60, int),\n",
    "            ('prglength', 275, 276, int),\n",
    "            ('outcome', 277, 277, int),\n",
    "            ('birthord', 278, 279, int),\n",
    "            ('agepreg', 284, 287, int),\n",
    "            ('finalwgt', 423, 440, float),\n",
    "            ]\n",
    "\n",
    "    def Recode(self):\n",
    "        for rec in self.records:\n",
    "\n",
    "            # divide mother's age by 100\n",
    "            try:\n",
    "                if rec.agepreg != 'NA':\n",
    "                    rec.agepreg /= 100.0\n",
    "            except AttributeError:\n",
    "                pass\n",
    "\n",
    "            # convert weight at birth from lbs/oz to total ounces\n",
    "            # note: there are some very low birthweights\n",
    "            # that are almost certainly errors, but for now I am not\n",
    "            # filtering\n",
    "            try:\n",
    "                if (rec.birthwgt_lb != 'NA' and rec.birthwgt_lb < 20 and\n",
    "                    rec.birthwgt_oz != 'NA' and rec.birthwgt_oz <= 16):\n",
    "                    rec.totalwgt_oz = rec.birthwgt_lb * 16 + rec.birthwgt_oz\n",
    "                else:\n",
    "                    rec.totalwgt_oz = 'NA'\n",
    "            except AttributeError:\n",
    "                pass\n",
    "\n",
    "\n",
    "def main(name, data_dir='.'):\n",
    "    resp = Respondents()\n",
    "    resp.ReadRecords(data_dir)\n",
    "    print 'Number of respondents', len(resp.records)\n",
    "\n",
    "    preg = Pregnancies()\n",
    "    preg.ReadRecords(data_dir)\n",
    "    print 'Number of pregnancies', len(preg.records)\n",
    "\n",
    "    \n",
    "if __name__ == '__main__':\n",
    "    main(*sys.argv)\n"
   ]
  },
  {
   "cell_type": "markdown",
   "metadata": {},
   "source": [
    "## Processes\n",
    "\n",
    "A process is a sequence of commands that are executed in sequence, one after the other.\n",
    "By using \"time sharing\" a single CPU can compute many processes at the same time, frequently switching from one process to the next. In a multi-core machine, there are several CPUs and so even more processes can execute at the same time."
   ]
  },
  {
   "cell_type": "code",
   "execution_count": null,
   "metadata": {
    "collapsed": false
   },
   "outputs": [],
   "source": [
    "# You can find out the current processes on your system using the command \"top\"\n",
    "# without flags, the command will open a window that will constantly update and that also\n",
    "# allows you to quit (or kill) processes. Here we use the flags to specify that top should only run once.\n",
    "!top -b -n 1"
   ]
  },
  {
   "cell_type": "markdown",
   "metadata": {},
   "source": [
    "## Pipes\n",
    "We used pipes above to communicate between two or more unix commands.\n",
    "We now discuss this in more detail.\n",
    "\n",
    "Unix processes have three default input and output channels\n",
    "* **stdin** the standard input channel - by default - the keyboard\n",
    "* **stdout** the standard output channel - by default - the terminal.\n",
    "* **stderr** the standard error channel - by default - the terminal.\n",
    "\n",
    "Channels can be used to connect programs to each other and to connect programs and files. This is called **I/O redirection**.\n",
    "\n",
    "Connecting a standard channel to files is done using the following symbols\n",
    "(in bash, which is the standard shell in both ubuntu and os-x).\n",
    "\n",
    "| command      | result |\n",
    "|--------------|-----------------------------------------------------|\n",
    "| < filename   | Redirect stdin to read from the file \"filename\" |\n",
    "| > filename  | Redirect stdout to file \"filename.\" |\n",
    "| >>filename  | Redirect and append stdout to file \"filename.\" |\n",
    "| 1>filename   | Redirect stdout to file \"filename.\" |\n",
    "| 1>>filename  | Redirect and append stdout to file \"filename.\" |\n",
    "| 2>filename   | Redirect stderr to file \"filename.\" |\n",
    "| 2>>filename  | Redirect and append stderr to file \"filename.\" |\n",
    "| &>filename   | Redirect both stdout and stderr to file \"filename.\" |\n"
   ]
  },
  {
   "cell_type": "code",
   "execution_count": null,
   "metadata": {
    "collapsed": false
   },
   "outputs": [],
   "source": [
    "# One of the most basic unix command is cat\n",
    "%cd ~\n",
    "!cat < .bash_login"
   ]
  },
  {
   "cell_type": "code",
   "execution_count": null,
   "metadata": {
    "collapsed": false
   },
   "outputs": [],
   "source": [
    "# echo is another basic command, it pipes the string it gets as a parameter to std-out\n",
    "# To create a file with some specific line we can use\n",
    "!echo \"MAS-DSE is the best\" | cat > \"MAS-FILE\"\n",
    "!ls MAS*\n",
    "!cat MAS-FILE\n",
    "!rm MAS-FILE"
   ]
  },
  {
   "cell_type": "code",
   "execution_count": null,
   "metadata": {
    "collapsed": false
   },
   "outputs": [],
   "source": [
    "# some time we want to supress the error messages.\n",
    "# To do that we redirect stderr to a fictitious file called /dev/null\n",
    "# In addition, we can take the output and sort it (numerically, in reverse) according to the size\n",
    "!du -s /Users/yoavfreund/DSE200/* | sort -nr\n",
    "\n"
   ]
  }
 ],
 "metadata": {
  "kernelspec": {
   "display_name": "Python 2",
   "language": "python",
   "name": "python2"
  },
  "language_info": {
   "codemirror_mode": {
    "name": "ipython",
    "version": 2
   },
   "file_extension": ".py",
   "mimetype": "text/x-python",
   "name": "python",
   "nbconvert_exporter": "python",
   "pygments_lexer": "ipython2",
   "version": "2.7.12"
  }
 },
 "nbformat": 4,
 "nbformat_minor": 0
}
